{
  "nbformat": 4,
  "nbformat_minor": 0,
  "metadata": {
    "colab": {
      "name": "Lambda 29.11.2021.ipynb",
      "provenance": [],
      "collapsed_sections": [],
      "authorship_tag": "ABX9TyNyJFdcHL04QOaQGnqdqsAs",
      "include_colab_link": true
    },
    "kernelspec": {
      "name": "python3",
      "display_name": "Python 3"
    },
    "language_info": {
      "name": "python"
    }
  },
  "cells": [
    {
      "cell_type": "markdown",
      "metadata": {
        "id": "view-in-github",
        "colab_type": "text"
      },
      "source": [
        "<a href=\"https://colab.research.google.com/github/metindrk/Python-Assignment/blob/main/Lambda_29_11_2021.ipynb\" target=\"_parent\"><img src=\"https://colab.research.google.com/assets/colab-badge.svg\" alt=\"Open In Colab\"/></a>"
      ]
    },
    {
      "cell_type": "code",
      "metadata": {
        "colab": {
          "base_uri": "https://localhost:8080/"
        },
        "id": "bxpzyKzu6oxK",
        "outputId": "330440ba-dbba-4927-99d6-f87559dfb834"
      },
      "source": [
        "\"\"\" LAMBDA FUNCTİONS\"\"\"\n",
        "\n",
        "\n",
        "lambda x : \"odd\" if x % 2 != 0 else \"even\""
      ],
      "execution_count": 1,
      "outputs": [
        {
          "output_type": "execute_result",
          "data": {
            "text/plain": [
              "<function __main__.<lambda>>"
            ]
          },
          "metadata": {},
          "execution_count": 1
        }
      ]
    },
    {
      "cell_type": "code",
      "metadata": {
        "colab": {
          "base_uri": "https://localhost:8080/"
        },
        "id": "9ns995Pk9XEW",
        "outputId": "bdda71d5-5aa7-4dcb-d2a1-53a2f1b89249"
      },
      "source": [
        "numbers = [1,2,3,4,5,6]\n",
        "for a in numbers :\n",
        "    print(a, \":\", (lambda x : \"odd\" if x % 2 != 0 else \"even\")(a))"
      ],
      "execution_count": 17,
      "outputs": [
        {
          "output_type": "stream",
          "name": "stdout",
          "text": [
            "1 : odd\n",
            "2 : even\n",
            "3 : odd\n",
            "4 : even\n",
            "5 : odd\n",
            "6 : even\n"
          ]
        }
      ]
    },
    {
      "cell_type": "code",
      "metadata": {
        "id": "w8JNkg0d-AKi"
      },
      "source": [
        "for i in liste :\n",
        "  print(i, \":\" , (lambda x : \"odd\" if x  % 2 != 0 else \"even\")(a))"
      ],
      "execution_count": null,
      "outputs": []
    },
    {
      "cell_type": "code",
      "metadata": {
        "colab": {
          "base_uri": "https://localhost:8080/",
          "height": 35
        },
        "id": "se8w_wsN6pQ8",
        "outputId": "1ddfaefd-2138-4565-c8bc-f823bdd4c850"
      },
      "source": [
        "(lambda x : \"odd\" if x % 2 != 0 else \"even\") (2)"
      ],
      "execution_count": 2,
      "outputs": [
        {
          "output_type": "execute_result",
          "data": {
            "application/vnd.google.colaboratory.intrinsic+json": {
              "type": "string"
            },
            "text/plain": [
              "'even'"
            ]
          },
          "metadata": {},
          "execution_count": 2
        }
      ]
    },
    {
      "cell_type": "code",
      "metadata": {
        "colab": {
          "base_uri": "https://localhost:8080/",
          "height": 35
        },
        "id": "gYgvmleA6pTl",
        "outputId": "7c9a971a-a077-484b-86a9-b3b9d27ca4c5"
      },
      "source": [
        "(lambda x : \"odd\" if x % 2 != 0 else \"even\") (3)"
      ],
      "execution_count": 4,
      "outputs": [
        {
          "output_type": "execute_result",
          "data": {
            "application/vnd.google.colaboratory.intrinsic+json": {
              "type": "string"
            },
            "text/plain": [
              "'odd'"
            ]
          },
          "metadata": {},
          "execution_count": 4
        }
      ]
    },
    {
      "cell_type": "code",
      "metadata": {
        "colab": {
          "base_uri": "https://localhost:8080/"
        },
        "id": "aWsKDvpr6pWT",
        "outputId": "440a651c-e5cf-43a6-c8fc-450f2770662b"
      },
      "source": [
        "lambda x :   x[::-1]"
      ],
      "execution_count": 5,
      "outputs": [
        {
          "output_type": "execute_result",
          "data": {
            "text/plain": [
              "<function __main__.<lambda>>"
            ]
          },
          "metadata": {},
          "execution_count": 5
        }
      ]
    },
    {
      "cell_type": "code",
      "metadata": {
        "colab": {
          "base_uri": "https://localhost:8080/",
          "height": 35
        },
        "id": "RBtTBpv26pZI",
        "outputId": "e71fb57b-d0de-4ae1-c915-b2e713845875"
      },
      "source": [
        "(lambda x :   x[::-1]) (\"ali\")"
      ],
      "execution_count": 8,
      "outputs": [
        {
          "output_type": "execute_result",
          "data": {
            "application/vnd.google.colaboratory.intrinsic+json": {
              "type": "string"
            },
            "text/plain": [
              "'ila'"
            ]
          },
          "metadata": {},
          "execution_count": 8
        }
      ]
    },
    {
      "cell_type": "code",
      "metadata": {
        "colab": {
          "base_uri": "https://localhost:8080/"
        },
        "id": "vhkC6J-R8fSM",
        "outputId": "c643a4ee-702a-4bac-ecdc-012271ccc796"
      },
      "source": [
        "(lambda x :   x[::-1]) ([1,2,3])"
      ],
      "execution_count": 10,
      "outputs": [
        {
          "output_type": "execute_result",
          "data": {
            "text/plain": [
              "[3, 2, 1]"
            ]
          },
          "metadata": {},
          "execution_count": 10
        }
      ]
    },
    {
      "cell_type": "code",
      "metadata": {
        "colab": {
          "base_uri": "https://localhost:8080/"
        },
        "id": "VixiR57h8fVA",
        "outputId": "0d40a604-607e-4166-fe1f-4b7012528090"
      },
      "source": [
        "(lambda x: [*reversed(x)])(\"ali\")"
      ],
      "execution_count": 11,
      "outputs": [
        {
          "output_type": "execute_result",
          "data": {
            "text/plain": [
              "['i', 'l', 'a']"
            ]
          },
          "metadata": {},
          "execution_count": 11
        }
      ]
    },
    {
      "cell_type": "code",
      "metadata": {
        "colab": {
          "base_uri": "https://localhost:8080/"
        },
        "id": "CjotNhSg8fYP",
        "outputId": "afb82a43-824b-4ce0-fdc6-e0140a99301d"
      },
      "source": [
        "(lambda a, b :  (a+b) / 2) (3, 5)"
      ],
      "execution_count": 14,
      "outputs": [
        {
          "output_type": "execute_result",
          "data": {
            "text/plain": [
              "4.0"
            ]
          },
          "metadata": {},
          "execution_count": 14
        }
      ]
    },
    {
      "cell_type": "code",
      "metadata": {
        "id": "4b4Tf5448fbq"
      },
      "source": [
        "finder = lambda x : \"odd\" if x % 2 != 0 else \"even\""
      ],
      "execution_count": 18,
      "outputs": []
    },
    {
      "cell_type": "code",
      "metadata": {
        "colab": {
          "base_uri": "https://localhost:8080/"
        },
        "id": "lm18Sty18fej",
        "outputId": "13e813cb-da05-4485-8e64-2594df2f2aee"
      },
      "source": [
        "print(finder(5))"
      ],
      "execution_count": 20,
      "outputs": [
        {
          "output_type": "stream",
          "name": "stdout",
          "text": [
            "odd\n"
          ]
        }
      ]
    },
    {
      "cell_type": "code",
      "metadata": {
        "id": "rOat8aG2_7TC"
      },
      "source": [
        "reverser = lambda x :   x[::-1]"
      ],
      "execution_count": 21,
      "outputs": []
    },
    {
      "cell_type": "code",
      "metadata": {
        "colab": {
          "base_uri": "https://localhost:8080/"
        },
        "id": "FZyChyJa_7Wg",
        "outputId": "6257204e-2f42-4572-8fa3-f2ce1b923ddf"
      },
      "source": [
        "reverser([3,2,5,6])"
      ],
      "execution_count": 23,
      "outputs": [
        {
          "output_type": "execute_result",
          "data": {
            "text/plain": [
              "[6, 5, 2, 3]"
            ]
          },
          "metadata": {},
          "execution_count": 23
        }
      ]
    },
    {
      "cell_type": "code",
      "metadata": {
        "id": "ShzooNso_7cM"
      },
      "source": [
        ""
      ],
      "execution_count": null,
      "outputs": []
    },
    {
      "cell_type": "code",
      "metadata": {
        "id": "RR1kE-rD_7fz"
      },
      "source": [
        "fonksiyon = lambda x :  x**2\n",
        "iterable = [1, 2, 3, 4]"
      ],
      "execution_count": 25,
      "outputs": []
    },
    {
      "cell_type": "code",
      "metadata": {
        "colab": {
          "base_uri": "https://localhost:8080/"
        },
        "id": "Zjh-A1HE_7h9",
        "outputId": "454d14f2-d065-40b6-afbf-d629beaacf06"
      },
      "source": [
        "sonuc = map(fonksiyon, iterable)\n",
        "print(* sonuc)"
      ],
      "execution_count": 29,
      "outputs": [
        {
          "output_type": "stream",
          "name": "stdout",
          "text": [
            "1 4 9 16\n"
          ]
        }
      ]
    },
    {
      "cell_type": "code",
      "metadata": {
        "id": "a6P0Rk5n_7kj"
      },
      "source": [
        "def kare(b) :\n",
        "    return b ** 2"
      ],
      "execution_count": 34,
      "outputs": []
    },
    {
      "cell_type": "code",
      "metadata": {
        "colab": {
          "base_uri": "https://localhost:8080/"
        },
        "id": "8Zb-G6w9_7md",
        "outputId": "e4cf7d63-b595-4271-ccc1-2d1f395be6cd"
      },
      "source": [
        "result2 = map(kare, iterable)\n",
        "print(* result2)"
      ],
      "execution_count": 35,
      "outputs": [
        {
          "output_type": "stream",
          "name": "stdout",
          "text": [
            "1 4 9 16\n"
          ]
        }
      ]
    },
    {
      "cell_type": "code",
      "metadata": {
        "id": "ip3XQ67MGYap"
      },
      "source": [
        "topla = lambda x, y, z : x + y + z"
      ],
      "execution_count": 37,
      "outputs": []
    },
    {
      "cell_type": "code",
      "metadata": {
        "colab": {
          "base_uri": "https://localhost:8080/",
          "height": 35
        },
        "id": "sLVUYVrKGYlG",
        "outputId": "ac7a9a8a-daea-4555-8346-1fee21e05934"
      },
      "source": [
        "topla(\"a\",\"l\",\"i\")"
      ],
      "execution_count": 38,
      "outputs": [
        {
          "output_type": "execute_result",
          "data": {
            "application/vnd.google.colaboratory.intrinsic+json": {
              "type": "string"
            },
            "text/plain": [
              "'ali'"
            ]
          },
          "metadata": {},
          "execution_count": 38
        }
      ]
    },
    {
      "cell_type": "code",
      "metadata": {
        "id": "O8fpUYSVGYot"
      },
      "source": [
        "num1 = [9, 6, 7, 4 ]\n",
        "num2 = [3, 6, 5, 8]"
      ],
      "execution_count": 40,
      "outputs": []
    },
    {
      "cell_type": "code",
      "metadata": {
        "id": "wdOZZWcGIJUT"
      },
      "source": [
        "func = lambda x, y : (x + y) / 2 "
      ],
      "execution_count": 41,
      "outputs": []
    },
    {
      "cell_type": "code",
      "metadata": {
        "colab": {
          "base_uri": "https://localhost:8080/"
        },
        "id": "mcrRxsZWGYr4",
        "outputId": "6a47498a-d9b7-4484-effb-dfb048d5b92c"
      },
      "source": [
        "numbers = map(func, num1, num2)\n",
        "print(list(numbers))"
      ],
      "execution_count": 45,
      "outputs": [
        {
          "output_type": "stream",
          "name": "stdout",
          "text": [
            "[6.0, 6.0, 6.0, 6.0]\n"
          ]
        }
      ]
    },
    {
      "cell_type": "code",
      "metadata": {
        "id": "rLpfYLuHGYvE"
      },
      "source": [
        "#numbers = map(multply, num1, num2)\n",
        "#print(list(numbers))"
      ],
      "execution_count": null,
      "outputs": []
    },
    {
      "cell_type": "code",
      "metadata": {
        "colab": {
          "base_uri": "https://localhost:8080/"
        },
        "id": "_A927Kr_GYyX",
        "outputId": "72a7715c-e2a1-456f-c705-21435393ead5"
      },
      "source": [
        "words1=[\"you\",\"much\",\"hard\"]\n",
        "words2=[\"i\",\"you\",\"he\"]\n",
        "words3=[\"love\", \"ate\",\"works\"]\n",
        "funk=map(lambda x, y, z : x + \" \" + y + \" \" + z, words2, words3, words1)\n",
        "print(list(funk))"
      ],
      "execution_count": 49,
      "outputs": [
        {
          "output_type": "stream",
          "name": "stdout",
          "text": [
            "['i love you', 'you ate much', 'he works hard']\n"
          ]
        }
      ]
    },
    {
      "cell_type": "code",
      "metadata": {
        "id": "9x5BFdggGY0-"
      },
      "source": [
        "words = [\"apple\", \"swim\", \"clock\", \"me\", \"kiwi\", \"banana\"]"
      ],
      "execution_count": 50,
      "outputs": []
    },
    {
      "cell_type": "code",
      "metadata": {
        "colab": {
          "base_uri": "https://localhost:8080/"
        },
        "id": "YI5ThHS-GY35",
        "outputId": "445d2f0e-d198-4a4a-e15c-cd30cedc9d92"
      },
      "source": [
        "words = [\"apple\", \"swim\", \"clock\", \"me\", \"kiwi\", \"banana\"]\n",
        "less_than_5 = filter(lambda x : len(x) < 5, words)\n",
        "print(\"Less than 5 letters words are ; \", list(less_than_5))"
      ],
      "execution_count": 52,
      "outputs": [
        {
          "output_type": "stream",
          "name": "stdout",
          "text": [
            "Less than 5 letters words are ;  ['swim', 'me', 'kiwi']\n"
          ]
        }
      ]
    },
    {
      "cell_type": "code",
      "metadata": {
        "colab": {
          "base_uri": "https://localhost:8080/"
        },
        "id": "9qxoYjNgGY67",
        "outputId": "e35dbf79-e38e-4bf1-c838-d3835c3534de"
      },
      "source": [
        "for i in filter(lambda x : len(x) < 5, words) :\n",
        "    print( i,  end=\" \")"
      ],
      "execution_count": 59,
      "outputs": [
        {
          "output_type": "stream",
          "name": "stdout",
          "text": [
            "swim me kiwi "
          ]
        }
      ]
    },
    {
      "cell_type": "code",
      "metadata": {
        "id": "Fj09EjKiGY9M"
      },
      "source": [
        "vowel_list = ['a', 'e', 'i', 'o', 'u']\n",
        "first_ten = ['a', 'b', 'c', 'd', 'e', 'f', 'g', 'h', 'i', 'j']"
      ],
      "execution_count": 60,
      "outputs": []
    },
    {
      "cell_type": "code",
      "metadata": {
        "colab": {
          "base_uri": "https://localhost:8080/"
        },
        "id": "iIuL9SrSGZAO",
        "outputId": "31e69d97-d91d-42ec-e526-8901db2c02df"
      },
      "source": [
        "\"a\" in vowel_list"
      ],
      "execution_count": 61,
      "outputs": [
        {
          "output_type": "execute_result",
          "data": {
            "text/plain": [
              "True"
            ]
          },
          "metadata": {},
          "execution_count": 61
        }
      ]
    },
    {
      "cell_type": "code",
      "metadata": {
        "colab": {
          "base_uri": "https://localhost:8080/"
        },
        "id": "tx0dcbvVUXif",
        "outputId": "69272c32-773a-44e0-932a-c0b4ccfa5085"
      },
      "source": [
        "vowels = filter(lambda x : x in vowel_list, first_ten)\n",
        "print(list(vowels))"
      ],
      "execution_count": 62,
      "outputs": [
        {
          "output_type": "stream",
          "name": "stdout",
          "text": [
            "['a', 'e', 'i']\n"
          ]
        }
      ]
    },
    {
      "cell_type": "code",
      "metadata": {
        "id": "O7Cw_ZB2UXlm"
      },
      "source": [
        "def modular(n) :\n",
        "    return lambda x : x * n\n"
      ],
      "execution_count": 75,
      "outputs": []
    },
    {
      "cell_type": "code",
      "metadata": {
        "id": "fJGjMokdUXot"
      },
      "source": [
        "karesinial = modular(2)"
      ],
      "execution_count": 76,
      "outputs": []
    },
    {
      "cell_type": "code",
      "metadata": {
        "colab": {
          "base_uri": "https://localhost:8080/"
        },
        "id": "_pAWZRfUUXr8",
        "outputId": "870db98b-0c9e-4838-bb36-463ac00250ab"
      },
      "source": [
        "karesinial"
      ],
      "execution_count": 77,
      "outputs": [
        {
          "output_type": "execute_result",
          "data": {
            "text/plain": [
              "<function __main__.modular.<locals>.<lambda>>"
            ]
          },
          "metadata": {},
          "execution_count": 77
        }
      ]
    },
    {
      "cell_type": "code",
      "metadata": {
        "colab": {
          "base_uri": "https://localhost:8080/"
        },
        "id": "dOHQ9i3EUXu3",
        "outputId": "a414f49c-93a9-4a2f-ab81-7a140817bd7b"
      },
      "source": [
        "(karesinial)(2)"
      ],
      "execution_count": 78,
      "outputs": [
        {
          "output_type": "execute_result",
          "data": {
            "text/plain": [
              "4"
            ]
          },
          "metadata": {},
          "execution_count": 78
        }
      ]
    },
    {
      "cell_type": "code",
      "metadata": {
        "id": "zVFbeT3nUXx_"
      },
      "source": [
        "kupunual = modular(3)"
      ],
      "execution_count": 79,
      "outputs": []
    },
    {
      "cell_type": "code",
      "metadata": {
        "colab": {
          "base_uri": "https://localhost:8080/"
        },
        "id": "88XWQND_UX0v",
        "outputId": "f18de085-011f-48ef-9d39-2ccb33f8358a"
      },
      "source": [
        "kupunual(3)"
      ],
      "execution_count": 80,
      "outputs": [
        {
          "output_type": "execute_result",
          "data": {
            "text/plain": [
              "9"
            ]
          },
          "metadata": {},
          "execution_count": 80
        }
      ]
    },
    {
      "cell_type": "code",
      "metadata": {
        "id": "l0Ny9xn_UX4A"
      },
      "source": [
        "def functioner(n) :\n",
        "    return lambda x : x * n"
      ],
      "execution_count": null,
      "outputs": []
    },
    {
      "cell_type": "code",
      "metadata": {
        "id": "fs7uIA4mUX6p"
      },
      "source": [
        "def functioner(n) :\n",
        "  return lambda x : print (x, \":)\"))"
      ],
      "execution_count": 81,
      "outputs": []
    },
    {
      "cell_type": "code",
      "metadata": {
        "id": "hWx9w3JsYhqE"
      },
      "source": [
        "def smile(n):\n",
        "    print(n + \" \" + \":)\")\n",
        "smile(\"hello\")\n",
        "def sad(n):\n",
        "    print(n + \" \" + \":(\")\n",
        "def neutral(n):\n",
        "    print(n + \" \" + \":|\")"
      ],
      "execution_count": null,
      "outputs": []
    },
    {
      "cell_type": "code",
      "metadata": {
        "colab": {
          "base_uri": "https://localhost:8080/"
        },
        "id": "WAa-W2KLYhsy",
        "outputId": "233f5a39-0a73-4c70-f2a6-4882518b33c3"
      },
      "source": [
        "(lambda x : print (x, \":)\")) (\"ali\")"
      ],
      "execution_count": 82,
      "outputs": [
        {
          "output_type": "stream",
          "name": "stdout",
          "text": [
            "ali :)\n"
          ]
        }
      ]
    },
    {
      "cell_type": "code",
      "metadata": {
        "colab": {
          "base_uri": "https://localhost:8080/"
        },
        "id": "W7uu2SPWYhvg",
        "outputId": "95c54b63-692a-4571-9bc7-236f4c8444ef"
      },
      "source": [
        "(lambda x : print (x, \":(\")) (\"ali\")"
      ],
      "execution_count": 83,
      "outputs": [
        {
          "output_type": "stream",
          "name": "stdout",
          "text": [
            "ali :(\n"
          ]
        }
      ]
    },
    {
      "cell_type": "code",
      "metadata": {
        "colab": {
          "base_uri": "https://localhost:8080/"
        },
        "id": "zcF1Kr_yYhyg",
        "outputId": "a1e1ec79-d262-456f-d465-d7ccbd9e935a"
      },
      "source": [
        "(lambda x : print (x, \":|\")) (\"ali\")"
      ],
      "execution_count": 84,
      "outputs": [
        {
          "output_type": "stream",
          "name": "stdout",
          "text": [
            "ali :|\n"
          ]
        }
      ]
    },
    {
      "cell_type": "code",
      "metadata": {
        "id": "9NukWycNYh1K"
      },
      "source": [
        "def functioner(emoji) :\n",
        "    return lambda x : print (x,  emoji)"
      ],
      "execution_count": 85,
      "outputs": []
    },
    {
      "cell_type": "code",
      "metadata": {
        "id": "y03F-bDMYh4E"
      },
      "source": [
        "myprint_smile = functioner(\":)\")\n",
        "myprint_sad = functioner(\":(\")\n",
        "myprint_neutral = functioner(\":|\")"
      ],
      "execution_count": 87,
      "outputs": []
    },
    {
      "cell_type": "code",
      "metadata": {
        "colab": {
          "base_uri": "https://localhost:8080/"
        },
        "id": "vnRtXWi8Yh65",
        "outputId": "47cc95b0-7a5e-4f06-955f-4395de7e0dc7"
      },
      "source": [
        "myprint_sad(\"hello\")"
      ],
      "execution_count": 88,
      "outputs": [
        {
          "output_type": "stream",
          "name": "stdout",
          "text": [
            "hello :(\n"
          ]
        }
      ]
    },
    {
      "cell_type": "code",
      "metadata": {
        "colab": {
          "base_uri": "https://localhost:8080/"
        },
        "id": "NUff3qMyYh9K",
        "outputId": "24a5f6f3-d030-450e-d07b-3dbda857a37d"
      },
      "source": [
        "myprint_smile(\"hello\")"
      ],
      "execution_count": 89,
      "outputs": [
        {
          "output_type": "stream",
          "name": "stdout",
          "text": [
            "hello :)\n"
          ]
        }
      ]
    },
    {
      "cell_type": "code",
      "metadata": {
        "colab": {
          "base_uri": "https://localhost:8080/"
        },
        "id": "qMyM_qn0aQ3P",
        "outputId": "e7b329ad-3ad4-4d37-a12c-2d60aba9e339"
      },
      "source": [
        "myprint_neutral(\"hello\")"
      ],
      "execution_count": 90,
      "outputs": [
        {
          "output_type": "stream",
          "name": "stdout",
          "text": [
            "hello :|\n"
          ]
        }
      ]
    },
    {
      "cell_type": "code",
      "metadata": {
        "colab": {
          "base_uri": "https://localhost:8080/"
        },
        "id": "1bBUeTLSbc7P",
        "outputId": "5226762c-735d-41bd-8bad-55f14f4ee484"
      },
      "source": [
        "(lambda x : print (x)) (\"mtn\")"
      ],
      "execution_count": 92,
      "outputs": [
        {
          "output_type": "stream",
          "name": "stdout",
          "text": [
            "mtn\n"
          ]
        }
      ]
    },
    {
      "cell_type": "code",
      "metadata": {
        "colab": {
          "base_uri": "https://localhost:8080/"
        },
        "id": "DEm1KDygbuwl",
        "outputId": "77b918fd-3391-4801-d9bf-69715a097142"
      },
      "source": [
        "(lambda x : max (x)) ((1,2,3))"
      ],
      "execution_count": 93,
      "outputs": [
        {
          "output_type": "execute_result",
          "data": {
            "text/plain": [
              "3"
            ]
          },
          "metadata": {},
          "execution_count": 93
        }
      ]
    },
    {
      "cell_type": "code",
      "metadata": {
        "colab": {
          "base_uri": "https://localhost:8080/"
        },
        "id": "q9i8Jv9xbute",
        "outputId": "ea21820e-3f9f-43f3-8ff9-32b430ecb15b"
      },
      "source": [
        "(lambda x : sorted (x)) ((1,5, 7, 3))"
      ],
      "execution_count": 94,
      "outputs": [
        {
          "output_type": "execute_result",
          "data": {
            "text/plain": [
              "[1, 3, 5, 7]"
            ]
          },
          "metadata": {},
          "execution_count": 94
        }
      ]
    },
    {
      "cell_type": "code",
      "metadata": {
        "id": "TRDKT-15bup6"
      },
      "source": [
        ""
      ],
      "execution_count": null,
      "outputs": []
    },
    {
      "cell_type": "code",
      "metadata": {
        "id": "Odxwy8KCbumk"
      },
      "source": [
        ""
      ],
      "execution_count": null,
      "outputs": []
    },
    {
      "cell_type": "code",
      "metadata": {
        "id": "CjhjM-NyaQ6b"
      },
      "source": [
        "def function_generator(function_name) :\n",
        "    return lambda x : function_name(x)"
      ],
      "execution_count": 96,
      "outputs": []
    },
    {
      "cell_type": "code",
      "metadata": {
        "id": "9PdZnrODaQ9O"
      },
      "source": [
        "mtn_max = function_generator(max)\n",
        "mtn_sorted= function_generator(sorted)\n"
      ],
      "execution_count": 98,
      "outputs": []
    },
    {
      "cell_type": "code",
      "metadata": {
        "colab": {
          "base_uri": "https://localhost:8080/"
        },
        "id": "6AmDQeMxaQ_o",
        "outputId": "32119bc1-b227-4f97-eb17-15fb0bfc3bcc"
      },
      "source": [
        "mtn_max([2,3,5,89,56,4,5])"
      ],
      "execution_count": 99,
      "outputs": [
        {
          "output_type": "execute_result",
          "data": {
            "text/plain": [
              "89"
            ]
          },
          "metadata": {},
          "execution_count": 99
        }
      ]
    },
    {
      "cell_type": "code",
      "metadata": {
        "colab": {
          "base_uri": "https://localhost:8080/"
        },
        "id": "qHxUwDlRaRCJ",
        "outputId": "dc5001ee-8a46-44c8-b72f-5dbeadab9b03"
      },
      "source": [
        "mtn_sorted([2,3,5,89,56,4,5])"
      ],
      "execution_count": 101,
      "outputs": [
        {
          "output_type": "execute_result",
          "data": {
            "text/plain": [
              "[2, 3, 4, 5, 5, 56, 89]"
            ]
          },
          "metadata": {},
          "execution_count": 101
        }
      ]
    }
  ]
}