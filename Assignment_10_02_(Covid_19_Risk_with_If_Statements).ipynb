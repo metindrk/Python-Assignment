{
  "nbformat": 4,
  "nbformat_minor": 0,
  "metadata": {
    "colab": {
      "name": "Assignment - 10/02 (Covid-19 Risk with If Statements).ipynb",
      "provenance": [],
      "collapsed_sections": [],
      "authorship_tag": "ABX9TyMkKtiNvIiLyTtSNOd10fu+",
      "include_colab_link": true
    },
    "kernelspec": {
      "name": "python3",
      "display_name": "Python 3"
    },
    "language_info": {
      "name": "python"
    }
  },
  "cells": [
    {
      "cell_type": "markdown",
      "metadata": {
        "id": "view-in-github",
        "colab_type": "text"
      },
      "source": [
        "<a href=\"https://colab.research.google.com/github/metindrk/Python-Assignment/blob/main/Assignment_10_02_(Covid_19_Risk_with_If_Statements).ipynb\" target=\"_parent\"><img src=\"https://colab.research.google.com/assets/colab-badge.svg\" alt=\"Open In Colab\"/></a>"
      ]
    },
    {
      "cell_type": "code",
      "metadata": {
        "id": "sSm_RjjVaLkO"
      },
      "source": [
        "Problem :\n",
        "\n",
        "Task : Estimating the risk of death from coronavirus. Write a program that;\n",
        "\n",
        "Takes \"Yes\" or \"No\" from the user as an answer to the following questions :\n",
        "\n",
        "Are you a cigarette addict older than 75 years old? Variable → age\n",
        "\n",
        "Do you have a severe chronic disease? Variable → chronic\n",
        "\n",
        "Is your immune system too weak? Variable → immune\n",
        "\n",
        "Set a logical algorithm using boolean logic operators (and/or) and use if-statements with the given variables in order to print out us a message : \n",
        "\"You are in risky group\"(if True ) or \"You are not in risky group\" (if False).\n",
        "age =  # can be assigned only True/False\n",
        "chronic =  # can be assigned only True/False\n",
        "immune =  # can be assigned only True/False\n",
        "risk = ?"
      ],
      "execution_count": null,
      "outputs": []
    },
    {
      "cell_type": "code",
      "metadata": {
        "colab": {
          "base_uri": "https://localhost:8080/"
        },
        "id": "d9ICPrTwaRXv",
        "outputId": "aacbf39e-5365-43fe-ba4c-35a05f237693"
      },
      "source": [
        "age = input(\"Are you a cigarette addict older than 75 years old?: \")\n",
        "chronic = input(\"Do you have a severe chronic disease?\")\n",
        "immune = input(\"Is your immune system too weak?\")\n",
        "if age == \"Yes\":\n",
        "    age = True\n",
        "else:\n",
        "    age = False\n",
        "if chronic == \"Yes\":\n",
        "    chronic = True\n",
        "else:\n",
        "    chronic = False\n",
        "if immune == \"Yes\":\n",
        "    immune = True\n",
        "else:\n",
        "    immune = False\n",
        "if age and chronic and immune:\n",
        "    print(\"You are in risky group\")\n",
        "else:\n",
        "    print(\"You are not in risky group\")"
      ],
      "execution_count": 17,
      "outputs": [
        {
          "output_type": "stream",
          "name": "stdout",
          "text": [
            "Are you a cigarette addict older than 75 years old?: no\n",
            "Do you have a severe chronic disease?no\n",
            "Is your immune system too weak?no\n",
            "You are not in risky group\n"
          ]
        }
      ]
    }
  ]
}