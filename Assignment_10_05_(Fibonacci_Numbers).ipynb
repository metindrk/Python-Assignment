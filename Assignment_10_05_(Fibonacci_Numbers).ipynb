{
  "nbformat": 4,
  "nbformat_minor": 0,
  "metadata": {
    "colab": {
      "name": "Assignment - 10/05 (Fibonacci Numbers).ipynb",
      "provenance": [],
      "authorship_tag": "ABX9TyMLV1oOrrqNuJ3GSpvGnJAW",
      "include_colab_link": true
    },
    "kernelspec": {
      "name": "python3",
      "display_name": "Python 3"
    },
    "language_info": {
      "name": "python"
    }
  },
  "cells": [
    {
      "cell_type": "markdown",
      "metadata": {
        "id": "view-in-github",
        "colab_type": "text"
      },
      "source": [
        "<a href=\"https://colab.research.google.com/github/metindrk/Python-Assignment/blob/main/Assignment_10_05_(Fibonacci_Numbers).ipynb\" target=\"_parent\"><img src=\"https://colab.research.google.com/assets/colab-badge.svg\" alt=\"Open In Colab\"/></a>"
      ]
    },
    {
      "cell_type": "code",
      "metadata": {
        "colab": {
          "base_uri": "https://localhost:8080/"
        },
        "id": "6AclusJDilJo",
        "outputId": "ab27ce5a-b10a-436e-99df-dd8daf6d072f"
      },
      "source": [
        "\"\"\"Task : Create a list consisting of Fibonacci numbers from 1 to 55 using control flow statements.\n",
        "The desired output is like :\n",
        "fibonacci →  [1, 1, 2, 3, 5, 8, 13, 21, 34, 55]\"\"\"\n",
        "a, b = 1, 1\n",
        "list_fib = []\n",
        "while a <= 55:\n",
        "    list_fib.append(a)\n",
        "    a, b = b, a + b\n",
        "print(list_fib)"
      ],
      "execution_count": 1,
      "outputs": [
        {
          "output_type": "stream",
          "name": "stdout",
          "text": [
            "[1, 1, 2, 3, 5, 8, 13, 21, 34, 55]\n"
          ]
        }
      ]
    }
  ]
}