{
  "nbformat": 4,
  "nbformat_minor": 0,
  "metadata": {
    "colab": {
      "name": "Assignment-10/01_(Password Reminder).pynb",
      "provenance": [],
      "collapsed_sections": []
    },
    "kernelspec": {
      "name": "python3",
      "display_name": "Python 3"
    },
    "language_info": {
      "name": "python"
    }
  },
  "cells": [
    {
      "cell_type": "code",
      "metadata": {
        "id": "IVBnyr_aaYlW"
      },
      "source": [
        "myname = \"Joseph\"\n",
        "first_name = input(\"Please input your name to see the password= \")\n",
        "\n",
        "if first_name.title() == myname:\n",
        "  print(f\"Hello Joseph! The password is: W@12\")\n",
        "else:\n",
        "  print(f\"Hello {first_name}! See you later.\")\n"
      ],
      "execution_count": null,
      "outputs": []
    }
  ]
}