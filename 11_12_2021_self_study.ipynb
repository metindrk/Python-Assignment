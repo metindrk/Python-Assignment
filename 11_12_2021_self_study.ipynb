{
  "nbformat": 4,
  "nbformat_minor": 0,
  "metadata": {
    "colab": {
      "name": "11.12.2021 self study.ipynb",
      "provenance": [],
      "collapsed_sections": [],
      "authorship_tag": "ABX9TyME763PivFvVFLlwj0tZ7vm",
      "include_colab_link": true
    },
    "kernelspec": {
      "name": "python3",
      "display_name": "Python 3"
    },
    "language_info": {
      "name": "python"
    }
  },
  "cells": [
    {
      "cell_type": "markdown",
      "metadata": {
        "id": "view-in-github",
        "colab_type": "text"
      },
      "source": [
        "<a href=\"https://colab.research.google.com/github/metindrk/Python-Assignment/blob/main/11_12_2021_self_study.ipynb\" target=\"_parent\"><img src=\"https://colab.research.google.com/assets/colab-badge.svg\" alt=\"Open In Colab\"/></a>"
      ]
    },
    {
      "cell_type": "code",
      "execution_count": null,
      "metadata": {
        "colab": {
          "base_uri": "https://localhost:8080/"
        },
        "id": "SmeCEFeN2vCZ",
        "outputId": "afd99226-4ad5-4aed-9025-11971f475a27"
      },
      "outputs": [
        {
          "output_type": "stream",
          "name": "stdout",
          "text": [
            "The teams in Premier League are :\n",
            "- Liverpool\n",
            "- M.United\n",
            "- M.City\n",
            "- Arsenal\n"
          ]
        }
      ],
      "source": [
        "def team_names(*teams) :\n",
        "    print('The teams in Premier League are :')\n",
        "    for i in teams :\n",
        "        print('-', i)\n",
        "\n",
        "team_names('Liverpool', 'M.United', 'M.City', 'Arsenal')"
      ]
    },
    {
      "cell_type": "code",
      "source": [
        "def make_sentence(**kwargs):\n",
        "    result = \"\"\n",
        "    # Iterating over the Python kwargs dictionary\n",
        "    for i in kwargs.values():\n",
        "        result += i\n",
        "    return result\n",
        "\n",
        "print(make_sentence(a=\"I \", b=\"love \", c=\"Clarusway!\"))"
      ],
      "metadata": {
        "colab": {
          "base_uri": "https://localhost:8080/"
        },
        "id": "uYb3xY5T2wFS",
        "outputId": "55a6ade6-5122-4887-aaf1-dc531612e3f6"
      },
      "execution_count": null,
      "outputs": [
        {
          "output_type": "stream",
          "name": "stdout",
          "text": [
            "I love Clarusway!\n"
          ]
        }
      ]
    },
    {
      "cell_type": "code",
      "source": [
        " import calendar\n",
        "yil = int(input(\"Yıl Gir : \"))\n",
        "ay = int(input(\"Ay Gir : \"))\n",
        "print(calendar.month(yil, ay))"
      ],
      "metadata": {
        "colab": {
          "base_uri": "https://localhost:8080/"
        },
        "id": "35qbX3Ce2wMg",
        "outputId": "d58905e7-7ed6-462a-acfe-b0cb36241cfa"
      },
      "execution_count": null,
      "outputs": [
        {
          "output_type": "stream",
          "name": "stdout",
          "text": [
            "Yıl Gir : 1921\n",
            "Ay Gir : 12\n",
            "   December 1921\n",
            "Mo Tu We Th Fr Sa Su\n",
            "          1  2  3  4\n",
            " 5  6  7  8  9 10 11\n",
            "12 13 14 15 16 17 18\n",
            "19 20 21 22 23 24 25\n",
            "26 27 28 29 30 31\n",
            "\n"
          ]
        }
      ]
    },
    {
      "cell_type": "code",
      "source": [
        "import datetime\n",
        "now = datetime.datetime.now()\n",
        "print (\"Şu anki Tarih ve Saat : \")\n",
        "print (now.strftime(\"%d-%m-%Y %H:%M:%S\"))"
      ],
      "metadata": {
        "colab": {
          "base_uri": "https://localhost:8080/"
        },
        "id": "n4xvW4-D2wQ1",
        "outputId": "02a0f691-5170-4aa2-b0e3-c1785c8f2001"
      },
      "execution_count": null,
      "outputs": [
        {
          "output_type": "stream",
          "name": "stdout",
          "text": [
            "Şu anki Tarih ve Saat : \n",
            "09-12-2021 11:46:37\n"
          ]
        }
      ]
    },
    {
      "cell_type": "code",
      "source": [
        "filename = input(\"Dosya ismini girin: \")\n",
        "uzanti = filename.split(\".\")\n",
        "print (\"Dosya Uzantısı : \" + repr(uzanti[-1]))"
      ],
      "metadata": {
        "colab": {
          "base_uri": "https://localhost:8080/"
        },
        "id": "jBdwD-2e2wTg",
        "outputId": "06919a33-6117-47f5-9b24-dde6d3fc63b1"
      },
      "execution_count": null,
      "outputs": [
        {
          "output_type": "stream",
          "name": "stdout",
          "text": [
            "Dosya ismini girin: adres.httml\n",
            "Dosya Uzantısı : 'httml'\n"
          ]
        }
      ]
    },
    {
      "cell_type": "code",
      "source": [
        "filename = input(\"Dosya ismini girin: \")\n",
        "uzanti = filename.split(\".\")\n",
        "print(\"file extension is :\", uzanti[-1])"
      ],
      "metadata": {
        "colab": {
          "base_uri": "https://localhost:8080/"
        },
        "id": "M5wpEO7e2wWE",
        "outputId": "56266ed1-766c-4c72-b380-900d463b83b9"
      },
      "execution_count": null,
      "outputs": [
        {
          "output_type": "stream",
          "name": "stdout",
          "text": [
            "Dosya ismini girin: gjgj.kjgjhg\n",
            "file extension is : kjgjhg\n"
          ]
        }
      ]
    },
    {
      "cell_type": "code",
      "source": [
        "def team_league(team, league='Premier League'):\n",
        "    print(team, 'in', league)\n",
        "\n",
        "team_league('Liverpool')"
      ],
      "metadata": {
        "colab": {
          "base_uri": "https://localhost:8080/"
        },
        "id": "iW3xVEw7BHGI",
        "outputId": "c8b8c042-8a43-4d89-a061-2cb0e58caa49"
      },
      "execution_count": null,
      "outputs": [
        {
          "output_type": "stream",
          "name": "stdout",
          "text": [
            "Liverpool in Premier League\n"
          ]
        }
      ]
    },
    {
      "cell_type": "code",
      "source": [
        "def my_function(first, last) : \n",
        "    print('Your first name is :', first)\n",
        "    print('Your last name is :', last)\n",
        "\n",
        "my_function(first='Richard', last='Rice') "
      ],
      "metadata": {
        "colab": {
          "base_uri": "https://localhost:8080/"
        },
        "id": "SydB6q-LBHQI",
        "outputId": "a5f179de-89bf-46d0-edfb-afa89b0f5c69"
      },
      "execution_count": null,
      "outputs": [
        {
          "output_type": "stream",
          "name": "stdout",
          "text": [
            "Your first name is : Richard\n",
            "Your last name is : Rice\n"
          ]
        }
      ]
    },
    {
      "cell_type": "code",
      "source": [
        "def my_function(first, last) : \n",
        "    print('Your first name is :', first)\n",
        "    print('Your last name is :', last)\n",
        "my_function('Richard', \"Rice\")"
      ],
      "metadata": {
        "colab": {
          "base_uri": "https://localhost:8080/"
        },
        "id": "927Y5xdOBHUS",
        "outputId": "77b00d31-33ae-47d5-cfe3-9c5db053b3ec"
      },
      "execution_count": null,
      "outputs": [
        {
          "output_type": "stream",
          "name": "stdout",
          "text": [
            "Your first name is : Richard\n",
            "Your last name is : Rice\n"
          ]
        }
      ]
    },
    {
      "cell_type": "code",
      "source": [
        "text = \"I am the global one\"\n",
        " \n",
        "def global_func():\n",
        "    print(text)  # we can use 'text' in a function\n",
        "                 # because it's a global variable\n",
        "\n",
        "global_func()  # 'I am the global one' will be printed\n",
        "print(text)  # it can also be printed outside of the function\n",
        " \n",
        "text = \"The globals are valid everywhere \"\n",
        " \n",
        "global_func()  # we changed the value of 'text'\n",
        "# 'The globals are valid everywhere' will be printed"
      ],
      "metadata": {
        "colab": {
          "base_uri": "https://localhost:8080/"
        },
        "id": "4KF8SrNmBHXm",
        "outputId": "8ad79a2f-96ac-4e73-9ec1-cff370a58437"
      },
      "execution_count": null,
      "outputs": [
        {
          "output_type": "stream",
          "name": "stdout",
          "text": [
            "I am the global one\n",
            "I am the global one\n",
            "The globals are valid everywhere \n"
          ]
        }
      ]
    },
    {
      "cell_type": "code",
      "source": [
        "def local_func():\n",
        "    local_text = \"I am the local one\"\n",
        "    print(local_text)  # local_text is a local variable\n",
        "\n",
        "local_func()  # 'I am the local one' will be printed as expected\n",
        " \n",
        "print(local_text)  # NameError will be raised\n",
        "# because we can't use local variable outside of its function"
      ],
      "metadata": {
        "colab": {
          "base_uri": "https://localhost:8080/"
        },
        "id": "48p_8YvQBHap",
        "outputId": "4e875f23-f8c0-43f1-b3c3-82d4c21e76ee"
      },
      "execution_count": null,
      "outputs": [
        {
          "output_type": "stream",
          "name": "stdout",
          "text": [
            "I am the local one\n",
            "I am the local one\n"
          ]
        }
      ]
    },
    {
      "cell_type": "code",
      "source": [
        "x = 10\n",
        "def my_function_1(): \n",
        "    x = 20\n",
        "    print(x)\n",
        "    \n",
        "print(x)"
      ],
      "metadata": {
        "colab": {
          "base_uri": "https://localhost:8080/"
        },
        "id": "6CIRBH7lBHd4",
        "outputId": "03d4ad3c-28ec-494d-cd2d-468f434521e6"
      },
      "execution_count": null,
      "outputs": [
        {
          "output_type": "stream",
          "name": "stdout",
          "text": [
            "10\n"
          ]
        }
      ]
    },
    {
      "cell_type": "code",
      "source": [
        "\"\"\"Given a string, return a new string where the first and last chars have been exchanged.\"\"\"\n",
        "def front_back(word):\n",
        "     if len(word) == 1: \n",
        "       return word\n",
        "     else :\n",
        "      return word[-1:] + word[1:-1] + word[:1]\n",
        "front_back(\"clarusway\")\n",
        "#print(front_back('1plane2'))\n",
        "    "
      ],
      "metadata": {
        "colab": {
          "base_uri": "https://localhost:8080/",
          "height": 35
        },
        "id": "to2WIYfbBHg5",
        "outputId": "f50bd1bd-677a-49f8-bd4d-2ca462b2c013"
      },
      "execution_count": null,
      "outputs": [
        {
          "output_type": "execute_result",
          "data": {
            "application/vnd.google.colaboratory.intrinsic+json": {
              "type": "string"
            },
            "text/plain": [
              "'ylaruswac'"
            ]
          },
          "metadata": {},
          "execution_count": 46
        }
      ]
    },
    {
      "cell_type": "code",
      "source": [
        "word = \"plane\"\n",
        "print(word[-1:])  \n",
        "print(word[1:-1])  \n",
        "print(word[:1])"
      ],
      "metadata": {
        "colab": {
          "base_uri": "https://localhost:8080/"
        },
        "id": "7jsfNzzTBHj8",
        "outputId": "1cb17721-8c0d-42fe-85df-bea9ad07b19f"
      },
      "execution_count": 3,
      "outputs": [
        {
          "output_type": "stream",
          "name": "stdout",
          "text": [
            "e\n",
            "lan\n",
            "p\n"
          ]
        }
      ]
    },
    {
      "cell_type": "code",
      "source": [
        "word = \"metin\"\n",
        "first_char= word[0]\n",
        "last_char = word[-1]\n",
        "a = word.strip(first_char)\n",
        "b = a.strip(last_char)\n",
        "print(word[0], end=\"--\")\n",
        "print(word[-1], end=\"--\")\n",
        "print(first_char, end=\"--\")\n",
        "print(last_char, end=\"--\")\n",
        "print(a,b, sep=\"--\")"
      ],
      "metadata": {
        "colab": {
          "base_uri": "https://localhost:8080/"
        },
        "id": "zYaskZ7MSqgr",
        "outputId": "d11e573a-5b53-44c8-820d-5d579cdfb5dd"
      },
      "execution_count": 24,
      "outputs": [
        {
          "output_type": "stream",
          "name": "stdout",
          "text": [
            "m--n--m--n--etin--eti\n"
          ]
        }
      ]
    },
    {
      "cell_type": "code",
      "source": [
        "def changed_word(word):\n",
        "  if len(word) ==1 :                         # without this single character will print twice\n",
        "    return word\n",
        "  else :\n",
        "    first_char= word[0]\n",
        "    last_char = word[-1]\n",
        "    a = word.strip(first_char)\n",
        "    b = a.strip(last_char)\n",
        "    new_word = last_char + b + first_char\n",
        "    return new_word\n",
        "changed_word(\"metin\")"
      ],
      "metadata": {
        "colab": {
          "base_uri": "https://localhost:8080/",
          "height": 35
        },
        "id": "G0gwMF_9XgVU",
        "outputId": "9a64b3a8-cc81-452f-b6ae-76a88fb1312d"
      },
      "execution_count": 26,
      "outputs": [
        {
          "output_type": "execute_result",
          "data": {
            "application/vnd.google.colaboratory.intrinsic+json": {
              "type": "string"
            },
            "text/plain": [
              "'netim'"
            ]
          },
          "metadata": {},
          "execution_count": 26
        }
      ]
    },
    {
      "cell_type": "code",
      "source": [
        "def changed_word(word):\n",
        "  if len(word) ==1:                         # without this single character will print twice\n",
        "    return word\n",
        "    first_char= word[0]\n",
        "    last_char = word[-1]\n",
        "    a = word.strip(first_char)\n",
        "    b = a.strip(last_char)\n",
        "    new_word = last_char + b + first_char\n",
        "    return new_word\n",
        "\n",
        "w1 = changed_word(\"s\")\n",
        "n1 = changed_word(\"1\")\n",
        "w2 = changed_word(\"super\")\n",
        "n2 = changed_word(\"12345\")\n",
        "\n",
        "print(w1)\n",
        "print(n1)\n",
        "print(w2)\n",
        "print(n2)"
      ],
      "metadata": {
        "colab": {
          "base_uri": "https://localhost:8080/"
        },
        "id": "zJ84Oe83BHnE",
        "outputId": "d2293468-0a2c-43f6-8db8-eb0ce18b7b15"
      },
      "execution_count": 5,
      "outputs": [
        {
          "output_type": "stream",
          "name": "stdout",
          "text": [
            "s\n",
            "1\n",
            "None\n",
            "None\n"
          ]
        }
      ]
    },
    {
      "cell_type": "code",
      "source": [
        "def determine_min_value(a,b,c, d):\n",
        "    print (\"The minimum value is {}.\".format(c < (b < a)))"
      ],
      "metadata": {
        "id": "oWSNLyFOxACw"
      },
      "execution_count": null,
      "outputs": []
    },
    {
      "cell_type": "code",
      "source": [
        "determine_min_value(1,2,9,-1)"
      ],
      "metadata": {
        "colab": {
          "base_uri": "https://localhost:8080/"
        },
        "id": "athQU8RAxAGk",
        "outputId": "dc677e68-f32f-4231-a8be-e4f123ce3f0c"
      },
      "execution_count": null,
      "outputs": [
        {
          "output_type": "stream",
          "name": "stdout",
          "text": [
            "The minimum value is False.\n"
          ]
        }
      ]
    },
    {
      "cell_type": "code",
      "source": [
        "from functools import reduce\n",
        "def check_greater(a,b):\n",
        "    if a > b:\n",
        "        return b\n",
        "    else:\n",
        "        return a\n",
        "\n",
        "number_list = [1,6,3,8,5,78,4,23,9]\n",
        "\n",
        "minimum = reduce(check_greater, number_list)\n"
      ],
      "metadata": {
        "id": "FBi5ppPtxAJ3"
      },
      "execution_count": 34,
      "outputs": []
    },
    {
      "cell_type": "code",
      "source": [
        "print(check_greater)"
      ],
      "metadata": {
        "id": "rGtJeAWnxAOg",
        "colab": {
          "base_uri": "https://localhost:8080/"
        },
        "outputId": "1b19c1e6-9590-4c28-84f5-4c522f29cd31"
      },
      "execution_count": 33,
      "outputs": [
        {
          "output_type": "stream",
          "name": "stdout",
          "text": [
            "<function check_greater at 0x7f78fe561e60>\n"
          ]
        }
      ]
    },
    {
      "cell_type": "code",
      "source": [
        "reduce()"
      ],
      "metadata": {
        "id": "XFvdnbexY51E"
      },
      "execution_count": null,
      "outputs": []
    },
    {
      "cell_type": "code",
      "source": [
        "fishes.txt = \"\"\"Orca is a kind of Dolphin.\n",
        "Blue Whale is the largest animal known on earth.\n",
        "Sharks are the sister group to the Rays (batoids).\n",
        "The Tuna Fish can weigh up to 260 kg.\n",
        "Squid and Octopus are in the same class.\"\"\""
      ],
      "metadata": {
        "id": "1NasWZJBFIRM"
      },
      "execution_count": null,
      "outputs": []
    },
    {
      "cell_type": "code",
      "source": [
        "sea = open(\"fishes.txt\", 'r')   \n",
        "\n",
        "print(sea.read())  # displays the entire text content\n",
        "\n",
        "sea.close()  # be sure to close the file"
      ],
      "metadata": {
        "id": "N3e4RMtQxAVK"
      },
      "execution_count": null,
      "outputs": []
    },
    {
      "cell_type": "code",
      "source": [
        "def my_min(*args):\n",
        "    result = args[0]\n",
        "    for num in args:\n",
        "        if num < result:\n",
        "            result = num\n",
        "    return result\n",
        "\n",
        "my_min(4, 5, -11, 6, -9, -5, 7, 2)"
      ],
      "metadata": {
        "colab": {
          "base_uri": "https://localhost:8080/"
        },
        "id": "cEDl_X_XxAcD",
        "outputId": "0d4adde3-d839-492a-8c99-c6f78750acbc"
      },
      "execution_count": null,
      "outputs": [
        {
          "output_type": "execute_result",
          "data": {
            "text/plain": [
              "-11"
            ]
          },
          "metadata": {},
          "execution_count": 68
        }
      ]
    },
    {
      "cell_type": "code",
      "source": [
        "def my_min(nums):\n",
        "    result = nums[0]\n",
        "    for num in nums:\n",
        "        if num < result:\n",
        "            result = num\n",
        "    return result\n",
        "my_min([4, 5, -9, 7, 2])"
      ],
      "metadata": {
        "colab": {
          "base_uri": "https://localhost:8080/"
        },
        "id": "70cWIgHBe3ur",
        "outputId": "c07ba1b0-3322-4f73-b798-669cd70d0133"
      },
      "execution_count": null,
      "outputs": [
        {
          "output_type": "execute_result",
          "data": {
            "text/plain": [
              "-9"
            ]
          },
          "metadata": {},
          "execution_count": 5
        }
      ]
    },
    {
      "cell_type": "code",
      "source": [
        "def my_min(a,b,c,d,e,f,g):\n",
        "   result = min(a,b,c,d,e,f,g)\n",
        "   return result\n",
        "my_min(1,2,3,8,9,12,-9)"
      ],
      "metadata": {
        "colab": {
          "base_uri": "https://localhost:8080/"
        },
        "id": "Qvq5HWdhxAj6",
        "outputId": "b126334d-a574-4d4c-ca7e-c1cd3dc24a3a"
      },
      "execution_count": null,
      "outputs": [
        {
          "output_type": "execute_result",
          "data": {
            "text/plain": [
              "-9"
            ]
          },
          "metadata": {},
          "execution_count": 71
        }
      ]
    },
    {
      "cell_type": "code",
      "source": [
        "def my_min(*args):\n",
        "    result = args[0]\n",
        "    for num in args:\n",
        "        if num < result:\n",
        "            result = num\n",
        "    return result\n",
        "\n",
        "my_min(4, 5, 6, 7, -9, 78, - 2)"
      ],
      "metadata": {
        "colab": {
          "base_uri": "https://localhost:8080/"
        },
        "id": "2vdRh6u7iIPH",
        "outputId": "152e3e57-e145-413f-cf10-0a0de4bc4686"
      },
      "execution_count": null,
      "outputs": [
        {
          "output_type": "execute_result",
          "data": {
            "text/plain": [
              "-9"
            ]
          },
          "metadata": {},
          "execution_count": 11
        }
      ]
    },
    {
      "cell_type": "code",
      "source": [
        "size = 100\n",
        "time_for = timeit(for_loop, number = size)\n",
        "time_1st = timeit(list_comp, number = size)"
      ],
      "metadata": {
        "id": "7lfLEA22xAoq"
      },
      "execution_count": null,
      "outputs": []
    },
    {
      "cell_type": "code",
      "source": [
        "print(f\"List comp.is {round(time_for/time_list_comp, 2)}times faster than for loops.\")"
      ],
      "metadata": {
        "id": "3c52rlV-xAsT"
      },
      "execution_count": null,
      "outputs": []
    },
    {
      "cell_type": "code",
      "source": [
        "def for_loop():\n",
        "    \n",
        "    result = []\n",
        "    \n",
        "    for i in range(1000000) :\n",
        "        result.append(i)\n",
        "    return result\n",
        "    \n",
        "# list comprehension ile\n",
        "def list_comp() :\n",
        "    return [i for i in range(1000000)]"
      ],
      "metadata": {
        "id": "quEb9ZiwBHqI"
      },
      "execution_count": null,
      "outputs": []
    },
    {
      "cell_type": "code",
      "source": [
        "for_loop()"
      ],
      "metadata": {
        "id": "kObzUXp-YWee"
      },
      "execution_count": null,
      "outputs": []
    },
    {
      "cell_type": "code",
      "source": [
        "def factor(x):\n",
        "\n",
        "    result = 1\n",
        "    for i in range(x):\n",
        "        result *= (i+1)\n",
        "    return print(result)"
      ],
      "metadata": {
        "id": "msFI9dQZYWha"
      },
      "execution_count": 1,
      "outputs": []
    },
    {
      "cell_type": "code",
      "source": [
        "from module.py import my_function_1,  my_function_2 \n",
        "module.py.my_function_1(10, 20)\n",
        "module.py.my_function_2(30, 40)\n",
        "area = a * b\n",
        "hypotenuse = (a**2 + b**2)**0.5"
      ],
      "metadata": {
        "id": "mYnQcs3RYWkk"
      },
      "execution_count": null,
      "outputs": []
    },
    {
      "cell_type": "code",
      "source": [
        "from string import punctuation, digits"
      ],
      "metadata": {
        "id": "lWcb3fu0YWmz"
      },
      "execution_count": null,
      "outputs": []
    },
    {
      "cell_type": "code",
      "source": [
        "def my_function_1(a, b)  :                                                                        #  from module.py import my_function_1,  my_function_2 \n",
        "    area = a * b\n",
        "    return area\n",
        "\n",
        "my_function_1(10, 20)\n"
      ],
      "metadata": {
        "id": "HB1PJ-TRYWpg",
        "colab": {
          "base_uri": "https://localhost:8080/"
        },
        "outputId": "5209ac8a-eab8-4eb7-8787-207306e74031"
      },
      "execution_count": 6,
      "outputs": [
        {
          "output_type": "execute_result",
          "data": {
            "text/plain": [
              "200"
            ]
          },
          "metadata": {},
          "execution_count": 6
        }
      ]
    },
    {
      "cell_type": "code",
      "source": [
        "def  my_function_2(a, b)  :\n",
        "    hypotenuse = (a**2 + b**2)**0.5\n",
        "    return hypotenuse\n",
        "\n",
        "my_function_2(2, 3)\n"
      ],
      "metadata": {
        "colab": {
          "base_uri": "https://localhost:8080/"
        },
        "id": "yFZlW-QuZqSI",
        "outputId": "d5a760a6-bb16-43a3-cf6f-b91a71f92954"
      },
      "execution_count": 8,
      "outputs": [
        {
          "output_type": "execute_result",
          "data": {
            "text/plain": [
              "3.605551275463989"
            ]
          },
          "metadata": {},
          "execution_count": 8
        }
      ]
    },
    {
      "cell_type": "code",
      "source": [
        "x = \"PiMyLifeUp\" #This is in the global space\n",
        "def exampleFunc():\n",
        "    global x #Use x from the global space\n",
        "    x = \"UpLifeMyPi\" #Change our global x\n",
        "    print(\"Learning from \" + x) #Print out the global x value\n",
        "\n",
        "exampleFunc()\n",
        "\n",
        "print(\"Learning from \" + x)#Print out the global x value again"
      ],
      "metadata": {
        "colab": {
          "base_uri": "https://localhost:8080/"
        },
        "id": "LzfsS5xgZqVM",
        "outputId": "8992ea65-efd6-4f70-ebe6-82c1fa38489b"
      },
      "execution_count": 9,
      "outputs": [
        {
          "output_type": "stream",
          "name": "stdout",
          "text": [
            "Learning from UpLifeMyPi\n",
            "Learning from UpLifeMyPi\n"
          ]
        }
      ]
    },
    {
      "cell_type": "code",
      "source": [
        ""
      ],
      "metadata": {
        "id": "uXubYD2DZqYi"
      },
      "execution_count": null,
      "outputs": []
    },
    {
      "cell_type": "code",
      "source": [
        ""
      ],
      "metadata": {
        "id": "HQf3USpBZqbl"
      },
      "execution_count": null,
      "outputs": []
    },
    {
      "cell_type": "code",
      "source": [
        ""
      ],
      "metadata": {
        "id": "JKHfWcnkZqee"
      },
      "execution_count": null,
      "outputs": []
    },
    {
      "cell_type": "code",
      "source": [
        ""
      ],
      "metadata": {
        "id": "ZF_ztY5BZqho"
      },
      "execution_count": null,
      "outputs": []
    },
    {
      "cell_type": "code",
      "source": [
        ""
      ],
      "metadata": {
        "id": "IL795cDAZqkl"
      },
      "execution_count": null,
      "outputs": []
    },
    {
      "cell_type": "code",
      "source": [
        ""
      ],
      "metadata": {
        "id": "00KWVcFNZqm4"
      },
      "execution_count": null,
      "outputs": []
    },
    {
      "cell_type": "code",
      "source": [
        ""
      ],
      "metadata": {
        "id": "z8DN469SZqpi"
      },
      "execution_count": null,
      "outputs": []
    },
    {
      "cell_type": "code",
      "source": [
        ""
      ],
      "metadata": {
        "id": "oeopwqeBZqsg"
      },
      "execution_count": null,
      "outputs": []
    },
    {
      "cell_type": "markdown",
      "source": [
        ""
      ],
      "metadata": {
        "id": "Vkl9hPPF2vUy"
      }
    },
    {
      "cell_type": "markdown",
      "source": [
        ""
      ],
      "metadata": {
        "id": "hfYn7rxj2vbO"
      }
    }
  ]
}