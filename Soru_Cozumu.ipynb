{
  "nbformat": 4,
  "nbformat_minor": 0,
  "metadata": {
    "interpreter": {
      "hash": "fa6a0a764cb4097f59c43fd49950221d10fdd80b639457893697b370f7a39508"
    },
    "kernelspec": {
      "display_name": "Python 3.10.0 64-bit",
      "language": "python",
      "name": "python3"
    },
    "language_info": {
      "codemirror_mode": {
        "name": "ipython",
        "version": 3
      },
      "file_extension": ".py",
      "mimetype": "text/x-python",
      "name": "python",
      "nbconvert_exporter": "python",
      "pygments_lexer": "ipython3",
      "version": "3.10.0"
    },
    "orig_nbformat": 4,
    "colab": {
      "name": "Soru Cozumu.ipynb",
      "provenance": [],
      "include_colab_link": true
    }
  },
  "cells": [
    {
      "cell_type": "markdown",
      "metadata": {
        "id": "view-in-github",
        "colab_type": "text"
      },
      "source": [
        "<a href=\"https://colab.research.google.com/github/metindrk/Python-Assignment/blob/main/Soru_Cozumu.ipynb\" target=\"_parent\"><img src=\"https://colab.research.google.com/assets/colab-badge.svg\" alt=\"Open In Colab\"/></a>"
      ]
    },
    {
      "cell_type": "code",
      "metadata": {
        "id": "w2DccC-GhB0x"
      },
      "source": [
        "# Basic introduction to control flow statements\n",
        "\n",
        "#  if condition:\n",
        "#       body\n",
        "#  elif condition:\n",
        "#       body\n",
        "#  else:\n",
        "#       body\n",
        "\n",
        "\n",
        "# for i in iterable:\n",
        "#    body\n",
        "\n",
        "# while condition:\n",
        "#    body\n",
        "\n"
      ],
      "execution_count": null,
      "outputs": []
    },
    {
      "cell_type": "code",
      "metadata": {
        "id": "C3G_3UemhB02"
      },
      "source": [
        "# Difference between for and while"
      ],
      "execution_count": null,
      "outputs": []
    },
    {
      "cell_type": "code",
      "metadata": {
        "id": "ptyr1eZshB03",
        "outputId": "1c1c7184-9306-41f2-d6f2-fdde5b642f02"
      },
      "source": [
        "liste = [1,2,3,4,5]\n",
        "print(list(map(str, liste)))"
      ],
      "execution_count": null,
      "outputs": [
        {
          "name": "stdout",
          "output_type": "stream",
          "text": [
            "['1', '2', '3', '4', '5']\n"
          ]
        }
      ]
    },
    {
      "cell_type": "code",
      "metadata": {
        "id": "Djt8AUy_hB04"
      },
      "source": [
        "# Find a students average\n",
        "\n",
        "#   Sample Input :\n",
        "#       2\n",
        "#       Harsh 25 26.5 28\n",
        "#       Anurag 26 28 30\n",
        "#       Harsh\n",
        "\n",
        "#   Sample Output:\n",
        "#       26.50"
      ],
      "execution_count": null,
      "outputs": []
    },
    {
      "cell_type": "code",
      "metadata": {
        "id": "dRbN_4ZchB05",
        "outputId": "409c728d-5b70-4264-f22b-167e0cf49913"
      },
      "source": [
        "student_number = int(input(\"How many students are you going to enter? \"))\n",
        "students = dict()\n",
        "for i in range(student_number):\n",
        "    student_info = input(\"What is the students name and his grades? \")\n",
        "    student_info = student_info.split() #       ['Harsh', '25', '26.5', '28']\n",
        "    student_name = student_info[0]\n",
        "    students[student_name] = student_info[1:]\n",
        "\n",
        "wanted_student = input(\"Whose grades do you want to see? \")\n",
        "\n",
        "sum_of_grades = 0\n",
        "for grade in students[wanted_student]:\n",
        "    grade = float(grade)\n",
        "    sum_of_grades += grade\n",
        "average_grade = sum_of_grades / 3 \n",
        "print(average_grade)"
      ],
      "execution_count": null,
      "outputs": [
        {
          "name": "stdout",
          "output_type": "stream",
          "text": [
            "40.0\n"
          ]
        }
      ]
    },
    {
      "cell_type": "code",
      "metadata": {
        "id": "71fFOwl8hB06"
      },
      "source": [
        "student_number = int(input(\"How many students are you going to enter? \"))\n",
        "students = dict()\n",
        "for i in range(student_number):\n",
        "    student_info = input(\"What is the students name and his grades? \")\n",
        "    student_info = student_info.split() #       ['Harsh', '25', '26.5', '28']\n",
        "    student_name = student_info[0]\n",
        "    students[student_name] = list(map(float,student_info[1:]))\n",
        "\n",
        "wanted_student = input(\"Whose grades do you want to see? \")\n",
        "\n",
        "sum_of_grades = sum(students[wanted_student])\n",
        "average_grade = sum_of_grades / len(students[wanted_student]) \n",
        "print(average_grade)"
      ],
      "execution_count": null,
      "outputs": []
    },
    {
      "cell_type": "code",
      "metadata": {
        "id": "03QL38kZhB07"
      },
      "source": [
        "student_number = int(input(\"How many students are you going to enter? \"))\n",
        "students = dict()\n",
        "for i in range(student_number):\n",
        "    student_name = input(\"What is the students name? \")\n",
        "    student_grades = input(f\"What is {student_name}'s grades? \")\n",
        "    student_grades = map(float, student_grades.split())\n",
        "    students[student_name] = student_grades\n",
        "\n",
        "wanted_student = input(\"Whose grades do you want to see? \")\n",
        "\n",
        "sum_of_grades = sum(students[wanted_student])\n",
        "average_grade = sum_of_grades / len(students[wanted_student]) \n",
        "print(average_grade)"
      ],
      "execution_count": null,
      "outputs": []
    },
    {
      "cell_type": "code",
      "metadata": {
        "id": "1ZFnxbTzhB08"
      },
      "source": [
        "# Find the Runner up score\n",
        "\n",
        "#   Sample input:\n",
        "#       3\n",
        "#       2\n",
        "#       3\n",
        "#       6\n",
        "\n",
        "#   Sample output:\n",
        "#       3"
      ],
      "execution_count": null,
      "outputs": []
    },
    {
      "cell_type": "code",
      "metadata": {
        "id": "mVk0nSHxhB08",
        "outputId": "146dfa09-8c92-4532-cfe0-2c58f030c14d"
      },
      "source": [
        "number = int(input(\"How many number are you going to enter? \"))\n",
        "number_list = [] \n",
        "for i in range(number):\n",
        "    current_num = int(input(\"Enter your number : \"))\n",
        "    number_list.append(current_num)\n",
        "print(number_list)\n",
        "number_list = list(set(number_list))\n",
        "number_list.sort()\n",
        "print(number_list[-2])"
      ],
      "execution_count": null,
      "outputs": [
        {
          "name": "stdout",
          "output_type": "stream",
          "text": [
            "[6, 5, 6, 4, 2]\n",
            "5\n"
          ]
        }
      ]
    },
    {
      "cell_type": "code",
      "metadata": {
        "id": "VbbQoJt-hB09",
        "outputId": "679b336c-c196-4a0d-a952-1b5c8a2ca26e"
      },
      "source": [
        "string = \"omer\"\n",
        "print(\"\".join(sorted(string)))"
      ],
      "execution_count": null,
      "outputs": [
        {
          "name": "stdout",
          "output_type": "stream",
          "text": [
            "emor\n"
          ]
        }
      ]
    },
    {
      "cell_type": "code",
      "metadata": {
        "id": "0umBJLmzhB0-"
      },
      "source": [
        "# 6 ogrenci 3 notunu girelim ve onlarin ilk sinav ortalamasini alalim"
      ],
      "execution_count": null,
      "outputs": []
    },
    {
      "cell_type": "code",
      "metadata": {
        "id": "H-zu3qaLhB0-"
      },
      "source": [
        ""
      ],
      "execution_count": null,
      "outputs": []
    },
    {
      "cell_type": "code",
      "metadata": {
        "id": "lWlOuunkhB0_"
      },
      "source": [
        "# reverse every string in a list\n",
        "\n",
        "#   Sample input:\n",
        "#       'clarusway, omer mentor'\n",
        "\n",
        "#   Sample Output:\n",
        "#       ['yawsuralc', 'rotnem remo']"
      ],
      "execution_count": null,
      "outputs": []
    },
    {
      "cell_type": "code",
      "metadata": {
        "id": "TblLtudrhB0_",
        "outputId": "3a2616f3-d7ec-4e26-aea8-dd813daf455c"
      },
      "source": [
        "strs = input(\"Enter your strings as comma seperated\")\n",
        "strs = strs.split(\", \")\n",
        "for i in range(len(strs)):\n",
        "    strs[i] = strs[i][::-1]\n",
        "\n",
        "print(strs)"
      ],
      "execution_count": null,
      "outputs": [
        {
          "name": "stdout",
          "output_type": "stream",
          "text": [
            "['']\n"
          ]
        }
      ]
    },
    {
      "cell_type": "code",
      "metadata": {
        "id": "PA_qV-9JhB1A",
        "outputId": "c3b1933d-b587-405b-f861-1d9f16abed08"
      },
      "source": [
        "strs = input(\"Enter your strings as comma seperated\")\n",
        "strs = strs.split(\", \")\n",
        "reversed_strs = [i[::-1] for i in strs]\n",
        "reversed_strs"
      ],
      "execution_count": null,
      "outputs": [
        {
          "data": {
            "text/plain": [
              "['yawsuralc', 'rotnem remo']"
            ]
          },
          "execution_count": 23,
          "metadata": {},
          "output_type": "execute_result"
        }
      ]
    },
    {
      "cell_type": "code",
      "metadata": {
        "id": "rjqwfuNThB1A",
        "outputId": "a5b41dc2-f812-4642-c023-c2f191e45053"
      },
      "source": [
        "# 371 = 3^3 + 7^3 + 1^3 -> armstrong sayisidir\n",
        "\n",
        "number = input(\"Enter your number\") \n",
        "if number.isdigit() and int(number) > 0:\n",
        "    length = len(number)\n",
        "    sum = 0\n",
        "    for integer in number:\n",
        "        integer = int(integer)\n",
        "        sum += integer ** length\n",
        "    if int(number) == sum:\n",
        "        print(\"This is an armstrong number\")\n",
        "    else:\n",
        "        print(\"This is not an armstrong number\")\n",
        "else:\n",
        "    print(\"Please enter a valid number\")\n"
      ],
      "execution_count": null,
      "outputs": [
        {
          "name": "stdout",
          "output_type": "stream",
          "text": [
            "This is not an armstrong number\n",
            "This is not an armstrong number\n",
            "This is an armstrong number\n"
          ]
        }
      ]
    },
    {
      "cell_type": "code",
      "metadata": {
        "id": "3a47GwLuhB1B",
        "outputId": "4e685aa7-029e-474f-a32d-148cb9bd2442"
      },
      "source": [
        "while(True):\n",
        "    number = input(\"Enter your number\") \n",
        "    if number.isdigit() and int(number) > 0:\n",
        "        length = len(number)\n",
        "        sum = 0\n",
        "        for integer in number:\n",
        "            integer = int(integer)\n",
        "            sum += integer ** length\n",
        "        if int(number) == sum:\n",
        "            print(\"This is an armstrong number\")  \n",
        "        else:\n",
        "            print(\"This is not an armstrong number\")\n",
        "        break\n",
        "    else:\n",
        "        print(\"Please enter a valid number\")"
      ],
      "execution_count": null,
      "outputs": [
        {
          "name": "stdout",
          "output_type": "stream",
          "text": [
            "Please enter a valid number\n",
            "Please enter a valid number\n",
            "This is not an armstrong number\n",
            "This is an armstrong number\n"
          ]
        }
      ]
    },
    {
      "cell_type": "code",
      "metadata": {
        "id": "nPzahFsUhB1B"
      },
      "source": [
        ""
      ],
      "execution_count": null,
      "outputs": []
    }
  ]
}