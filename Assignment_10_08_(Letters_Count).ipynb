{
  "nbformat": 4,
  "nbformat_minor": 0,
  "metadata": {
    "colab": {
      "name": "Assignment - 10/08 (Letters Count).ipynb",
      "provenance": [],
      "collapsed_sections": [],
      "authorship_tag": "ABX9TyNjMvDbwpvQL0q7x+1zg8qd",
      "include_colab_link": true
    },
    "kernelspec": {
      "name": "python3",
      "display_name": "Python 3"
    },
    "language_info": {
      "name": "python"
    }
  },
  "cells": [
    {
      "cell_type": "markdown",
      "metadata": {
        "id": "view-in-github",
        "colab_type": "text"
      },
      "source": [
        "<a href=\"https://colab.research.google.com/github/metindrk/Python-Assignment/blob/main/Assignment_10_08_(Letters_Count).ipynb\" target=\"_parent\"><img src=\"https://colab.research.google.com/assets/colab-badge.svg\" alt=\"Open In Colab\"/></a>"
      ]
    },
    {
      "cell_type": "code",
      "execution_count": null,
      "metadata": {
        "id": "APatPAAe7mQS"
      },
      "outputs": [],
      "source": [
        "Task:\n",
        "\n",
        "Count the number of each letter in a sentence.\n",
        "The department you work for undertook a project construction that makes word / text analysis. \n",
        "You are asked to calculate the number of letters or any chars in the sentences \n",
        "entered under this project. Write a Python program that; takes a sentence from the user,\n",
        "counts the number of each letter of the sentence,\n",
        "collects the letters/chars as a key and the counted numbers as a value in a dictionary.\n",
        "\n",
        "Examples\n",
        "Sample inputs\tOutputs\n",
        "hippo runs to us!\t\n",
        "{'s': 2, 'r': 1, 't': 1, 'h': 1, 'n': 1, \n",
        "'i': 1, 'u': 2, 'o': 2, 'p': 2, ' ': 3, '!': 1}\n"
      ]
    },
    {
      "cell_type": "code",
      "source": [
        "def char_frequency(str1):\n",
        "    dict = {}\n",
        "    for n in str1:\n",
        "        keys = dict.keys()\n",
        "        if n in keys:\n",
        "            dict[n] += 1\n",
        "        else:\n",
        "            dict[n] = 1\n",
        "    return dict\n",
        "print(char_frequency('hippo runs to us!'))"
      ],
      "metadata": {
        "id": "nCjtqyWV8EBF",
        "colab": {
          "base_uri": "https://localhost:8080/"
        },
        "outputId": "7d67827f-0693-487c-de5e-e9fb035f9955"
      },
      "execution_count": 4,
      "outputs": [
        {
          "output_type": "stream",
          "name": "stdout",
          "text": [
            "{'h': 1, 'i': 1, 'p': 2, 'o': 2, ' ': 3, 'r': 1, 'u': 2, 'n': 1, 's': 2, 't': 1, '!': 1}\n"
          ]
        }
      ]
    },
    {
      "cell_type": "code",
      "source": [
        ""
      ],
      "metadata": {
        "id": "61M1_J7u8EK3"
      },
      "execution_count": null,
      "outputs": []
    },
    {
      "cell_type": "code",
      "source": [
        ""
      ],
      "metadata": {
        "id": "j0Tei5BI8EN_"
      },
      "execution_count": null,
      "outputs": []
    },
    {
      "cell_type": "code",
      "source": [
        ""
      ],
      "metadata": {
        "id": "LCQaaZaT8ERC"
      },
      "execution_count": null,
      "outputs": []
    },
    {
      "cell_type": "code",
      "source": [
        ""
      ],
      "metadata": {
        "id": "4FsgdFB98EUC"
      },
      "execution_count": null,
      "outputs": []
    },
    {
      "cell_type": "code",
      "source": [
        ""
      ],
      "metadata": {
        "id": "44Bysj7y8EXL"
      },
      "execution_count": null,
      "outputs": []
    },
    {
      "cell_type": "code",
      "source": [
        ""
      ],
      "metadata": {
        "id": "gMKO7WoW8EaQ"
      },
      "execution_count": null,
      "outputs": []
    },
    {
      "cell_type": "code",
      "source": [
        ""
      ],
      "metadata": {
        "id": "3GOIVHUp8Edk"
      },
      "execution_count": null,
      "outputs": []
    },
    {
      "cell_type": "code",
      "source": [
        ""
      ],
      "metadata": {
        "id": "VO0YUpbt8Eg2"
      },
      "execution_count": null,
      "outputs": []
    },
    {
      "cell_type": "code",
      "source": [
        ""
      ],
      "metadata": {
        "id": "kC7JoQ_v8Ejw"
      },
      "execution_count": null,
      "outputs": []
    },
    {
      "cell_type": "code",
      "source": [
        ""
      ],
      "metadata": {
        "id": "s8lq_rWi8Emr"
      },
      "execution_count": null,
      "outputs": []
    }
  ]
}