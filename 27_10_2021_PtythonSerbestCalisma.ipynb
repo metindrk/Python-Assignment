{
  "nbformat": 4,
  "nbformat_minor": 5,
  "metadata": {
    "interpreter": {
      "hash": "9e420b6fa3fd7b9b81ddbcd254cb3b74e9e7beae700425c33bc97f90b494e529"
    },
    "kernelspec": {
      "display_name": "Python 3.9.2 64-bit",
      "name": "python3"
    },
    "language_info": {
      "codemirror_mode": {
        "name": "ipython",
        "version": 3
      },
      "file_extension": ".py",
      "mimetype": "text/x-python",
      "name": "python",
      "nbconvert_exporter": "python",
      "pygments_lexer": "ipython3",
      "version": "3.9.2"
    },
    "colab": {
      "name": "27.10.2021_PtythonSerbestCalisma.ipynb",
      "provenance": [],
      "include_colab_link": true
    }
  },
  "cells": [
    {
      "cell_type": "markdown",
      "metadata": {
        "id": "view-in-github",
        "colab_type": "text"
      },
      "source": [
        "<a href=\"https://colab.research.google.com/github/metindrk/Python-Assignment/blob/main/27_10_2021_PtythonSerbestCalisma.ipynb\" target=\"_parent\"><img src=\"https://colab.research.google.com/assets/colab-badge.svg\" alt=\"Open In Colab\"/></a>"
      ]
    },
    {
      "cell_type": "markdown",
      "metadata": {
        "id": "fRjdkyQMhr2m"
      },
      "source": [
        "Soru: Dik üçgende dik açının karşısındaki kenara hipotenüs denir. Hipotenüs formülü : a^2 + b^2 = c^2 olduğuna göre kullanıcıdan alınan A ve B kenarına göre hipotenüsü hesaplayan kodu yazınız."
      ],
      "id": "fRjdkyQMhr2m"
    },
    {
      "cell_type": "code",
      "metadata": {
        "id": "ACw8eePQhr2u"
      },
      "source": [
        "a = int(input(\"a kenarını giriniz: \"))\n",
        "b = int(input(\"b kenarını giriniz: \"))\n",
        "\n",
        "c = (a**2 + b**2)**(1/2)\n",
        "\n",
        "print(c)"
      ],
      "id": "ACw8eePQhr2u",
      "execution_count": null,
      "outputs": []
    },
    {
      "cell_type": "markdown",
      "metadata": {
        "id": "VUAmc-jShr2w"
      },
      "source": [
        "Soru: Beden kütle endeksi kilo/boy^2 formülü ile hesaplanarak bireyin kilolu normal zayıf veya obez sınıfına girdiği ile ilgili sonuç verir. Kütle Endeksi (KE) < 18.5 ise Zayıf , 18.5 < (KE) <=25 ise Normal , 25 < (KE) <= 30 ise Kilolu , (KE) > 25 ise birey obez sınıfına girmektedir. Kütle endeksi kodunu yazınız."
      ],
      "id": "VUAmc-jShr2w"
    },
    {
      "cell_type": "code",
      "metadata": {
        "id": "iqohjC5mhr2x"
      },
      "source": [
        "boy = float(input(\"boy giriniz: \"))\n",
        "kilo = float(input(\"kilo giriniz: \"))\n",
        "\n",
        "endeks  = kilo/(boy**2)\n",
        "\n",
        "if endeks < 18.5:\n",
        "    print(\"Zayıf\")\n",
        "    \n",
        "elif 18.5 < endeks <=25:\n",
        "    print(\"Normal\")\n",
        "elif 25< endeks <=30:\n",
        "    print(\"Kilolu\")\n",
        "elif endeks > 30:\n",
        "    print(\"obez\")\n",
        "    \n",
        "    "
      ],
      "id": "iqohjC5mhr2x",
      "execution_count": null,
      "outputs": []
    },
    {
      "cell_type": "code",
      "metadata": {
        "id": "9CMPXi_Rhr2y"
      },
      "source": [
        "row = 5\n",
        "\n",
        "for i in range(row,0,-1):\n",
        "    for j in range(i):\n",
        "        print(\"*\", end=\" \")\n",
        "    print()\n",
        "    "
      ],
      "id": "9CMPXi_Rhr2y",
      "execution_count": null,
      "outputs": []
    },
    {
      "cell_type": "code",
      "metadata": {
        "id": "DUQ2ygPKhr2z"
      },
      "source": [
        "for k in range(5,0,-1):\n",
        "    for i in range(k):\n",
        "        print(\"*\", end= \" \")\n",
        "    print()\n"
      ],
      "id": "DUQ2ygPKhr2z",
      "execution_count": null,
      "outputs": []
    },
    {
      "cell_type": "code",
      "metadata": {
        "id": "VA5jqPFxhr20"
      },
      "source": [
        "isim = \"fevzi\"\n",
        "sehirler = [\"ankara\", \"kayseri\", \"istanbul\"]\n",
        "\n",
        "\n",
        "for sehir in sehirler:\n",
        "    for i in sehir:\n",
        "        print(i)\n",
        "    \n",
        "    "
      ],
      "id": "VA5jqPFxhr20",
      "execution_count": null,
      "outputs": []
    },
    {
      "cell_type": "code",
      "metadata": {
        "id": "DfmZgERahr21"
      },
      "source": [
        "rows = 29\n",
        "\n",
        "ascii_value = 65\n",
        "\n",
        "for i in range(rows):\n",
        "    \n",
        "    alphabet = chr(ascii_value)\n",
        "    print(alphabet, end=\" \")\n",
        "    \n",
        "    ascii_value += 1\n",
        "print()"
      ],
      "id": "DfmZgERahr21",
      "execution_count": null,
      "outputs": []
    },
    {
      "cell_type": "code",
      "metadata": {
        "id": "fRELzTGChr22"
      },
      "source": [
        "numbers = [2,4,6,4,7,8,9,1,10]\n",
        "\n",
        "for i in numbers:  # 2 4 6 4 7 8 9 1 10\n",
        "    if i%2==0:\n",
        "        print(i, end=\" \") # 2 4 6 4 8 10\n",
        "        \n",
        "    elif i%2==1:\n",
        "        print(i, end=\" \") # 7 9 1 \n",
        "        "
      ],
      "id": "fRELzTGChr22",
      "execution_count": null,
      "outputs": []
    },
    {
      "cell_type": "code",
      "metadata": {
        "id": "BM7Dd4Imhr22"
      },
      "source": [
        "numbers = [2, 4, 6, 4, 7, 8, 9, 1, 10]\n",
        "\n",
        "cift_sayilar = []\n",
        "tek_sayilar = []\n",
        "\n",
        "for i in numbers:\n",
        "  if i % 2 == 0:\n",
        "    cift_sayilar.append(i)\n",
        "  elif i % 2 == 1:\n",
        "    tek_sayilar.append(i)\n",
        "\n",
        "print(sorted(set(cift_sayilar))) # 4 sayısı bir daha yazılmasın diye set kullandım\n",
        "print(sorted(set(tek_sayilar)))"
      ],
      "id": "BM7Dd4Imhr22",
      "execution_count": null,
      "outputs": []
    },
    {
      "cell_type": "code",
      "metadata": {
        "id": "GQXv9QNbhr23"
      },
      "source": [
        "a = 33\n",
        "b = 3\n",
        "\n",
        "print(\"A\") if a > b else print(\"=\") if a == b else print(\"B\")"
      ],
      "id": "GQXv9QNbhr23",
      "execution_count": null,
      "outputs": []
    },
    {
      "cell_type": "code",
      "metadata": {
        "id": "wszloT7Mhr23"
      },
      "source": [
        "a =5\n",
        "b =5\n",
        "\n",
        "if a>b:\n",
        "    print(\"A\")\n",
        "elif a==b:\n",
        "    print(\"eşit\")\n",
        "else:\n",
        "    print(\"B\")"
      ],
      "id": "wszloT7Mhr23",
      "execution_count": null,
      "outputs": []
    },
    {
      "cell_type": "code",
      "metadata": {
        "id": "KQFwceGDhr24"
      },
      "source": [
        "a = 400\n",
        "b = 200\n",
        "\n",
        "if b > a:\n",
        "  pass"
      ],
      "id": "KQFwceGDhr24",
      "execution_count": null,
      "outputs": []
    },
    {
      "cell_type": "code",
      "metadata": {
        "id": "UIpwS0whhr24"
      },
      "source": [
        "sayilar = list(range(1,10))\n",
        "print(sayilar)"
      ],
      "id": "UIpwS0whhr24",
      "execution_count": null,
      "outputs": []
    },
    {
      "cell_type": "code",
      "metadata": {
        "id": "sMoBtfn0hr25"
      },
      "source": [
        "fruits = [\"apple\", \"banana\", \"cherry\"]\n",
        "\n",
        "for x in fruits:\n",
        "  if x == \"banana\":\n",
        "    continue\n",
        "  print(x)"
      ],
      "id": "sMoBtfn0hr25",
      "execution_count": null,
      "outputs": []
    },
    {
      "cell_type": "code",
      "metadata": {
        "id": "jPfVUz5Nhr25"
      },
      "source": [
        "sayilar = list(range(1,10))\n",
        "\n",
        "for i in sayilar: # 1 2 3 4 5 6 7\n",
        "    print(i)\n",
        "    if i == 7:        \n",
        "        break\n",
        "  "
      ],
      "id": "jPfVUz5Nhr25",
      "execution_count": null,
      "outputs": []
    },
    {
      "cell_type": "code",
      "metadata": {
        "id": "GCvE12Rmhr25"
      },
      "source": [
        "sayilar = list(range(1,10))\n",
        "\n",
        "for i in sayilar: # 1 2 3 4 5 6 7\n",
        "    \n",
        "    if i == 7:        \n",
        "        break\n",
        "    print(i)"
      ],
      "id": "GCvE12Rmhr25",
      "execution_count": null,
      "outputs": []
    },
    {
      "cell_type": "code",
      "metadata": {
        "id": "zqBTfqtBhr26"
      },
      "source": [
        "i = 1\n",
        "while i <= 6:\n",
        "  \n",
        "  if i == 3:\n",
        "    break\n",
        "  print(i)\n",
        "  i += 1"
      ],
      "id": "zqBTfqtBhr26",
      "execution_count": null,
      "outputs": []
    },
    {
      "cell_type": "code",
      "metadata": {
        "id": "0YbGm1mWhr26"
      },
      "source": [
        "answer = 44\n",
        "\n",
        "question = 'What number am I thinking of?  '\n",
        "print (\"Let's play the guessing game!\")\n",
        "\n",
        "while True:\n",
        "    guess = int(input(question))\n",
        "\n",
        "    if guess < answer:\n",
        "        print('Little higher')\n",
        "    elif guess > answer:\n",
        "        print('Little lower')\n",
        "    else:  # guess == answer\n",
        "        print('Are you a MINDREADER!!!')\n",
        "        break"
      ],
      "id": "0YbGm1mWhr26",
      "execution_count": null,
      "outputs": []
    },
    {
      "cell_type": "code",
      "metadata": {
        "id": "jMmiyD66hr26"
      },
      "source": [
        "answer = 44\n",
        "\n",
        "question = 'What number am I thinking of?  '\n",
        "print (\"Let's play the guessing game!\")\n",
        "\n",
        "\n",
        "while answer!=guess:\n",
        "    guess = int(input(question))\n",
        "\n",
        "    if guess < answer:\n",
        "        print('Little higher')\n",
        "    elif guess > answer:\n",
        "        print('Little lower')\n",
        "    else:  # guess == answer\n",
        "        print('Are you a MINDREADER!!!')\n",
        "        "
      ],
      "id": "jMmiyD66hr26",
      "execution_count": null,
      "outputs": []
    }
  ]
}