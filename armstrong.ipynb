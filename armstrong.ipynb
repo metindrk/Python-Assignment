{
  "nbformat": 4,
  "nbformat_minor": 0,
  "metadata": {
    "colab": {
      "name": "armstrong.ipynb",
      "provenance": [],
      "collapsed_sections": [],
      "authorship_tag": "ABX9TyPSMumYvORbk4QILSmqCrJZ",
      "include_colab_link": true
    },
    "kernelspec": {
      "name": "python3",
      "display_name": "Python 3"
    },
    "language_info": {
      "name": "python"
    }
  },
  "cells": [
    {
      "cell_type": "markdown",
      "metadata": {
        "id": "view-in-github",
        "colab_type": "text"
      },
      "source": [
        "<a href=\"https://colab.research.google.com/github/metindrk/Python-Assignment/blob/main/armstrong.ipynb\" target=\"_parent\"><img src=\"https://colab.research.google.com/assets/colab-badge.svg\" alt=\"Open In Colab\"/></a>"
      ]
    },
    {
      "cell_type": "code",
      "metadata": {
        "id": "28GTtIPkR3J3"
      },
      "source": [
        "Task:\n",
        "\n",
        "Find out if a given number is an \"Armstrong Number\".\n",
        "\n",
        "An n-digit number that is the sum of the nth powers of its digits is called an n-Armstrong number. Examples :\n",
        "371 = 3**3 + 7**3 + 1**3;\n",
        "9474 = 9**4 + 4**4 + 7**4 + 4**4;\n",
        "93084 = 9**5 + 3**5 + 0**5 + 8**5 + 4**5.\n",
        "\n",
        "Write a Python program that;\n",
        "takes a positive integer number from the user,\n",
        "checks the entered number if it is Armstrong,\n",
        "consider the negative, float and any entries other than numeric values then display a warning message to the user.\n",
        "\n",
        "Examples\n",
        "Sample inputs\t          Outputs\n",
        "407\t                    407 is an Armstrong number\n",
        "5\t                      5 is an Armstrong number\n",
        "-153\t                  It is an invalid entry. Don't use non-numeric, float, or negative values!\n",
        "153.87 or 153,87\t      It is an invalid entry. Don't use non-numeric, float, or negative values!\n",
        "one\t                    It is an invalid entry. Don't use non-numeric, float, or negative values!\n",
        "121\t                    121 is not an Armstrong number"
      ],
      "execution_count": null,
      "outputs": []
    },
    {
      "cell_type": "code",
      "metadata": {
        "id": "0VRr8nIzL9mP"
      },
      "source": [
        "number = input(\"Enter your number :\")\n",
        "if number.isdigit() and int(number) > 0 :\n",
        "  length = len(number)\n",
        "  sum = 0\n",
        "  for integer in number :\n",
        "    integer = int(integer)\n",
        "    sum += integer ** length\n",
        "  if int(number) == sum :\n",
        "    print(number,\"is an Armstrong number\")\n",
        "  else :\n",
        "    print(number,\"is not an Armstrong number\")\n",
        "\n",
        "else :\n",
        "  print(\"It is an invalid entry. Don't use non-numeric, float, or negative values!\")"
      ],
      "execution_count": null,
      "outputs": []
    },
    {
      "cell_type": "code",
      "metadata": {
        "colab": {
          "base_uri": "https://localhost:8080/"
        },
        "id": "atXdBj-nL9sO",
        "outputId": "64158908-87f8-48cf-d924-040692d87fe9"
      },
      "source": [
        "n = 3**3 + 7**3+ 1**3\n",
        "n"
      ],
      "execution_count": 14,
      "outputs": [
        {
          "output_type": "execute_result",
          "data": {
            "text/plain": [
              "371"
            ]
          },
          "metadata": {},
          "execution_count": 14
        }
      ]
    },
    {
      "cell_type": "code",
      "metadata": {
        "id": "raeC-_kVL9_k"
      },
      "source": [
        ""
      ],
      "execution_count": null,
      "outputs": []
    }
  ]
}