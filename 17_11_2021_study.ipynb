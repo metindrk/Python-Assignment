{
  "nbformat": 4,
  "nbformat_minor": 0,
  "metadata": {
    "colab": {
      "name": "17.11.2021 study.ipynb",
      "provenance": [],
      "collapsed_sections": [],
      "authorship_tag": "ABX9TyNYsOPUU4FGD7J9fCTLmq2y",
      "include_colab_link": true
    },
    "kernelspec": {
      "name": "python3",
      "display_name": "Python 3"
    },
    "language_info": {
      "name": "python"
    }
  },
  "cells": [
    {
      "cell_type": "markdown",
      "metadata": {
        "id": "view-in-github",
        "colab_type": "text"
      },
      "source": [
        "<a href=\"https://colab.research.google.com/github/metindrk/Python-Assignment/blob/main/17_11_2021_study.ipynb\" target=\"_parent\"><img src=\"https://colab.research.google.com/assets/colab-badge.svg\" alt=\"Open In Colab\"/></a>"
      ]
    },
    {
      "cell_type": "code",
      "metadata": {
        "colab": {
          "base_uri": "https://localhost:8080/"
        },
        "id": "aQtSDdLZJX3c",
        "outputId": "1a9d229f-fda9-4565-e338-498b47554ce0"
      },
      "source": [
        "listA = [\"susan\", \"tom\", False, 0, 22, \"0\"]\n",
        "filtered_list = filter(None, listA)            #if None entered, Only True can be collected and written.\n",
        "filtered_list"
      ],
      "execution_count": 1,
      "outputs": [
        {
          "output_type": "execute_result",
          "data": {
            "text/plain": [
              "<filter at 0x7f6e5b6cced0>"
            ]
          },
          "metadata": {},
          "execution_count": 1
        }
      ]
    },
    {
      "cell_type": "code",
      "metadata": {
        "colab": {
          "base_uri": "https://localhost:8080/"
        },
        "id": "I3YPeqUFJett",
        "outputId": "6c84d8a8-13c0-456c-85d6-0a26e43e5e3f"
      },
      "source": [
        "print(\"the filtered elements are :\")\n",
        "for i in filtered_list :\n",
        "  print(i)\n"
      ],
      "execution_count": 2,
      "outputs": [
        {
          "output_type": "stream",
          "name": "stdout",
          "text": [
            "the filtered elements are :\n",
            "susan\n",
            "tom\n",
            "22\n"
          ]
        }
      ]
    },
    {
      "cell_type": "code",
      "metadata": {
        "colab": {
          "base_uri": "https://localhost:8080/"
        },
        "id": "2_eZyJfkJewn",
        "outputId": "d520e778-36b7-41ab-fd2c-200249c89fce"
      },
      "source": [
        "grocery = [\"bread\", \"water\", \"olive\"]\n",
        "enum_grocery = enumerate(grocery)\n",
        "\n",
        "print(type(enum_grocery))\n",
        "print(list(enum_grocery))\n",
        "enum_grocery = enumerate(grocery, 10)\n",
        "print(list(enum_grocery))"
      ],
      "execution_count": 3,
      "outputs": [
        {
          "output_type": "stream",
          "name": "stdout",
          "text": [
            "<class 'enumerate'>\n",
            "[(0, 'bread'), (1, 'water'), (2, 'olive')]\n",
            "[(10, 'bread'), (11, 'water'), (12, 'olive')]\n"
          ]
        }
      ]
    },
    {
      "cell_type": "code",
      "metadata": {
        "colab": {
          "base_uri": "https://localhost:8080/"
        },
        "id": "nCvQOY5IJeza",
        "outputId": "878188c7-130c-46a7-b5f2-59d2fa3eef9b"
      },
      "source": [
        "grocery = [\"bread\", \"water\", \"olive\"]\n",
        "enum_grocery = enumerate(grocery)\n",
        "                                       # enumerate(iterable, start = 0) on the air ketum olan funct.\n",
        "print(type(enum_grocery))\n",
        "print(list(enum_grocery))\n",
        "enum_grocery = enumerate(grocery, 5)\n",
        "print(list(enum_grocery))"
      ],
      "execution_count": 4,
      "outputs": [
        {
          "output_type": "stream",
          "name": "stdout",
          "text": [
            "<class 'enumerate'>\n",
            "[(0, 'bread'), (1, 'water'), (2, 'olive')]\n",
            "[(5, 'bread'), (6, 'water'), (7, 'olive')]\n"
          ]
        }
      ]
    },
    {
      "cell_type": "code",
      "metadata": {
        "colab": {
          "base_uri": "https://localhost:8080/",
          "height": 35
        },
        "id": "P0EeiTIBJe2q",
        "outputId": "53acd4ee-1b08-4570-a07a-7acd96f86bcd"
      },
      "source": [
        "min(\"ahmet\")"
      ],
      "execution_count": 5,
      "outputs": [
        {
          "output_type": "execute_result",
          "data": {
            "application/vnd.google.colaboratory.intrinsic+json": {
              "type": "string"
            },
            "text/plain": [
              "'a'"
            ]
          },
          "metadata": {},
          "execution_count": 5
        }
      ]
    },
    {
      "cell_type": "code",
      "metadata": {
        "colab": {
          "base_uri": "https://localhost:8080/",
          "height": 35
        },
        "id": "RL83RGLbMLeq",
        "outputId": "e37bc654-7aa9-4189-f6d3-47627c3729a2"
      },
      "source": [
        "max(\"ahmet\")"
      ],
      "execution_count": 6,
      "outputs": [
        {
          "output_type": "execute_result",
          "data": {
            "application/vnd.google.colaboratory.intrinsic+json": {
              "type": "string"
            },
            "text/plain": [
              "'t'"
            ]
          },
          "metadata": {},
          "execution_count": 6
        }
      ]
    },
    {
      "cell_type": "code",
      "metadata": {
        "colab": {
          "base_uri": "https://localhost:8080/"
        },
        "id": "RGr8wYVeMLhg",
        "outputId": "ade698f6-9b44-4222-f792-ee66a75fd570"
      },
      "source": [
        "ord(\"a\")"
      ],
      "execution_count": 7,
      "outputs": [
        {
          "output_type": "execute_result",
          "data": {
            "text/plain": [
              "97"
            ]
          },
          "metadata": {},
          "execution_count": 7
        }
      ]
    },
    {
      "cell_type": "code",
      "metadata": {
        "colab": {
          "base_uri": "https://localhost:8080/"
        },
        "id": "wNzA72hgMLka",
        "outputId": "df0144d7-9a46-4451-971d-48b2924f3c1e"
      },
      "source": [
        "ord(\"t\")"
      ],
      "execution_count": 8,
      "outputs": [
        {
          "output_type": "execute_result",
          "data": {
            "text/plain": [
              "116"
            ]
          },
          "metadata": {},
          "execution_count": 8
        }
      ]
    },
    {
      "cell_type": "code",
      "metadata": {
        "colab": {
          "base_uri": "https://localhost:8080/"
        },
        "id": "m-sLkC0VMLnb",
        "outputId": "506902c2-ca0d-4136-bca8-9396f89db116"
      },
      "source": [
        "max(1,2,3,4,5,89)"
      ],
      "execution_count": 9,
      "outputs": [
        {
          "output_type": "execute_result",
          "data": {
            "text/plain": [
              "89"
            ]
          },
          "metadata": {},
          "execution_count": 9
        }
      ]
    },
    {
      "cell_type": "code",
      "metadata": {
        "colab": {
          "base_uri": "https://localhost:8080/"
        },
        "id": "OsL828iAMLqm",
        "outputId": "ff0c2ca0-7fe4-4548-b3bc-ac37054f6638"
      },
      "source": [
        "min(1,2,39,-78)"
      ],
      "execution_count": 10,
      "outputs": [
        {
          "output_type": "execute_result",
          "data": {
            "text/plain": [
              "-78"
            ]
          },
          "metadata": {},
          "execution_count": 10
        }
      ]
    },
    {
      "cell_type": "code",
      "metadata": {
        "colab": {
          "base_uri": "https://localhost:8080/"
        },
        "id": "8mgU45kNMLtN",
        "outputId": "07e8d1a5-314d-4a8c-a2a2-7ba8594957fc"
      },
      "source": [
        "sum([1,2,3,4])\n",
        "#sum(25,start = 0)"
      ],
      "execution_count": 115,
      "outputs": [
        {
          "output_type": "execute_result",
          "data": {
            "text/plain": [
              "10"
            ]
          },
          "metadata": {},
          "execution_count": 115
        }
      ]
    },
    {
      "cell_type": "code",
      "metadata": {
        "colab": {
          "base_uri": "https://localhost:8080/"
        },
        "id": "R4q4hqONuJlE",
        "outputId": "a159deb5-1e45-4966-82ef-92be35ff1dd3"
      },
      "source": [
        "num={1,2,3,4,5,6}\n",
        "sum(num)"
      ],
      "execution_count": 118,
      "outputs": [
        {
          "output_type": "execute_result",
          "data": {
            "text/plain": [
              "21"
            ]
          },
          "metadata": {},
          "execution_count": 118
        }
      ]
    },
    {
      "cell_type": "code",
      "metadata": {
        "colab": {
          "base_uri": "https://localhost:8080/"
        },
        "id": "Q07574TKMLwE",
        "outputId": "b6431d83-233d-45d8-90e6-45ac07b3be1a"
      },
      "source": [
        "print(round(3.675, 2))"
      ],
      "execution_count": 13,
      "outputs": [
        {
          "output_type": "stream",
          "name": "stdout",
          "text": [
            "3.67\n"
          ]
        }
      ]
    },
    {
      "cell_type": "code",
      "metadata": {
        "id": "X3wGn6XNMLy_"
      },
      "source": [
        "def ilk_fonksiyonum(x, y) :\n",
        "  print(x**2 + y**2)"
      ],
      "execution_count": 17,
      "outputs": []
    },
    {
      "cell_type": "code",
      "metadata": {
        "colab": {
          "base_uri": "https://localhost:8080/"
        },
        "id": "1VjJKTCrS0Lz",
        "outputId": "b34cf7e6-e5a8-40d8-9fc5-e271c1c88d58"
      },
      "source": [
        "ilk_fonksiyonum(3,4)"
      ],
      "execution_count": 18,
      "outputs": [
        {
          "output_type": "stream",
          "name": "stdout",
          "text": [
            "25\n"
          ]
        }
      ]
    },
    {
      "cell_type": "code",
      "metadata": {
        "id": "27sF8ElpS0Oy"
      },
      "source": [
        "def hipotenus(a, b) :\n",
        "  print((a**2 + b**2)**0.5)"
      ],
      "execution_count": 24,
      "outputs": []
    },
    {
      "cell_type": "code",
      "metadata": {
        "colab": {
          "base_uri": "https://localhost:8080/"
        },
        "id": "6icXdpluS0SC",
        "outputId": "76755fa7-1e8a-48e2-c6e1-d65309f4c3b2"
      },
      "source": [
        "hipotenus(3,4)"
      ],
      "execution_count": 23,
      "outputs": [
        {
          "output_type": "stream",
          "name": "stdout",
          "text": [
            "5.0\n"
          ]
        }
      ]
    },
    {
      "cell_type": "code",
      "metadata": {
        "id": "t1UZxc0WS0U_"
      },
      "source": [
        "def multiply(a,b) :\n",
        "  print(a * b)"
      ],
      "execution_count": 25,
      "outputs": []
    },
    {
      "cell_type": "code",
      "metadata": {
        "colab": {
          "base_uri": "https://localhost:8080/"
        },
        "id": "1R12hzDdS0X-",
        "outputId": "826bddce-4b0e-4a40-a1d7-5fad49992648"
      },
      "source": [
        "multiply(3, 5)\n",
        "multiply(-1,2.5)\n",
        "multiply(\"amazing \", 3)"
      ],
      "execution_count": 28,
      "outputs": [
        {
          "output_type": "stream",
          "name": "stdout",
          "text": [
            "15\n",
            "-2.5\n",
            "amazing amazing amazing \n"
          ]
        }
      ]
    },
    {
      "cell_type": "code",
      "metadata": {
        "id": "UEozQCyxS0a2"
      },
      "source": [
        "def motto() :\n",
        "  print(\"Don't hesitate to reinvent yourself!\")"
      ],
      "execution_count": 35,
      "outputs": []
    },
    {
      "cell_type": "code",
      "metadata": {
        "colab": {
          "base_uri": "https://localhost:8080/"
        },
        "id": "tQ04O50US0d6",
        "outputId": "3d0187d9-05b1-49b5-9ce3-3efc81bf2f41"
      },
      "source": [
        "motto()"
      ],
      "execution_count": 34,
      "outputs": [
        {
          "output_type": "stream",
          "name": "stdout",
          "text": [
            "Don't hesitate to reşnvent yourself!\n"
          ]
        }
      ]
    },
    {
      "cell_type": "code",
      "metadata": {
        "id": "cEpZtchDML12"
      },
      "source": [
        "def rumi():\n",
        "  print(\"\"\"Duydum ki bizi bırakmaya azmediyorsun, etme.\n",
        "Başka bir yar, başka bir dosta meylediyorsun, etme.\n",
        "Sen yadeller dünyasında ne arıyorsun yabancı?\n",
        "Hangi hasta gönüllüyü kastediyorsun, etme.\n",
        "Çalma bizi, bizden bizi, gitme o ellere doğru.\n",
        "Çalınmış başkalarına nazar ediyorsun, etme.\"\"\")"
      ],
      "execution_count": 31,
      "outputs": []
    },
    {
      "cell_type": "code",
      "metadata": {
        "colab": {
          "base_uri": "https://localhost:8080/"
        },
        "id": "1TvtJe5TML4q",
        "outputId": "a4efa875-2b79-49d8-b910-b6d0f3e56935"
      },
      "source": [
        "rumi()"
      ],
      "execution_count": 33,
      "outputs": [
        {
          "output_type": "stream",
          "name": "stdout",
          "text": [
            "Duydum ki bizi bırakmaya azmediyorsun, etme.\n",
            "Başka bir yar, başka bir dosta meylediyorsun, etme.\n",
            "Sen yadeller dünyasında ne arıyorsun yabancı?\n",
            "Hangi hasta gönüllüyü kastediyorsun, etme.\n",
            "Çalma bizi, bizden bizi, gitme o ellere doğru.\n",
            "Çalınmış başkalarına nazar ediyorsun, etme.\n"
          ]
        }
      ]
    },
    {
      "cell_type": "code",
      "metadata": {
        "id": "sJaTuEJkWScT"
      },
      "source": [
        "def add(a,b) :\n",
        "    print(a+b)"
      ],
      "execution_count": 36,
      "outputs": []
    },
    {
      "cell_type": "code",
      "metadata": {
        "colab": {
          "base_uri": "https://localhost:8080/"
        },
        "id": "Ofnt4OoAWSfY",
        "outputId": "072db6b6-db85-4b67-b250-a2708c608888"
      },
      "source": [
        "add(2,3)"
      ],
      "execution_count": 37,
      "outputs": [
        {
          "output_type": "stream",
          "name": "stdout",
          "text": [
            "5\n"
          ]
        }
      ]
    },
    {
      "cell_type": "code",
      "metadata": {
        "colab": {
          "base_uri": "https://localhost:8080/"
        },
        "id": "tNgtieCgWSiY",
        "outputId": "fb1b261c-bcc0-4807-955d-a267e22076f5"
      },
      "source": [
        "add(-5,6)"
      ],
      "execution_count": 38,
      "outputs": [
        {
          "output_type": "stream",
          "name": "stdout",
          "text": [
            "1\n"
          ]
        }
      ]
    },
    {
      "cell_type": "code",
      "metadata": {
        "colab": {
          "base_uri": "https://localhost:8080/"
        },
        "id": "O1WKYBJhWSlV",
        "outputId": "84cae9b0-5114-462c-9b43-905ebd69e387"
      },
      "source": [
        "add(\"5\", \"5\")"
      ],
      "execution_count": 39,
      "outputs": [
        {
          "output_type": "stream",
          "name": "stdout",
          "text": [
            "55\n"
          ]
        }
      ]
    },
    {
      "cell_type": "code",
      "metadata": {
        "id": "Z3oQysfHWSoP"
      },
      "source": [
        ""
      ],
      "execution_count": null,
      "outputs": []
    },
    {
      "cell_type": "code",
      "metadata": {
        "id": "wvYbZTDbWSrc"
      },
      "source": [
        "def calculator(a,b,sign):\n",
        "    if sign==\"+\":\n",
        "        print(a+b)\n",
        "    elif sign==\"-\":\n",
        "        print(a-b)\n",
        "    elif sign==\"*\":\n",
        "        print(a*b)\n",
        "    elif sign==\"/\":\n",
        "        print(a/b)\n",
        "    else:\n",
        "        print(\"Enter a valid arguments\")"
      ],
      "execution_count": 41,
      "outputs": []
    },
    {
      "cell_type": "code",
      "metadata": {
        "colab": {
          "base_uri": "https://localhost:8080/"
        },
        "id": "N4oA-JocWSuZ",
        "outputId": "45ae250c-c589-42a3-db9b-3b9ec8c3a2db"
      },
      "source": [
        "calculator(88, 22, \"+\")"
      ],
      "execution_count": 45,
      "outputs": [
        {
          "output_type": "stream",
          "name": "stdout",
          "text": [
            "110\n"
          ]
        }
      ]
    },
    {
      "cell_type": "code",
      "metadata": {
        "colab": {
          "base_uri": "https://localhost:8080/"
        },
        "id": "C39Tm7wLWSxM",
        "outputId": "558d83b0-6ce2-410c-b10d-0b40cc6e26cd"
      },
      "source": [
        "calculator(15,5,\"/\")"
      ],
      "execution_count": 46,
      "outputs": [
        {
          "output_type": "stream",
          "name": "stdout",
          "text": [
            "3.0\n"
          ]
        }
      ]
    },
    {
      "cell_type": "code",
      "metadata": {
        "colab": {
          "base_uri": "https://localhost:8080/"
        },
        "id": "tq3XBpQWZi4i",
        "outputId": "e7dd6ef0-cfc1-4765-cb85-72011d788a64"
      },
      "source": [
        "calculator(45,5,\":\")"
      ],
      "execution_count": 48,
      "outputs": [
        {
          "output_type": "stream",
          "name": "stdout",
          "text": [
            "Enter a valid arguments\n"
          ]
        }
      ]
    },
    {
      "cell_type": "code",
      "metadata": {
        "colab": {
          "base_uri": "https://localhost:8080/"
        },
        "id": "G6czatupZi8O",
        "outputId": "d7c6a9d4-e052-4b32-8fa9-cc66e7640233"
      },
      "source": [
        "50"
      ],
      "execution_count": 49,
      "outputs": [
        {
          "output_type": "execute_result",
          "data": {
            "text/plain": [
              "50"
            ]
          },
          "metadata": {},
          "execution_count": 49
        }
      ]
    },
    {
      "cell_type": "code",
      "metadata": {
        "colab": {
          "base_uri": "https://localhost:8080/",
          "height": 35
        },
        "id": "_9XdsDheaFGV",
        "outputId": "eb7029f6-c70d-4034-db33-5bce9a445a82"
      },
      "source": [
        "10\n",
        "\"string\"  # son olanı gösteriyor."
      ],
      "execution_count": 50,
      "outputs": [
        {
          "output_type": "execute_result",
          "data": {
            "application/vnd.google.colaboratory.intrinsic+json": {
              "type": "string"
            },
            "text/plain": [
              "'string'"
            ]
          },
          "metadata": {},
          "execution_count": 50
        }
      ]
    },
    {
      "cell_type": "code",
      "metadata": {
        "id": "pbGmiJczaFJX"
      },
      "source": [
        "def multiply1(a,b) :\n",
        "  print(a * b)"
      ],
      "execution_count": 52,
      "outputs": []
    },
    {
      "cell_type": "code",
      "metadata": {
        "id": "JgJgpPBWaFMf"
      },
      "source": [
        "def multiply2(a,b) :\n",
        "  return(a*b)"
      ],
      "execution_count": 53,
      "outputs": []
    },
    {
      "cell_type": "code",
      "metadata": {
        "colab": {
          "base_uri": "https://localhost:8080/"
        },
        "id": "c68OeFbtaFP4",
        "outputId": "69c66189-8d02-4460-bec6-bef419842a42"
      },
      "source": [
        "type(multiply1(3,5))\n",
        "type(multiply2(3,5))"
      ],
      "execution_count": 55,
      "outputs": [
        {
          "output_type": "stream",
          "name": "stdout",
          "text": [
            "15\n"
          ]
        },
        {
          "output_type": "execute_result",
          "data": {
            "text/plain": [
              "int"
            ]
          },
          "metadata": {},
          "execution_count": 55
        }
      ]
    },
    {
      "cell_type": "code",
      "metadata": {
        "id": "1qJ2agHlbrIE"
      },
      "source": [
        "def string() :\n",
        "  return \"alivelideli\""
      ],
      "execution_count": 56,
      "outputs": []
    },
    {
      "cell_type": "code",
      "metadata": {
        "colab": {
          "base_uri": "https://localhost:8080/",
          "height": 35
        },
        "id": "_uTSf1qAbrEh",
        "outputId": "13d0dd0f-c928-44b7-9072-200f9ad048bf"
      },
      "source": [
        "string()"
      ],
      "execution_count": 57,
      "outputs": [
        {
          "output_type": "execute_result",
          "data": {
            "application/vnd.google.colaboratory.intrinsic+json": {
              "type": "string"
            },
            "text/plain": [
              "'alivelideli'"
            ]
          },
          "metadata": {},
          "execution_count": 57
        }
      ]
    },
    {
      "cell_type": "code",
      "metadata": {
        "colab": {
          "base_uri": "https://localhost:8080/",
          "height": 35
        },
        "id": "kBhXSuwNb-me",
        "outputId": "0c8f02e8-881b-40ff-9a24-84a2b52016f8"
      },
      "source": [
        "\"alivelideli\""
      ],
      "execution_count": 58,
      "outputs": [
        {
          "output_type": "execute_result",
          "data": {
            "application/vnd.google.colaboratory.intrinsic+json": {
              "type": "string"
            },
            "text/plain": [
              "'alivelideli'"
            ]
          },
          "metadata": {},
          "execution_count": 58
        }
      ]
    },
    {
      "cell_type": "code",
      "metadata": {
        "id": "1i1x3O5mb-cP"
      },
      "source": [
        "def integer() :\n",
        "  return 22"
      ],
      "execution_count": 59,
      "outputs": []
    },
    {
      "cell_type": "code",
      "metadata": {
        "colab": {
          "base_uri": "https://localhost:8080/"
        },
        "id": "0tG5IZFkcKFA",
        "outputId": "4f0d9870-3b9a-487e-f699-853e5a32d19b"
      },
      "source": [
        "integer()"
      ],
      "execution_count": 60,
      "outputs": [
        {
          "output_type": "execute_result",
          "data": {
            "text/plain": [
              "22"
            ]
          },
          "metadata": {},
          "execution_count": 60
        }
      ]
    },
    {
      "cell_type": "code",
      "metadata": {
        "colab": {
          "base_uri": "https://localhost:8080/"
        },
        "id": "4e4rR4pfcOyy",
        "outputId": "ca4acb5c-eded-4947-db66-e046e1e0e034"
      },
      "source": [
        "22"
      ],
      "execution_count": 61,
      "outputs": [
        {
          "output_type": "execute_result",
          "data": {
            "text/plain": [
              "22"
            ]
          },
          "metadata": {},
          "execution_count": 61
        }
      ]
    },
    {
      "cell_type": "code",
      "metadata": {
        "id": "MFWdzezLcSdA"
      },
      "source": [
        "def boolen() :\n",
        "  return True"
      ],
      "execution_count": 62,
      "outputs": []
    },
    {
      "cell_type": "code",
      "metadata": {
        "colab": {
          "base_uri": "https://localhost:8080/"
        },
        "id": "LH_ijvYhcSaJ",
        "outputId": "c13adc5c-3716-4b81-ba73-fb8d1742e3f5"
      },
      "source": [
        "boolen()"
      ],
      "execution_count": 63,
      "outputs": [
        {
          "output_type": "execute_result",
          "data": {
            "text/plain": [
              "True"
            ]
          },
          "metadata": {},
          "execution_count": 63
        }
      ]
    },
    {
      "cell_type": "code",
      "metadata": {
        "colab": {
          "base_uri": "https://localhost:8080/"
        },
        "id": "HDRlf3IyccRx",
        "outputId": "f8ad6e40-d51d-423c-cac0-5f5273368c52"
      },
      "source": [
        "True"
      ],
      "execution_count": 64,
      "outputs": [
        {
          "output_type": "execute_result",
          "data": {
            "text/plain": [
              "True"
            ]
          },
          "metadata": {},
          "execution_count": 64
        }
      ]
    },
    {
      "cell_type": "code",
      "metadata": {
        "colab": {
          "base_uri": "https://localhost:8080/"
        },
        "id": "2pN_zRlvcgJL",
        "outputId": "e8614ebd-9a90-4a51-f139-eedba5ca8036"
      },
      "source": [
        "if boolen() :\n",
        "  print(\"aaa çalıştım.\")"
      ],
      "execution_count": 65,
      "outputs": [
        {
          "output_type": "stream",
          "name": "stdout",
          "text": [
            "aaa çalıştım.\n"
          ]
        }
      ]
    },
    {
      "cell_type": "code",
      "metadata": {
        "id": "NPu5BxHgaFTC"
      },
      "source": [
        "def calculator2(a,b,sign):\n",
        "    if sign==\"+\":\n",
        "        return(a+b)\n",
        "    elif sign==\"-\":\n",
        "        return(a-b)\n",
        "    elif sign==\"*\":\n",
        "        return(a*b)\n",
        "    elif sign==\"/\":\n",
        "        return(a/b)\n",
        "    else:\n",
        "        return(\"Enter a valid operator\")"
      ],
      "execution_count": 74,
      "outputs": []
    },
    {
      "cell_type": "code",
      "metadata": {
        "colab": {
          "base_uri": "https://localhost:8080/"
        },
        "id": "rJ7vtxd3kNyR",
        "outputId": "53b5c5d0-93d9-41bc-a691-55d547922f46"
      },
      "source": [
        "print(calculator2(3,7,\"*\"))"
      ],
      "execution_count": 75,
      "outputs": [
        {
          "output_type": "stream",
          "name": "stdout",
          "text": [
            "21\n"
          ]
        }
      ]
    },
    {
      "cell_type": "code",
      "metadata": {
        "colab": {
          "base_uri": "https://localhost:8080/"
        },
        "id": "3tZwUoJ7kwnp",
        "outputId": "49dd57a7-21b8-4c35-b505-ace252704415"
      },
      "source": [
        "calculator2(48,3,\"*\")"
      ],
      "execution_count": 77,
      "outputs": [
        {
          "output_type": "execute_result",
          "data": {
            "text/plain": [
              "144"
            ]
          },
          "metadata": {},
          "execution_count": 77
        }
      ]
    },
    {
      "cell_type": "code",
      "metadata": {
        "id": "kIZg2QmDkwcH"
      },
      "source": [
        ""
      ],
      "execution_count": null,
      "outputs": []
    },
    {
      "cell_type": "code",
      "metadata": {
        "id": "c6oOL-7RZjBb"
      },
      "source": [
        "def listem() :\n",
        "  return [1,2,3,4,5]"
      ],
      "execution_count": 66,
      "outputs": []
    },
    {
      "cell_type": "code",
      "metadata": {
        "colab": {
          "base_uri": "https://localhost:8080/"
        },
        "id": "GM0aVEFNZjE2",
        "outputId": "d8c58d35-876a-4961-cbc7-e8ec9e198551"
      },
      "source": [
        "listem()"
      ],
      "execution_count": 67,
      "outputs": [
        {
          "output_type": "execute_result",
          "data": {
            "text/plain": [
              "[1, 2, 3, 4, 5]"
            ]
          },
          "metadata": {},
          "execution_count": 67
        }
      ]
    },
    {
      "cell_type": "code",
      "metadata": {
        "colab": {
          "base_uri": "https://localhost:8080/"
        },
        "id": "HGEgDjpGZjHl",
        "outputId": "890f971a-58a7-47eb-8b54-ef3210efea31"
      },
      "source": [
        "for i in listem() :\n",
        "  print(i)"
      ],
      "execution_count": 69,
      "outputs": [
        {
          "output_type": "stream",
          "name": "stdout",
          "text": [
            "1\n",
            "2\n",
            "3\n",
            "4\n",
            "5\n"
          ]
        }
      ]
    },
    {
      "cell_type": "code",
      "metadata": {
        "colab": {
          "base_uri": "https://localhost:8080/"
        },
        "id": "zJ-SdULDWSz6",
        "outputId": "40e951db-12a7-439d-e5c5-0b0c19a3c300"
      },
      "source": [
        "tuple([1,2,3,4,5])"
      ],
      "execution_count": 70,
      "outputs": [
        {
          "output_type": "execute_result",
          "data": {
            "text/plain": [
              "(1, 2, 3, 4, 5)"
            ]
          },
          "metadata": {},
          "execution_count": 70
        }
      ]
    },
    {
      "cell_type": "code",
      "metadata": {
        "colab": {
          "base_uri": "https://localhost:8080/"
        },
        "id": "1FoBrn0CjlN2",
        "outputId": "4d5d4d7f-76d2-4468-c76d-8445479fbb92"
      },
      "source": [
        "tuple(listem())"
      ],
      "execution_count": 71,
      "outputs": [
        {
          "output_type": "execute_result",
          "data": {
            "text/plain": [
              "(1, 2, 3, 4, 5)"
            ]
          },
          "metadata": {},
          "execution_count": 71
        }
      ]
    },
    {
      "cell_type": "code",
      "metadata": {
        "colab": {
          "base_uri": "https://localhost:8080/"
        },
        "id": "ftXvXX_kjlQ3",
        "outputId": "02f167ee-572a-4b3e-fdcc-04c4ef114316"
      },
      "source": [
        "listem()[2]"
      ],
      "execution_count": 72,
      "outputs": [
        {
          "output_type": "execute_result",
          "data": {
            "text/plain": [
              "3"
            ]
          },
          "metadata": {},
          "execution_count": 72
        }
      ]
    },
    {
      "cell_type": "code",
      "metadata": {
        "colab": {
          "base_uri": "https://localhost:8080/"
        },
        "id": "ElL_F4MlmTnV",
        "outputId": "f76fcf18-db16-481e-8e51-ee7378147919"
      },
      "source": [
        "a = -22\n",
        "-a"
      ],
      "execution_count": 78,
      "outputs": [
        {
          "output_type": "execute_result",
          "data": {
            "text/plain": [
              "22"
            ]
          },
          "metadata": {},
          "execution_count": 78
        }
      ]
    },
    {
      "cell_type": "code",
      "metadata": {
        "id": "0yu6pwjgj6p8"
      },
      "source": [
        "def absolute_value(num) :\n",
        "    \"\"\"This function returns the absolute value of teh given number.\"\"\"\n",
        "\n",
        "    if num >= 0 :\n",
        "      return mum\n",
        "    else :\n",
        "      return -num"
      ],
      "execution_count": 82,
      "outputs": []
    },
    {
      "cell_type": "code",
      "metadata": {
        "colab": {
          "base_uri": "https://localhost:8080/"
        },
        "id": "_K7IGMmZj6tT",
        "outputId": "cb1a73c4-a8bc-4b4c-e8ba-9c216f287dc5"
      },
      "source": [
        "absolute_value(-22)"
      ],
      "execution_count": 83,
      "outputs": [
        {
          "output_type": "execute_result",
          "data": {
            "text/plain": [
              "22"
            ]
          },
          "metadata": {},
          "execution_count": 83
        }
      ]
    },
    {
      "cell_type": "code",
      "metadata": {
        "colab": {
          "base_uri": "https://localhost:8080/"
        },
        "id": "hJZWHFA_j6wx",
        "outputId": "58b28f94-5da9-4218-a99a-ca38b35efa63"
      },
      "source": [
        "print(absolute_value.__doc__)"
      ],
      "execution_count": 84,
      "outputs": [
        {
          "output_type": "stream",
          "name": "stdout",
          "text": [
            "This function returns the absolute value of teh given number.\n"
          ]
        }
      ]
    },
    {
      "cell_type": "code",
      "metadata": {
        "colab": {
          "base_uri": "https://localhost:8080/"
        },
        "id": "wGfNhYpJj60N",
        "outputId": "41be3976-4ec6-4edb-9fc7-b78826ef198a"
      },
      "source": [
        "print(abs.__doc__)"
      ],
      "execution_count": 86,
      "outputs": [
        {
          "output_type": "stream",
          "name": "stdout",
          "text": [
            "Return the absolute value of the argument.\n"
          ]
        }
      ]
    },
    {
      "cell_type": "code",
      "metadata": {
        "id": "m7Ny6-3Rj63q"
      },
      "source": [
        "yeni_listem = [i**2 for i in range(6)]"
      ],
      "execution_count": 88,
      "outputs": []
    },
    {
      "cell_type": "code",
      "metadata": {
        "colab": {
          "base_uri": "https://localhost:8080/"
        },
        "id": "JKOk0RUkj661",
        "outputId": "43ba491b-5989-4ef8-e78a-dffab2f9b2c1"
      },
      "source": [
        "yeni_listem"
      ],
      "execution_count": 89,
      "outputs": [
        {
          "output_type": "execute_result",
          "data": {
            "text/plain": [
              "[0, 1, 4, 9, 16, 25]"
            ]
          },
          "metadata": {},
          "execution_count": 89
        }
      ]
    },
    {
      "cell_type": "code",
      "metadata": {
        "id": "LjrzfJzRj6-A"
      },
      "source": [
        "generator = (i**2 for i in range(6))"
      ],
      "execution_count": 90,
      "outputs": []
    },
    {
      "cell_type": "code",
      "metadata": {
        "colab": {
          "base_uri": "https://localhost:8080/"
        },
        "id": "kifdt6toj7BI",
        "outputId": "134c1a72-5b5c-4784-e6a0-80136312316b"
      },
      "source": [
        "generator"
      ],
      "execution_count": 91,
      "outputs": [
        {
          "output_type": "execute_result",
          "data": {
            "text/plain": [
              "<generator object <genexpr> at 0x7f6e53a7ab50>"
            ]
          },
          "metadata": {},
          "execution_count": 91
        }
      ]
    },
    {
      "cell_type": "code",
      "metadata": {
        "colab": {
          "base_uri": "https://localhost:8080/"
        },
        "id": "J-nKeG0lj7EH",
        "outputId": "dad5c3a4-f8f4-4b58-e6a2-be102a873a38"
      },
      "source": [
        "print(*generator)"
      ],
      "execution_count": 92,
      "outputs": [
        {
          "output_type": "stream",
          "name": "stdout",
          "text": [
            "0 1 4 9 16 25\n"
          ]
        }
      ]
    },
    {
      "cell_type": "code",
      "metadata": {
        "id": "P5n96NMJj7HW"
      },
      "source": [
        "for i in generator :\n",
        "  print(i)"
      ],
      "execution_count": 93,
      "outputs": []
    },
    {
      "cell_type": "code",
      "metadata": {
        "id": "8LCYr_AsjlTv"
      },
      "source": [
        "generator = (i**2 for i in range(6))"
      ],
      "execution_count": 100,
      "outputs": []
    },
    {
      "cell_type": "code",
      "metadata": {
        "colab": {
          "base_uri": "https://localhost:8080/"
        },
        "id": "-WyG4xe3qLVZ",
        "outputId": "2802e9cb-e429-480a-dad2-d1b831615d1a"
      },
      "source": [
        "list(generator)"
      ],
      "execution_count": 97,
      "outputs": [
        {
          "output_type": "execute_result",
          "data": {
            "text/plain": [
              "[4, 9, 16, 25]"
            ]
          },
          "metadata": {},
          "execution_count": 97
        }
      ]
    },
    {
      "cell_type": "code",
      "metadata": {
        "colab": {
          "base_uri": "https://localhost:8080/"
        },
        "id": "uck_eVWujlWm",
        "outputId": "73fc8d64-0ccb-4f98-f212-74022f13ad59"
      },
      "source": [
        "print(next(generator))"
      ],
      "execution_count": 101,
      "outputs": [
        {
          "output_type": "stream",
          "name": "stdout",
          "text": [
            "0\n"
          ]
        }
      ]
    },
    {
      "cell_type": "code",
      "metadata": {
        "colab": {
          "base_uri": "https://localhost:8080/"
        },
        "id": "_OATr0J4qDEZ",
        "outputId": "367c2728-b43f-4ecc-cdfa-749d273f9323"
      },
      "source": [
        "print(next(generator))"
      ],
      "execution_count": 102,
      "outputs": [
        {
          "output_type": "stream",
          "name": "stdout",
          "text": [
            "1\n"
          ]
        }
      ]
    },
    {
      "cell_type": "code",
      "metadata": {
        "colab": {
          "base_uri": "https://localhost:8080/"
        },
        "id": "nQzytoWeqDHV",
        "outputId": "11985cf9-dbfc-411e-8f22-befa9778994a"
      },
      "source": [
        "print(next(generator))"
      ],
      "execution_count": 103,
      "outputs": [
        {
          "output_type": "stream",
          "name": "stdout",
          "text": [
            "4\n"
          ]
        }
      ]
    },
    {
      "cell_type": "code",
      "metadata": {
        "colab": {
          "base_uri": "https://localhost:8080/"
        },
        "id": "rl93jQ-qqDKc",
        "outputId": "9cf530ac-f33b-44da-aac4-3ce2463cd7ec"
      },
      "source": [
        "print(next(generator))"
      ],
      "execution_count": 104,
      "outputs": [
        {
          "output_type": "stream",
          "name": "stdout",
          "text": [
            "9\n"
          ]
        }
      ]
    },
    {
      "cell_type": "code",
      "metadata": {
        "colab": {
          "base_uri": "https://localhost:8080/"
        },
        "id": "58v4BBN7qDNW",
        "outputId": "780e30f1-a756-4f9b-8cdd-51462a93d509"
      },
      "source": [
        "print(next(generator))"
      ],
      "execution_count": 105,
      "outputs": [
        {
          "output_type": "stream",
          "name": "stdout",
          "text": [
            "16\n"
          ]
        }
      ]
    },
    {
      "cell_type": "code",
      "metadata": {
        "colab": {
          "base_uri": "https://localhost:8080/"
        },
        "id": "O4UrAcL5qDQU",
        "outputId": "9639905d-8cb2-418d-a4ce-08f14fcbeaed"
      },
      "source": [
        "print(*generator)"
      ],
      "execution_count": 106,
      "outputs": [
        {
          "output_type": "stream",
          "name": "stdout",
          "text": [
            "25\n"
          ]
        }
      ]
    },
    {
      "cell_type": "code",
      "metadata": {
        "id": "QhML_OeLqmfK"
      },
      "source": [
        "next()"
      ],
      "execution_count": null,
      "outputs": []
    },
    {
      "cell_type": "code",
      "metadata": {
        "id": "XWjvWjVbqmib"
      },
      "source": [
        ""
      ],
      "execution_count": null,
      "outputs": []
    },
    {
      "cell_type": "code",
      "metadata": {
        "id": "iZg4UUP1qml5"
      },
      "source": [
        ""
      ],
      "execution_count": null,
      "outputs": []
    },
    {
      "cell_type": "code",
      "metadata": {
        "id": "tKtwlnvtqmqD"
      },
      "source": [
        ""
      ],
      "execution_count": null,
      "outputs": []
    },
    {
      "cell_type": "code",
      "metadata": {
        "id": "9uGAmqj0qmtW"
      },
      "source": [
        ""
      ],
      "execution_count": null,
      "outputs": []
    },
    {
      "cell_type": "code",
      "metadata": {
        "id": "LXv8rMFjqmwn"
      },
      "source": [
        ""
      ],
      "execution_count": null,
      "outputs": []
    },
    {
      "cell_type": "code",
      "metadata": {
        "id": "emw3bSdCqmzw"
      },
      "source": [
        ""
      ],
      "execution_count": null,
      "outputs": []
    },
    {
      "cell_type": "code",
      "metadata": {
        "id": "WwXwlvfeqm2x"
      },
      "source": [
        ""
      ],
      "execution_count": null,
      "outputs": []
    },
    {
      "cell_type": "code",
      "metadata": {
        "id": "tu0fQFwiqDTG"
      },
      "source": [
        ""
      ],
      "execution_count": null,
      "outputs": []
    },
    {
      "cell_type": "code",
      "metadata": {
        "id": "BrjP4ytiqDVy"
      },
      "source": [
        ""
      ],
      "execution_count": null,
      "outputs": []
    }
  ]
}