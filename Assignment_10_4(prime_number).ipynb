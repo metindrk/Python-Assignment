{
  "nbformat": 4,
  "nbformat_minor": 0,
  "metadata": {
    "colab": {
      "name": "Assignment-10/4(prime number).ipynb",
      "provenance": [],
      "collapsed_sections": [],
      "authorship_tag": "ABX9TyP8YckwCPDGMVZVfnfqHx7h",
      "include_colab_link": true
    },
    "kernelspec": {
      "name": "python3",
      "display_name": "Python 3"
    },
    "language_info": {
      "name": "python"
    }
  },
  "cells": [
    {
      "cell_type": "markdown",
      "metadata": {
        "id": "view-in-github",
        "colab_type": "text"
      },
      "source": [
        "<a href=\"https://colab.research.google.com/github/metindrk/Python-Assignment/blob/main/Assignment_10_4(prime_number).ipynb\" target=\"_parent\"><img src=\"https://colab.research.google.com/assets/colab-badge.svg\" alt=\"Open In Colab\"/></a>"
      ]
    },
    {
      "cell_type": "code",
      "metadata": {
        "id": "WJ1gMnXjpNZd"
      },
      "source": [
        "Task : Write a program that takes a number from the user and prints the result to check if it is a prime number.\n",
        "\n",
        "The examples of the desired output are as follows :\n",
        "\n",
        "input →  19 ⇉ output : 19 is a prime number\n",
        "input →  10 ⇉ output : 10 is not a prime number\n",
        "Note that ⚠ : This question is famous on the web, so to get more benefit from this assignment, try to complete this task on your own. "
      ],
      "execution_count": null,
      "outputs": []
    },
    {
      "cell_type": "code",
      "metadata": {
        "colab": {
          "base_uri": "https://localhost:8080/"
        },
        "id": "cxb3SJ-SpScY",
        "outputId": "a72f9c1c-9dd1-487c-8cf4-1cd4dc0812fb"
      },
      "source": [
        "print(\"( Please enter a number which being prime or not to check :) \")\n",
        "num = int(input(\"Enter a number : \"))\n",
        "if num > 1 :\n",
        "  for i in range(2, num) :\n",
        "    \n",
        "    if num % i == 0 :\n",
        "      print(num,\"is not a prime number.\")\n",
        "      break\n",
        "  else :\n",
        "    print(num, \"is a prime number.\")\n",
        "\n",
        "\n",
        "else :\n",
        "  print(num,\"is not a prime number.\") "
      ],
      "execution_count": 1,
      "outputs": [
        {
          "output_type": "stream",
          "name": "stdout",
          "text": [
            "( Please enter a number which being prime or not to check :) \n",
            "Enter a number : 19\n",
            "19 is a prime number.\n"
          ]
        }
      ]
    }
  ]
}