{
  "nbformat": 4,
  "nbformat_minor": 0,
  "metadata": {
    "colab": {
      "name": "self study 06.12.2021.ipynb",
      "provenance": [],
      "collapsed_sections": [],
      "authorship_tag": "ABX9TyO7FJvMyGpb9D2qdpelSX6+",
      "include_colab_link": true
    },
    "kernelspec": {
      "name": "python3",
      "display_name": "Python 3"
    },
    "language_info": {
      "name": "python"
    }
  },
  "cells": [
    {
      "cell_type": "markdown",
      "metadata": {
        "id": "view-in-github",
        "colab_type": "text"
      },
      "source": [
        "<a href=\"https://colab.research.google.com/github/metindrk/Python-Assignment/blob/main/self_study_06_12_2021.ipynb\" target=\"_parent\"><img src=\"https://colab.research.google.com/assets/colab-badge.svg\" alt=\"Open In Colab\"/></a>"
      ]
    },
    {
      "cell_type": "code",
      "metadata": {
        "colab": {
          "base_uri": "https://localhost:8080/"
        },
        "id": "ogkA3GgaZ9T5",
        "outputId": "73c31212-1259-4143-acfd-de27df5932ea"
      },
      "source": [
        "\"\"\"Try to find out if a number you get from the user is perfect.\n",
        "A number is called a \"perfect number\" if the sum of its divisors is equal to itself. For example, 6 is a perfect number. (1 + 2 + 3 = 6)\"\"\"\n",
        "sum_num = 0\n",
        "num = int(input(\"Enter a number : \"))\n",
        "for i in range(1,num) :\n",
        "    if num % i == 0 :\n",
        "      sum_num += i\n",
        "if sum_num == num : \n",
        "    print(num, \"is a perfect number.\")\n",
        "else :\n",
        "    print(num, \"is not a perfect number.\")"
      ],
      "execution_count": 8,
      "outputs": [
        {
          "output_type": "stream",
          "name": "stdout",
          "text": [
            "Enter a number : 6\n",
            "6 is a perfect number.\n"
          ]
        }
      ]
    },
    {
      "cell_type": "code",
      "metadata": {
        "colab": {
          "base_uri": "https://localhost:8080/"
        },
        "id": "B0Caf_S0cXpd",
        "outputId": "6148a934-0e7c-4ecb-f06a-53ff34667362"
      },
      "source": [
        "num = int(input(\"Enter a number : \"))\n",
        "sum_num = sum([i for i in range(1,num) if num % i == 0])\n",
        "if sum_num == num : \n",
        "    print(num, \"is a perfect number.\")\n",
        "else :\n",
        "    print(num, \"is not a perfect number.\")"
      ],
      "execution_count": 10,
      "outputs": [
        {
          "output_type": "stream",
          "name": "stdout",
          "text": [
            "Enter a number : 6\n",
            "6 is a perfect number.\n"
          ]
        }
      ]
    },
    {
      "cell_type": "code",
      "metadata": {
        "colab": {
          "base_uri": "https://localhost:8080/"
        },
        "id": "LPbIPcjYtWtT",
        "outputId": "713d0f80-3281-45e5-fa20-56e4223d9821"
      },
      "source": [
        "num1 = int(input(\"Enter 1st number  : \"))\n",
        "num2 = int(input(\"Enter 2nd number  : \"))\n",
        "print(num1+num2)\n",
        "print(num1*num2)\n",
        "print(num1 / num2)"
      ],
      "execution_count": 6,
      "outputs": [
        {
          "output_type": "stream",
          "name": "stdout",
          "text": [
            "Enter 1st number  : 8\n",
            "Enter 2nd number  : 2\n",
            "10\n",
            "16\n",
            "4.0\n"
          ]
        }
      ]
    },
    {
      "cell_type": "code",
      "metadata": {
        "colab": {
          "base_uri": "https://localhost:8080/"
        },
        "id": "0h6MYCl4tWwJ",
        "outputId": "d3eea41c-af0a-47bb-9874-3608f2bba588"
      },
      "source": [
        "numbers = list(range(90,101))\n",
        "print(numbers[::-1])"
      ],
      "execution_count": 9,
      "outputs": [
        {
          "output_type": "stream",
          "name": "stdout",
          "text": [
            "[100, 99, 98, 97, 96, 95, 94, 93, 92, 91, 90]\n"
          ]
        }
      ]
    },
    {
      "cell_type": "code",
      "metadata": {
        "colab": {
          "base_uri": "https://localhost:8080/"
        },
        "id": "EMw4p1fRtWzT",
        "outputId": "b36bb128-e5d7-466b-e149-e71719fa5953"
      },
      "source": [
        "numbers = list(range(70,100))\n",
        "print(numbers[::-2])"
      ],
      "execution_count": 10,
      "outputs": [
        {
          "output_type": "stream",
          "name": "stdout",
          "text": [
            "[99, 97, 95, 93, 91, 89, 87, 85, 83, 81, 79, 77, 75, 73, 71]\n"
          ]
        }
      ]
    },
    {
      "cell_type": "code",
      "metadata": {
        "colab": {
          "base_uri": "https://localhost:8080/"
        },
        "id": "h-wLbIB2tW4K",
        "outputId": "1eb47528-ba68-4d36-f473-22bdddd9b89d"
      },
      "source": [
        "new_num = []\n",
        "for i in range(50, 101):\n",
        "    if i % 3 == 0 :\n",
        "      new_num.append(i)\n",
        "8    elif i % 7 == 0 :\n",
        "      new_num.append(i)\n",
        "print(new_num)"
      ],
      "execution_count": 23,
      "outputs": [
        {
          "output_type": "stream",
          "name": "stdout",
          "text": [
            "[51, 54, 56, 57, 60, 63, 66, 69, 70, 72, 75, 77, 78, 81, 84, 87, 90, 91, 93, 96, 98, 99]\n"
          ]
        }
      ]
    },
    {
      "cell_type": "code",
      "metadata": {
        "colab": {
          "base_uri": "https://localhost:8080/"
        },
        "id": "wkfjSHkRtW7-",
        "outputId": "9a0006e3-f991-4aaf-ddf6-3d035bf99f56"
      },
      "source": [
        "print(sum(list(range(1,21))))"
      ],
      "execution_count": 28,
      "outputs": [
        {
          "output_type": "stream",
          "name": "stdout",
          "text": [
            "210\n"
          ]
        }
      ]
    },
    {
      "cell_type": "code",
      "metadata": {
        "colab": {
          "base_uri": "https://localhost:8080/"
        },
        "id": "jJYeJI8UtW-H",
        "outputId": "598c9ecd-5bbd-41f1-fb37-e8b8448adbe5"
      },
      "source": [
        "num = []\n",
        "for i in range(20,51) :\n",
        "   if i % 2 != 0 :\n",
        "     num.append(i)\n",
        "print(num)\n"
      ],
      "execution_count": 29,
      "outputs": [
        {
          "output_type": "stream",
          "name": "stdout",
          "text": [
            "[21, 23, 25, 27, 29, 31, 33, 35, 37, 39, 41, 43, 45, 47, 49]\n"
          ]
        }
      ]
    },
    {
      "cell_type": "code",
      "metadata": {
        "colab": {
          "base_uri": "https://localhost:8080/"
        },
        "id": "KKr0NMpAtW_0",
        "outputId": "986d2b15-40ed-42e1-b81d-bab7e1b7c235"
      },
      "source": [
        "mylist = [3,8,6,9,45,2,3,8]\n",
        "print(sum(mylist))"
      ],
      "execution_count": 31,
      "outputs": [
        {
          "output_type": "stream",
          "name": "stdout",
          "text": [
            "84\n"
          ]
        }
      ]
    },
    {
      "cell_type": "code",
      "metadata": {
        "colab": {
          "base_uri": "https://localhost:8080/"
        },
        "id": "df-65z-9tXB8",
        "outputId": "f5faeeb2-0b64-47ef-8008-8a96038a5967"
      },
      "source": [
        "mylist = [3,8,6,9,45,2,3,8]\n",
        "print(min(mylist))"
      ],
      "execution_count": 32,
      "outputs": [
        {
          "output_type": "stream",
          "name": "stdout",
          "text": [
            "2\n"
          ]
        }
      ]
    },
    {
      "cell_type": "code",
      "metadata": {
        "colab": {
          "base_uri": "https://localhost:8080/"
        },
        "id": "GgRIZRs0jiL0",
        "outputId": "789d73c8-abec-4631-85d5-6f458426459c"
      },
      "source": [
        "mylist = [1,5,8,2,11,7,33,3,9,6,12,45,2,3,99]\n",
        "print(mylist[1:])"
      ],
      "execution_count": 47,
      "outputs": [
        {
          "output_type": "stream",
          "name": "stdout",
          "text": [
            "[5, 8, 2, 11, 7, 33, 3, 9, 6, 12, 45, 2, 3, 99]\n"
          ]
        }
      ]
    },
    {
      "cell_type": "code",
      "metadata": {
        "colab": {
          "base_uri": "https://localhost:8080/"
        },
        "id": "QaKW3LCvlLCZ",
        "outputId": "629f1567-15ba-40e0-ff44-522358a12466"
      },
      "source": [
        "new_mylist = []\n",
        "mylist = [1,5,8,2,11,7,33,3,9,6,12,45,2,3,99]\n",
        "for i in mylist :\n",
        "  print(i, end=\" \") \n",
        "for j in mylist[1:] :\n",
        "  print(j, end=\" \")\n",
        "print()\n",
        "  "
      ],
      "execution_count": 96,
      "outputs": [
        {
          "output_type": "stream",
          "name": "stdout",
          "text": [
            "1 5 8 2 11 7 33 3 9 6 12 45 2 3 99 5 8 2 11 7 33 3 9 6 12 45 2 3 99 \n"
          ]
        }
      ]
    },
    {
      "cell_type": "code",
      "metadata": {
        "colab": {
          "base_uri": "https://localhost:8080/"
        },
        "id": "9RzP3Z-xpo7M",
        "outputId": "dd143252-ce61-4812-e2f9-b3e7100ac48b"
      },
      "source": [
        "import random\n",
        "mylist = [1,5,8,2,11,7,33,3,9,6,12,45,2,3,99]\n",
        "random.sample(mylist, 6)"
      ],
      "execution_count": 95,
      "outputs": [
        {
          "output_type": "execute_result",
          "data": {
            "text/plain": [
              "[99, 5, 3, 2, 8, 11]"
            ]
          },
          "metadata": {},
          "execution_count": 95
        }
      ]
    },
    {
      "cell_type": "code",
      "metadata": {
        "colab": {
          "base_uri": "https://localhost:8080/"
        },
        "id": "DJAXRZ_lbrVq",
        "outputId": "e1828061-01a8-487e-fb8c-e4284c0efcad"
      },
      "source": [
        "new_mylist = []\n",
        "mylist = [1,5,8,2,11,7,33,3,9,6,12,45,2,3,99]\n",
        "for i in mylist :\n",
        "    for j in mylist :\n",
        "      if i < j :\n",
        "          new_mylist.append(j)\n",
        "      else :\n",
        "          break\n",
        "print(new_mylist)"
      ],
      "execution_count": 59,
      "outputs": [
        {
          "output_type": "stream",
          "name": "stdout",
          "text": [
            "[]\n"
          ]
        }
      ]
    },
    {
      "cell_type": "code",
      "metadata": {
        "id": "jpUQsoQfbrYm"
      },
      "source": [
        "new_mylist = []\n",
        "mylist = [1,5,8,9,11,21,33,3,8,6,9,45,2,3,8]\n",
        "for i in mylist :\n",
        "    if i % 2 != 0 :\n",
        "      new_mylist.append(i)\n",
        "print(set(new_mylist))"
      ],
      "execution_count": null,
      "outputs": []
    },
    {
      "cell_type": "code",
      "metadata": {
        "colab": {
          "base_uri": "https://localhost:8080/"
        },
        "id": "srN7o7nJbrbd",
        "outputId": "53a7bcba-75f1-42ce-a128-937bdd2022e2"
      },
      "source": [
        "list1=[1,1,3,3,6,6,4,4,5,5,55,55,77,888,888,77]\n",
        "list2=[]\n",
        "\n",
        "for i in list1:\n",
        "    tekrarlanan=list1.count(i)\n",
        "    print(tekrarlanan)\n",
        "    if tekrarlanan == 2 and i not in list2:\n",
        "        list2.append(i)\n",
        "    else:\n",
        "        pass\n",
        "print(list2)"
      ],
      "execution_count": 43,
      "outputs": [
        {
          "output_type": "stream",
          "name": "stdout",
          "text": [
            "2\n",
            "2\n",
            "2\n",
            "2\n",
            "2\n",
            "2\n",
            "2\n",
            "2\n",
            "2\n",
            "2\n",
            "2\n",
            "2\n",
            "2\n",
            "2\n",
            "2\n",
            "2\n",
            "[1, 3, 6, 4, 5, 55, 77, 888]\n"
          ]
        }
      ]
    },
    {
      "cell_type": "code",
      "metadata": {
        "id": "T0WyYGXtbreQ"
      },
      "source": [
        ""
      ],
      "execution_count": null,
      "outputs": []
    },
    {
      "cell_type": "code",
      "metadata": {
        "id": "J_96G3rSbrhH"
      },
      "source": [
        ""
      ],
      "execution_count": null,
      "outputs": []
    }
  ]
}