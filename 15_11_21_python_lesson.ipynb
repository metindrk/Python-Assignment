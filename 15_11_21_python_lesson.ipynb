{
  "nbformat": 4,
  "nbformat_minor": 0,
  "metadata": {
    "colab": {
      "name": "15.11.21_python lesson.ipynb",
      "provenance": [],
      "collapsed_sections": [],
      "include_colab_link": true
    },
    "kernelspec": {
      "name": "python3",
      "display_name": "Python 3"
    },
    "language_info": {
      "name": "python"
    }
  },
  "cells": [
    {
      "cell_type": "markdown",
      "metadata": {
        "id": "view-in-github",
        "colab_type": "text"
      },
      "source": [
        "<a href=\"https://colab.research.google.com/github/metindrk/Python-Assignment/blob/main/15_11_21_python_lesson.ipynb\" target=\"_parent\"><img src=\"https://colab.research.google.com/assets/colab-badge.svg\" alt=\"Open In Colab\"/></a>"
      ]
    },
    {
      "cell_type": "code",
      "metadata": {
        "id": "vMO1C6yWeEUb"
      },
      "source": [
        "# birden cok kurzer       ctrl + d   birden cok kelime seciyoruz\n"
      ],
      "execution_count": null,
      "outputs": []
    },
    {
      "cell_type": "code",
      "metadata": {
        "id": "I8abFsi91vUY"
      },
      "source": [
        "# Birden cok satiri comment yapma \n",
        "\n",
        "              "
      ],
      "execution_count": null,
      "outputs": []
    },
    {
      "cell_type": "code",
      "metadata": {
        "id": "Rn57IdOb12Zf"
      },
      "source": [
        "# birden cok satiri ayni anda tirnak yada parantez icine alma \n"
      ],
      "execution_count": null,
      "outputs": []
    },
    {
      "cell_type": "code",
      "metadata": {
        "id": "DpRiGx0BJoo2"
      },
      "source": [
        "# Colab den cikti alma "
      ],
      "execution_count": null,
      "outputs": []
    },
    {
      "cell_type": "code",
      "metadata": {
        "id": "Fud9-b-81kAx",
        "colab": {
          "base_uri": "https://localhost:8080/"
        },
        "outputId": "447cf763-4cb8-4998-978d-8f5c04507652"
      },
      "source": [
        "# Dünyanin 5 süper gücü. Amerika, Almanya, Ingiltere, Cin ve Japonya.\n",
        "\n",
        "# Düsünelim ki bu ülkelerde cesitli mühendisler var ve \n",
        "\n",
        "# bazisinda olan mühendisler digerinde yok. Ama Elektrik elektronik Mühendisi hepsinde var.\n",
        "\n",
        "# Bu bes ülke bir anlasma imzaliyor ve sadece kendisinde mühendisligin bir türü\n",
        "\n",
        "# mevcut olan ülke diger ülkelere bu mühendislik ile ilgili egitim verecektir. \n",
        "\n",
        "# Mesela Almanya diger ülkelere Otomotiv Mühendisligi egitimi verecek iken\n",
        "\n",
        "# Amerika ise diger ülkelere Software engineer egitimi verecektir.\n",
        "\n",
        "# Ancak elek. Mühendisligi tüm ülkelerde oldugu icin bu mühendislik egitimi \n",
        "\n",
        "# icin bir egitim planlamasi yapilmayacaktir. \n",
        "\n",
        "# Ve egitim verecek olan mühendislerin tamamindan bir egitim takimi \n",
        "\n",
        "# olusturulacaktir. Ve bu takim icerisinde her bir mühendislik bransindan sadece \n",
        "\n",
        "# 1 tane ögretim görevlisi mühendis bulunacaktir.\n",
        "\n",
        "# Bu egitimi verecek olan mühendisin ise hangi ülkeden oldugu önemli degil\n",
        "\n",
        "# sadece 1 tane olmasi önemlidir. Yani mesela otomotiv mühendisligi verecek olan \n",
        "\n",
        "# mühendis, egitim takiminda tek olacaktir.\n",
        "\n",
        "#  Ülkelerin sahip oldugu mühendisler su sekildedir.\n",
        "\n",
        "alman = {\"otomotiv\", \"elektrik\", \"makine\", \"insaat\"} \n",
        "\n",
        "abd = {\"software\", \"elektrik\", \"bilgisayar\", \"System\"}        \n",
        "\n",
        "ing = {\"ucak\", \"elektrik\", \"endüstri\", \"gida\"}\n",
        "\n",
        "cin = {\"insaat\", \"elektrik\", \"endüstri\", \"software\"}\n",
        "\n",
        "japonya = {\"elektrik\", \"insaat\", \"teknoloji\", \"maden\" }\n",
        "\n",
        "egitimtakimi = (alman | abd | ing | cin | japonya) - ( alman & abd & ing & cin & japonya)\n",
        "\n",
        "print(egitimtakimi) \n",
        "\n",
        "\n",
        "\n",
        "## Egitim verecek olan mühendislerden olusacak takimi python kodu ile yazar misiniz ??"
      ],
      "execution_count": null,
      "outputs": [
        {
          "output_type": "stream",
          "name": "stdout",
          "text": [
            "{'makine', 'insaat', 'endüstri', 'ucak', 'otomotiv', 'teknoloji', 'System', 'bilgisayar', 'software', 'maden', 'gida'}\n"
          ]
        }
      ]
    },
    {
      "cell_type": "code",
      "metadata": {
        "id": "C6o_J_u0Jvf8",
        "colab": {
          "base_uri": "https://localhost:8080/"
        },
        "outputId": "4572e45a-d5c7-4744-b63b-b98105af9290"
      },
      "source": [
        "para1 = float(input(\"Lütfen para atiniz: \"))\n",
        "\n",
        "print(\"Merhaba hosgeldiniz. Güncel bakiyeniz: \", para1)\n",
        "\n",
        "\n",
        "\n",
        "if para1 >= 1.50:\n",
        "  soru = input(\"Cay mi istersiniz kahve mi?\").lower().strip()\n",
        "  \n",
        "  if soru == \"cay\":\n",
        "    print(\"Cayiniz hazirlaniyor. Buyrun para üstünüz:\", para1 - 1, \"Euro\")\n",
        "\n",
        "  elif soru == \"kahve\":\n",
        "    print(\"Kahveniz hazirlaniyor. Buyrun para üstünüz:\", para1 - 1.50, \"Euro\")\n",
        "\n",
        "  else:\n",
        "    print(\"Üzgünüz buyrun para üstünüz:\", para1, \"Euro\")\n",
        "\n",
        "\n",
        "\n",
        "\n",
        "\n",
        "\n",
        "\n",
        "elif 1 <= para1 < 1.50:\n",
        "  soru = input(\"Bakiyeniz ile sadece cay alabilirsiniz. Cay ister misiniz?\").lower()\n",
        "\n",
        "  if soru == \"evet\":\n",
        "    print(\"Cayiniz hazirlaniyor. Buyrun para üstünüz:\", para1 - 1, \"Euro\")\n",
        "\n",
        "  elif soru == \"hayir\":\n",
        "    print(\"Tesekkür ederiz buyrun para üstünüz:\", para1, \"Euro\")\n",
        "\n",
        "  else:\n",
        "    print(\"Üzgünüz buyrun para üstünüz:\", para1, \"Euro\")\n",
        "\n",
        "\n",
        "\n",
        "\n",
        "\n",
        "\n",
        "elif para1 < 1:\n",
        "  soru = input(\"Para eklemek istermisiniz bakiyeniz yetersiz ?\").lower()\n",
        "\n",
        "  if soru == \"hayir\":\n",
        "    print(\"Tesekkür ederiz buyrun para üstünüz:\", para1, \"Euro\")\n",
        "\n",
        "  elif soru == \"evet\":\n",
        "    para2 = float(input(\"Lütfen para ilave ediniz:\"))\n",
        "\n",
        "    if para1 + para2 >= 1.50:\n",
        "      soru = input(\"Cay mi istersiniz kahve mi?\").lower().strip()\n",
        "      \n",
        "      if soru == \"kahve\":\n",
        "        print(\"Kahveniz hazirlaniyor. Buyrun para üstünüz:\", para1 + para2 - 1.50, \"Euro\")\n",
        "\n",
        "      elif soru == \"cay\":\n",
        "        print(\"Cayiniz hazirlaniyor. Buyrun para üstünüz:\", para1 + para2 - 1, \"Euro\")\n",
        "\n",
        "      else:\n",
        "        print(\"Üzgünüz buyrun para üstünüz:\", para1 + para2, \"Euro\")\n",
        "\n",
        "    elif para1 + para2 < 1:\n",
        "      print(\"Üzgünüz buyrun para üstünüz:\", para1 + para2, \"Euro\")\n",
        "\n",
        "    elif 1 <= para1 + para2 < 1.50:\n",
        "      soru = input(\"Parani ile sadece cay alabilirisniz. Cay ister misiniz?? \").lower()\n",
        "\n",
        "      if soru == \"hayir\":\n",
        "        print(\"Tesekkürler buyrun para üstünüz:\", para1 + para2, \"Euro\")\n",
        "\n",
        "      elif soru == \"evet\":\n",
        "        print(\"Cayiniz hazirlaniyor. Buyrun para üstünüz:\", para1 + para2 - 1, \"Euro\")\n",
        "\n",
        "      else:\n",
        "        print(\"Üzgünüz buyrun para üstünüz:\", para1 + para2, \"Euro\")\n",
        "\n",
        "  else:\n",
        "    print(\"Üzgünüz buyrun para üstünüz:\", para1, \"Euro\")\n",
        "\n",
        "else:\n",
        "  print(\"Üzgünüz buyrun para üstünüz:\", para1, \"Euro\")     \n"
      ],
      "execution_count": null,
      "outputs": [
        {
          "output_type": "stream",
          "name": "stdout",
          "text": [
            "Lütfen para atiniz: 0.5\n",
            "Merhaba hosgeldiniz. Güncel bakiyeniz:  0.5\n",
            "Para eklemek istermisiniz bakiyeniz yetersiz ?a\n",
            "Üzgünüz buyrun para üstünüz: 0.5 Euro\n"
          ]
        }
      ]
    },
    {
      "cell_type": "code",
      "metadata": {
        "id": "9-eCtyvM0Xto"
      },
      "source": [
        "\n",
        "girdi1 = float(input(\"Lütfen matematik notunuzu giriniz: \"))\n",
        "girdi2 = float(input(\"Lütfen ingilizce notunuzu giriniz: \"))\n",
        "girdi3 = float(input(\"Lütfen cografya notunuzu giriniz: \"))\n",
        "girdi4 = float(input(\"Lütfen fizik notunuzu giriniz: \"))\n",
        "girdi5 = float(input(\"Lütfen kimya notunuzu giriniz: \"))\n",
        "\n",
        "notort = ((girdi1 + girdi2 + girdi3 + girdi4 + girdi5) / 5)\n",
        "\n",
        "if notort >= 90 \\\n",
        "  and (girdi1 >= 85 and girdi2 >= 85 and girdi3 >= 85 and girdi4 >= 85 and girdi5 >= 85):\n",
        "\n",
        "  print(\"Tebrikler Not Ortalamaniz: \", notort, \"AA\", \" ve Onur belgesine hak kazandiniz\")\n",
        "\n",
        "elif notort >= 90 \\\n",
        "  and (girdi1 < 85 or girdi2 < 85 or girdi3 < 85 or girdi4 < 85 or girdi5 < 85):\n",
        "  print(\"Tebrikler Not Ortalamaniz: \", notort, \"AA\", \" Ancak Onur belgesine hak kazanamadiniz\")\n",
        "\n",
        "elif 80 <= notort < 90:\n",
        "  if girdi1 >= 75 and girdi2 >= 75 and girdi3 >= 75 and girdi4 >= 75 and girdi5 >= 75:\n",
        "    print(\"Tebrikler Not Ortalamaniz: \", notort, \"AB\", \" 1000 Euro hediye ceki kazandiniz\")\n",
        "\n",
        "  else:\n",
        "    print(\"Tebrikler Not Ortalamaniz: \", notort, \"AB\")\n",
        "    \n",
        "elif 70 <= notort <= 80:\n",
        "  if girdi1 >= 70 and girdi2 >= 70 and girdi3 >= 70 and girdi4 >= 70 and girdi5 >= 70:\n",
        "    print(\"Tebrikler Not Ortalamaniz: \", notort, \"BB\", \" 500 Euro hediye ceki kazandiniz\")\n",
        "\n",
        "  else:\n",
        "    print(\"Tebrikler Not Ortalamaniz: \", notort, \"BB\")\n",
        "\n",
        "elif 60 <= notort < 70:\n",
        "  print(\"Not ortalamaniz:\", notort, \"BC\")\n",
        "\n",
        "elif 50 <= notort < 60:\n",
        "  print(\"Not ortalamaniz:\", notort, \"CC\")\n",
        "\n",
        "elif 40 <= notort < 50:\n",
        "  print(\"Not ortalamaniz:\", notort, \"DD\")\n",
        "\n",
        "elif notort < 40 \\\n",
        "  or (girdi1 < 40 or girdi2 < 40 or girdi3 < 40 or girdi4 < 40 or girdi5 < 40):\n",
        "  print(\"Üzgünüz not Ortalamaniz: \", notort, \"FF\", \"Sinif tekrari\") \n"
      ],
      "execution_count": null,
      "outputs": []
    },
    {
      "cell_type": "code",
      "metadata": {
        "id": "1wMmhwq90Xv1",
        "colab": {
          "base_uri": "https://localhost:8080/"
        },
        "outputId": "eeaa96f1-2fa3-4d18-8472-60cde37c6568"
      },
      "source": [
        "\"23\".isdigit()"
      ],
      "execution_count": null,
      "outputs": [
        {
          "output_type": "execute_result",
          "data": {
            "text/plain": [
              "True"
            ]
          },
          "metadata": {},
          "execution_count": 44
        }
      ]
    },
    {
      "cell_type": "code",
      "metadata": {
        "id": "EiRo1smqeHvp",
        "colab": {
          "base_uri": "https://localhost:8080/"
        },
        "outputId": "a0ee4ea0-64a9-44d6-fcd1-234037037948"
      },
      "source": [
        "\"onaltı\".isdigit()"
      ],
      "execution_count": null,
      "outputs": [
        {
          "output_type": "execute_result",
          "data": {
            "text/plain": [
              "False"
            ]
          },
          "metadata": {},
          "execution_count": 45
        }
      ]
    },
    {
      "cell_type": "code",
      "metadata": {
        "id": "bSpMpXizeHxa",
        "colab": {
          "base_uri": "https://localhost:8080/"
        },
        "outputId": "c1e5b100-1546-4792-a8ba-9a9cea791a3c"
      },
      "source": [
        "\"-45\".isdigit()"
      ],
      "execution_count": null,
      "outputs": [
        {
          "output_type": "execute_result",
          "data": {
            "text/plain": [
              "False"
            ]
          },
          "metadata": {},
          "execution_count": 46
        }
      ]
    },
    {
      "cell_type": "code",
      "metadata": {
        "id": "pvtu4CNiL9Vo",
        "colab": {
          "base_uri": "https://localhost:8080/"
        },
        "outputId": "578cb01e-0d94-4ac0-8a4a-ccc5320eccb4"
      },
      "source": [
        "age = input(\"Enter your age please : \")\n",
        "while not age.isdigit() :\n",
        "  print(\"You entered incorrect.\")\n",
        "  age = input(\"Enter your age again please : \")\n",
        "print(\"Great! You entered valid input :\", age)"
      ],
      "execution_count": null,
      "outputs": [
        {
          "output_type": "stream",
          "name": "stdout",
          "text": [
            "Enter your age please : onaltı\n",
            "You entered incorrect.\n",
            "Enter your age again please : 25,5\n",
            "You entered incorrect.\n",
            "Enter your age again please : 25\n",
            "Great! You entered valid input : 25\n"
          ]
        }
      ]
    },
    {
      "cell_type": "code",
      "metadata": {
        "id": "wmzIdOQN_uHc",
        "colab": {
          "base_uri": "https://localhost:8080/"
        },
        "outputId": "1d58646b-2e44-4dae-9aaa-0245c42160fa"
      },
      "source": [
        "answer = 78\n",
        "print(\"LET'S PLAY QUESSİNG GAME!\")\n",
        "\n",
        "while True :\n",
        "  num = int(input(\"Enter two digit number to quess mine : \")) \n",
        "  if num < answer :\n",
        "      print(\"Little higher\")\n",
        "  elif num > answer :\n",
        "      print(\"Little lower\")\n",
        "  else :   # num == answer\n",
        "      print(\"Great! You are mindreader.\")\n",
        "      break"
      ],
      "execution_count": null,
      "outputs": [
        {
          "output_type": "stream",
          "name": "stdout",
          "text": [
            "LET'S PLAY QUESSİNG GAME!\n",
            "Enter two digit number to quess mine : 89\n",
            "Little lower\n",
            "Enter two digit number to quess mine : 880\n",
            "Little lower\n",
            "Enter two digit number to quess mine : 79\n",
            "Little lower\n",
            "Enter two digit number to quess mine : 78\n",
            "Great! You are mindreader.\n"
          ]
        }
      ]
    },
    {
      "cell_type": "code",
      "metadata": {
        "id": "qPOMUxea_uJn",
        "colab": {
          "base_uri": "https://localhost:8080/"
        },
        "outputId": "25eb112f-bd87-4b09-abcb-86ce9f5ce091"
      },
      "source": [
        "sentence = input(\"[Please write a sentence :] \")\n",
        "word_list = sentence.split()\n",
        "i = 0\n",
        "longest = 0\n",
        "\n",
        "while i < len(word_list) :\n",
        "    \n",
        "  if len(word_list[i]) > longest :\n",
        "      \n",
        "    longest = len(word_list[i])\n",
        "    \n",
        "  i += 1\n",
        "\n",
        "print(\"The length of the longest word :\", longest)\n"
      ],
      "execution_count": null,
      "outputs": [
        {
          "output_type": "stream",
          "name": "stdout",
          "text": [
            "[Please write a sentence :] clarusway is teh best\n",
            "The length of the longest word : 9\n"
          ]
        }
      ]
    },
    {
      "cell_type": "code",
      "metadata": {
        "id": "mWFKFYOh_uLI",
        "colab": {
          "base_uri": "https://localhost:8080/"
        },
        "outputId": "4e2109b2-8352-479f-e00e-b88f47482ead"
      },
      "source": [
        "sentence = input(\"Please Enter a sentence : \").split()\n",
        "i = 0\n",
        "longest = 0\n",
        "\n",
        "while i < len(sentence) :\n",
        "  \n",
        "  if len(sentence[i]) > longest :\n",
        "   \n",
        "    longest = len(sentence[i])\n",
        "  i += 1 \n",
        "\n",
        "print(\"The lenght of the longest word :\", longest)"
      ],
      "execution_count": null,
      "outputs": [
        {
          "output_type": "stream",
          "name": "stdout",
          "text": [
            "Please Enter a sentence : clarusway is the best.\n",
            "The lenght of the longest word : 9\n"
          ]
        }
      ]
    },
    {
      "cell_type": "code",
      "metadata": {
        "id": "MtfTd6mP_uNX",
        "colab": {
          "base_uri": "https://localhost:8080/"
        },
        "outputId": "fe08eead-853d-4f05-c14b-5fc0760a1a98"
      },
      "source": [
        "seasons = ['Spring', 'Summer', 'Fall', 'Winter']\n",
        "list(enumerate(seasons))\n"
      ],
      "execution_count": null,
      "outputs": [
        {
          "output_type": "execute_result",
          "data": {
            "text/plain": [
              "[(0, 'Spring'), (1, 'Summer'), (2, 'Fall'), (3, 'Winter')]"
            ]
          },
          "metadata": {},
          "execution_count": 33
        }
      ]
    },
    {
      "cell_type": "code",
      "metadata": {
        "id": "fGH5vtt4_uPK",
        "colab": {
          "base_uri": "https://localhost:8080/"
        },
        "outputId": "1185fae0-69df-41f9-c6fc-060a8d2bf97d"
      },
      "source": [
        "num1 = float(input('Please enter 1st: '))\n",
        "num2 = float(input('Please enter 2nd: '))\n",
        "num3 = float(input('Please enter 3rd: '))\n",
        "if (num1 > num2) and (num1 > num3):\n",
        "  print(\"The bigest number is\", num1)\n",
        "elif (num2 > num1) and (num2 > num3):\n",
        "  print(\"The bigest number is\", num2)\n",
        "else :                                      #  ==(num3> num2) and (num3 > num1)\n",
        "  print(\"The bigest number is\", num3)"
      ],
      "execution_count": null,
      "outputs": [
        {
          "output_type": "stream",
          "name": "stdout",
          "text": [
            "Please enter 1st: 89\n",
            "Please enter 2nd: 895\n",
            "Please enter 3rd: 478\n",
            "The bigest number is 895.0\n"
          ]
        }
      ]
    },
    {
      "cell_type": "code",
      "metadata": {
        "id": "1XKscMbLRAAl",
        "colab": {
          "base_uri": "https://localhost:8080/"
        },
        "outputId": "7521fb45-a858-450c-db34-46e074451f3f"
      },
      "source": [
        "print(len([i for i in range(1,1001) if \"3\" in str(i)]))"
      ],
      "execution_count": null,
      "outputs": [
        {
          "output_type": "stream",
          "name": "stdout",
          "text": [
            "271\n"
          ]
        }
      ]
    },
    {
      "cell_type": "code",
      "metadata": {
        "colab": {
          "base_uri": "https://localhost:8080/"
        },
        "id": "Ie5hSl04xTVE",
        "outputId": "6c566ae8-ad15-4cf0-b1b7-8521a61d86ec"
      },
      "source": [
        "num = len([i for i in range(1001) if \"3\" in str(i)])\n",
        "print(\"'3' number in '1000' have\", num)"
      ],
      "execution_count": null,
      "outputs": [
        {
          "output_type": "stream",
          "name": "stdout",
          "text": [
            "'3' number in '1000' have 271\n"
          ]
        }
      ]
    },
    {
      "cell_type": "code",
      "metadata": {
        "colab": {
          "base_uri": "https://localhost:8080/"
        },
        "id": "QbudZZ1uw6NK",
        "outputId": "52434b9f-1f14-46ce-ea99-6478326749aa"
      },
      "source": [
        "[i for i in range(1,1001) if \"3\" in str(i)]\n",
        "print(i)"
      ],
      "execution_count": null,
      "outputs": [
        {
          "output_type": "stream",
          "name": "stdout",
          "text": [
            "4\n"
          ]
        }
      ]
    },
    {
      "cell_type": "code",
      "metadata": {
        "id": "SQfcBF7qeHzN"
      },
      "source": [
        "print(len())\n",
        "[i \n",
        "if \"3\" in str(i)]"
      ],
      "execution_count": null,
      "outputs": []
    },
    {
      "cell_type": "code",
      "metadata": {
        "colab": {
          "base_uri": "https://localhost:8080/"
        },
        "id": "357_OH-StdMh",
        "outputId": "31e2e208-9c87-4199-b2a7-be21f06c554e"
      },
      "source": [
        "for i in range(5):\n",
        "  print(i)"
      ],
      "execution_count": null,
      "outputs": [
        {
          "output_type": "stream",
          "name": "stdout",
          "text": [
            "0\n",
            "1\n",
            "2\n",
            "3\n",
            "4\n"
          ]
        }
      ]
    },
    {
      "cell_type": "code",
      "metadata": {
        "id": "bAjEThm74tSu",
        "colab": {
          "base_uri": "https://localhost:8080/"
        },
        "outputId": "34d4ce75-daee-4ca4-eb8d-80f52a230444"
      },
      "source": [
        "new = []\n",
        "for i in range(40) :\n",
        "  if \"3\" in str(i) :\n",
        "    new.append(i)\n",
        "print(len(new))"
      ],
      "execution_count": null,
      "outputs": [
        {
          "output_type": "stream",
          "name": "stdout",
          "text": [
            "13\n"
          ]
        }
      ]
    },
    {
      "cell_type": "code",
      "metadata": {
        "id": "E0hcIQrA4tVI",
        "colab": {
          "base_uri": "https://localhost:8080/"
        },
        "outputId": "b2a8aaf2-0c7c-4d5c-b6ac-f95f7df950cc"
      },
      "source": [
        "s = \"hello\"\n",
        "indeks = [i for i in range(len(s)) if s[i] in \"AEIOUaeiou\"]\n",
        "consonants = [j for j in s if j not in \"AEIOUaeiou\" ]\n",
        "vowels = [k for k in s if k in \"AEIOUaeiou\"][::-1]\n",
        "\n",
        "for i in range(len(indeks)) :\n",
        "  consonants.insert(indeks[i], vowels[i])\n",
        "print(\"\".join(consonants))"
      ],
      "execution_count": null,
      "outputs": [
        {
          "output_type": "stream",
          "name": "stdout",
          "text": [
            "holle\n"
          ]
        }
      ]
    },
    {
      "cell_type": "code",
      "metadata": {
        "id": "ED6HqRgxLvtK",
        "colab": {
          "base_uri": "https://localhost:8080/"
        },
        "outputId": "f67b4aba-c1c1-41ce-f64b-1c44fee3ca88"
      },
      "source": [
        "number = 0\n",
        "\n",
        "while number < 6:\n",
        "    print(number)\n",
        "    number += 1\n",
        "print('now, number is bigger or equal to 6')"
      ],
      "execution_count": null,
      "outputs": [
        {
          "output_type": "stream",
          "name": "stdout",
          "text": [
            "0\n",
            "1\n",
            "2\n",
            "3\n",
            "4\n",
            "5\n",
            "now, number is bigger or equal to 6\n"
          ]
        }
      ]
    },
    {
      "cell_type": "code",
      "metadata": {
        "id": "0kt4q4p9MPCe",
        "colab": {
          "base_uri": "https://localhost:8080/"
        },
        "outputId": "1a7d33d4-4270-42b2-d57d-f47d5c65fba8"
      },
      "source": [
        "my_list=[\"a\", \"b\", \"c\", \"d\", \"e\"]\n",
        "\n",
        "a = 0\n",
        "\n",
        "while a < len(my_list):\n",
        "    print('square of {} is : {}'.format(a, a**2))\n",
        "    a+=1"
      ],
      "execution_count": null,
      "outputs": [
        {
          "output_type": "stream",
          "name": "stdout",
          "text": [
            "square of 0 is : 0\n",
            "square of 1 is : 1\n",
            "square of 2 is : 4\n",
            "square of 3 is : 9\n",
            "square of 4 is : 16\n"
          ]
        }
      ]
    },
    {
      "cell_type": "code",
      "metadata": {
        "id": "kRGmT8TdnZ8M"
      },
      "source": [
        "while a < len(range()):\n",
        "    print('square of {} is : {}'.format(a, a**2))\n",
        "    a+=1"
      ],
      "execution_count": null,
      "outputs": []
    },
    {
      "cell_type": "code",
      "metadata": {
        "id": "v_c7WxjxnZ_C"
      },
      "source": [
        "flowers = ['Rose', 'Orchid', 'Tulip']\n",
        "count1 = len(flowers)\n",
        "count2 = ...\n",
        "\n",
        "while count  > 0 :\n",
        "    print(flowers[count1])\n",
        "    count... -= ...\n",
        "    count... += ..."
      ],
      "execution_count": null,
      "outputs": []
    },
    {
      "cell_type": "code",
      "metadata": {
        "id": "V4PwX2ecnaBs"
      },
      "source": [
        "while condition1 :\n",
        "  body\n",
        "  while condition2 :\n",
        "    body\n",
        "    break\n",
        "\n",
        "  break"
      ],
      "execution_count": null,
      "outputs": []
    },
    {
      "cell_type": "code",
      "metadata": {
        "colab": {
          "base_uri": "https://localhost:8080/"
        },
        "id": "riM_B278naEw",
        "outputId": "50781845-3ac5-44a5-82a2-52de92b90a9c"
      },
      "source": [
        "for i in [1, 2, 3, 4, 5] :\n",
        "    print(i)"
      ],
      "execution_count": null,
      "outputs": [
        {
          "output_type": "stream",
          "name": "stdout",
          "text": [
            "1\n",
            "2\n",
            "3\n",
            "4\n",
            "5\n"
          ]
        }
      ]
    },
    {
      "cell_type": "code",
      "metadata": {
        "colab": {
          "base_uri": "https://localhost:8080/"
        },
        "id": "rQtPxrkCnaHS",
        "outputId": "3ce2fca6-f540-40cb-803b-5c1d2a52cb4f"
      },
      "source": [
        "for i in [1, 2, 3, 4, 5] :\n",
        "    print(\"metin\")"
      ],
      "execution_count": null,
      "outputs": [
        {
          "output_type": "stream",
          "name": "stdout",
          "text": [
            "metin\n",
            "metin\n",
            "metin\n",
            "metin\n",
            "metin\n"
          ]
        }
      ]
    },
    {
      "cell_type": "code",
      "metadata": {
        "colab": {
          "base_uri": "https://localhost:8080/"
        },
        "id": "UE8PPhDUnaKD",
        "outputId": "c4ca4d81-3037-42de-999c-739492779487"
      },
      "source": [
        "for i in range(11) :\n",
        "  print(i, end=\" \")"
      ],
      "execution_count": null,
      "outputs": [
        {
          "output_type": "stream",
          "name": "stdout",
          "text": [
            "0 1 2 3 4 5 6 7 8 9 10 "
          ]
        }
      ]
    },
    {
      "cell_type": "code",
      "metadata": {
        "colab": {
          "base_uri": "https://localhost:8080/"
        },
        "id": "n2pQB2D7naMZ",
        "outputId": "62e29fa8-9c3d-4cf4-c8a9-371f8da8bf41"
      },
      "source": [
        "print(*range(11))  # *asteriks"
      ],
      "execution_count": null,
      "outputs": [
        {
          "output_type": "stream",
          "name": "stdout",
          "text": [
            "0 1 2 3 4 5 6 7 8 9 10\n"
          ]
        }
      ]
    },
    {
      "cell_type": "code",
      "metadata": {
        "colab": {
          "base_uri": "https://localhost:8080/"
        },
        "id": "tqqEd4pInaO_",
        "outputId": "e517c027-747b-4ef4-af18-986bc095e513"
      },
      "source": [
        "list(range(11))"
      ],
      "execution_count": null,
      "outputs": [
        {
          "output_type": "execute_result",
          "data": {
            "text/plain": [
              "[0, 1, 2, 3, 4, 5, 6, 7, 8, 9, 10]"
            ]
          },
          "metadata": {},
          "execution_count": 12
        }
      ]
    },
    {
      "cell_type": "code",
      "metadata": {
        "colab": {
          "base_uri": "https://localhost:8080/"
        },
        "id": "UogLffkKnaRk",
        "outputId": "fc45aa76-7818-4af5-bec5-6abc4baf9999"
      },
      "source": [
        "set(range(11))"
      ],
      "execution_count": null,
      "outputs": [
        {
          "output_type": "execute_result",
          "data": {
            "text/plain": [
              "{0, 1, 2, 3, 4, 5, 6, 7, 8, 9, 10}"
            ]
          },
          "metadata": {},
          "execution_count": 13
        }
      ]
    },
    {
      "cell_type": "code",
      "metadata": {
        "id": "dI5QIRxpQrhr"
      },
      "source": [
        "(range(11))"
      ],
      "execution_count": null,
      "outputs": []
    },
    {
      "cell_type": "code",
      "metadata": {
        "colab": {
          "base_uri": "https://localhost:8080/"
        },
        "id": "6zWk7guSQrkZ",
        "outputId": "4bf0464e-46fd-4730-a162-a3ed8a364c68"
      },
      "source": [
        "set(range(11))\n",
        "for i in names :\n",
        "  print(\"hello\", i)"
      ],
      "execution_count": null,
      "outputs": [
        {
          "output_type": "stream",
          "name": "stdout",
          "text": [
            "hello Ahmed\n",
            "hello Aisha\n",
            "hello Adam\n",
            "hello Joseph\n",
            "hello Gabriel\n"
          ]
        }
      ]
    },
    {
      "cell_type": "code",
      "metadata": {
        "colab": {
          "base_uri": "https://localhost:8080/"
        },
        "id": "Pp247DAHQrnJ",
        "outputId": "1a71cc40-2ee1-4712-b920-db6ff39e77e6"
      },
      "source": [
        "list(range(6))\n"
      ],
      "execution_count": null,
      "outputs": [
        {
          "output_type": "execute_result",
          "data": {
            "text/plain": [
              "[0, 1, 2, 3, 4, 5]"
            ]
          },
          "metadata": {},
          "execution_count": 28
        }
      ]
    },
    {
      "cell_type": "code",
      "metadata": {
        "colab": {
          "base_uri": "https://localhost:8080/"
        },
        "id": "HmsrTgNQQrqP",
        "outputId": "aa1517cb-c80f-48a1-b345-a616ef6130cc"
      },
      "source": [
        "mylist = []\n",
        "for i in range(1, 6) :\n",
        "  mylist.append(i)\n",
        "  print(mylist)"
      ],
      "execution_count": null,
      "outputs": [
        {
          "output_type": "stream",
          "name": "stdout",
          "text": [
            "[1]\n",
            "[1, 2]\n",
            "[1, 2, 3]\n",
            "[1, 2, 3, 4]\n",
            "[1, 2, 3, 4, 5]\n"
          ]
        }
      ]
    },
    {
      "cell_type": "code",
      "metadata": {
        "colab": {
          "base_uri": "https://localhost:8080/"
        },
        "id": "cSkc8sPLX-zQ",
        "outputId": "25e62ffa-66d6-4c55-b804-be3f8ab8fd66"
      },
      "source": [
        "a=[1,2,3,4]\n",
        "b=a\n",
        "a.append(5)\n",
        "print(b)\n"
      ],
      "execution_count": null,
      "outputs": [
        {
          "output_type": "stream",
          "name": "stdout",
          "text": [
            "[1, 2, 3, 4, 5]\n"
          ]
        }
      ]
    },
    {
      "cell_type": "code",
      "metadata": {
        "colab": {
          "base_uri": "https://localhost:8080/"
        },
        "id": "A_Z6N7KqQrtK",
        "outputId": "6ba1e52e-1e80-423c-b7d7-a9cf29c00406"
      },
      "source": [
        "mylist = []\n",
        "for i in range(1, 6) :\n",
        "  mylist.append(i)\n",
        "print(mylist)"
      ],
      "execution_count": null,
      "outputs": [
        {
          "output_type": "stream",
          "name": "stdout",
          "text": [
            "[1, 2, 3, 4, 5]\n"
          ]
        }
      ]
    },
    {
      "cell_type": "code",
      "metadata": {
        "colab": {
          "base_uri": "https://localhost:8080/"
        },
        "id": "PuwYKd2nQrwl",
        "outputId": "f121b533-2696-4bbf-c128-33ba3ca6a1df"
      },
      "source": [
        "word = input(\"give me a word : \")\n",
        "\n",
        "counter = 0\n",
        "for i in word :\n",
        "    counter += 1\n",
        "    \n",
        "    if counter < len(word) :\n",
        "      i = i + \"-\"\n",
        "    \n",
        "    print(i, end= \"\")\n"
      ],
      "execution_count": null,
      "outputs": [
        {
          "output_type": "stream",
          "name": "stdout",
          "text": [
            "give me a word : clarusway\n",
            "c-l-a-r-u-s-w-a-y"
          ]
        }
      ]
    },
    {
      "cell_type": "code",
      "metadata": {
        "colab": {
          "base_uri": "https://localhost:8080/"
        },
        "id": "fsa1LC05TolT",
        "outputId": "17bba294-d3a6-4228-b521-7aa976afeb2c"
      },
      "source": [
        "text= \"clarusway\"\n",
        "count = 0\n",
        "\n",
        "for i in text : \n",
        "  count += 1\n",
        "  if count < len(text) :\n",
        "    i += \"-\" \n",
        "  print(i, end = \"\")"
      ],
      "execution_count": null,
      "outputs": [
        {
          "output_type": "stream",
          "name": "stdout",
          "text": [
            "c-l-a-r-u-s-w-a-y"
          ]
        }
      ]
    },
    {
      "cell_type": "code",
      "metadata": {
        "id": "39APxcRfTonr"
      },
      "source": [
        "user :{\n",
        "    \"name\": \"Daniel\",\n",
        "    \"surname\": \"Smith\",\n",
        "    \"age\": 35\n",
        "}\n",
        "for attribute in user :\n",
        "    print(attribute)"
      ],
      "execution_count": null,
      "outputs": []
    },
    {
      "cell_type": "code",
      "metadata": {
        "colab": {
          "base_uri": "https://localhost:8080/"
        },
        "id": "0usghjYlToql",
        "outputId": "d2e45f02-b6d8-4db1-a79e-9481ae380106"
      },
      "source": [
        "n = int(input(\"enter a number between 1-10 : \"))\n",
        "\n",
        "for i in range(11):\n",
        "    print(\"{}x{} = \".format(n, i), n*i)"
      ],
      "execution_count": null,
      "outputs": [
        {
          "output_type": "stream",
          "name": "stdout",
          "text": [
            "enter a number between 1-10 : 5\n",
            "5x0 =  0\n",
            "5x1 =  5\n",
            "5x2 =  10\n",
            "5x3 =  15\n",
            "5x4 =  20\n",
            "5x5 =  25\n",
            "5x6 =  30\n",
            "5x7 =  35\n",
            "5x8 =  40\n",
            "5x9 =  45\n",
            "5x10 =  50\n"
          ]
        }
      ]
    },
    {
      "cell_type": "code",
      "metadata": {
        "colab": {
          "base_uri": "https://localhost:8080/"
        },
        "id": "r2wr9UGSTotn",
        "outputId": "791a5080-9673-4f7d-8f97-9c09cd953d9b"
      },
      "source": [
        "n = int(input(\"enter a number between 1-10 : \"))\n",
        "\n",
        "for i in range(11):\n",
        "  print(f\"{n}x{i} = {n*i}\")"
      ],
      "execution_count": null,
      "outputs": [
        {
          "output_type": "stream",
          "name": "stdout",
          "text": [
            "enter a number between 1-10 : 5\n",
            "5x0 = 0\n",
            "5x1 = 5\n",
            "5x2 = 10\n",
            "5x3 = 15\n",
            "5x4 = 20\n",
            "5x5 = 25\n",
            "5x6 = 30\n",
            "5x7 = 35\n",
            "5x8 = 40\n",
            "5x9 = 45\n",
            "5x10 = 50\n"
          ]
        }
      ]
    },
    {
      "cell_type": "code",
      "metadata": {
        "colab": {
          "base_uri": "https://localhost:8080/"
        },
        "id": "zOpEaRaDQrzZ",
        "outputId": "30602496-1adb-4ce4-c6cf-f5f7908459ef"
      },
      "source": [
        "mylist = []\n",
        "for i in range(1, 6) :\n",
        "  mylist.append(i)\n",
        "print(mylist)"
      ],
      "execution_count": null,
      "outputs": [
        {
          "output_type": "stream",
          "name": "stdout",
          "text": [
            "[1, 2, 3, 4, 5]\n"
          ]
        }
      ]
    },
    {
      "cell_type": "code",
      "metadata": {
        "colab": {
          "base_uri": "https://localhost:8080/"
        },
        "id": "1eijWz4ZhfPV",
        "outputId": "e1934c8f-d4cc-4458-85e6-c07e687100d4"
      },
      "source": [
        "for i in range(1, 10) :\n",
        "   print(i*str(i))"
      ],
      "execution_count": null,
      "outputs": [
        {
          "output_type": "stream",
          "name": "stdout",
          "text": [
            "1\n",
            "22\n",
            "333\n",
            "4444\n",
            "55555\n",
            "666666\n",
            "7777777\n",
            "88888888\n",
            "999999999\n"
          ]
        }
      ]
    },
    {
      "cell_type": "code",
      "metadata": {
        "colab": {
          "base_uri": "https://localhost:8080/",
          "height": 35
        },
        "id": "7cFAhnQShfTd",
        "outputId": "d316fdd0-1f80-4e9b-d47c-0582da894a67"
      },
      "source": [
        "\"5\"*5\n"
      ],
      "execution_count": null,
      "outputs": [
        {
          "output_type": "execute_result",
          "data": {
            "application/vnd.google.colaboratory.intrinsic+json": {
              "type": "string"
            },
            "text/plain": [
              "'55555'"
            ]
          },
          "metadata": {},
          "execution_count": 26
        }
      ]
    },
    {
      "cell_type": "code",
      "metadata": {
        "colab": {
          "base_uri": "https://localhost:8080/",
          "height": 35
        },
        "id": "Dm7MjcEKhfX-",
        "outputId": "9f5badc2-84ab-433c-aad9-e9a1070173bb"
      },
      "source": [
        "5*\"5\""
      ],
      "execution_count": null,
      "outputs": [
        {
          "output_type": "execute_result",
          "data": {
            "application/vnd.google.colaboratory.intrinsic+json": {
              "type": "string"
            },
            "text/plain": [
              "'55555'"
            ]
          },
          "metadata": {},
          "execution_count": 27
        }
      ]
    },
    {
      "cell_type": "code",
      "metadata": {
        "colab": {
          "base_uri": "https://localhost:8080/",
          "height": 35
        },
        "id": "4Zo5nt6zQr12",
        "outputId": "1fa21785-9fdd-49a5-e30e-ff45f7ddf439"
      },
      "source": [
        "\"ali \" * 3"
      ],
      "execution_count": null,
      "outputs": [
        {
          "output_type": "execute_result",
          "data": {
            "application/vnd.google.colaboratory.intrinsic+json": {
              "type": "string"
            },
            "text/plain": [
              "'ali ali ali '"
            ]
          },
          "metadata": {},
          "execution_count": 28
        }
      ]
    },
    {
      "cell_type": "code",
      "metadata": {
        "colab": {
          "base_uri": "https://localhost:8080/"
        },
        "id": "QnGNE6U-Qr4q",
        "outputId": "98ec47f9-e0eb-41d9-c6eb-990fb3d88c51"
      },
      "source": [
        "print(*range(5))"
      ],
      "execution_count": null,
      "outputs": [
        {
          "output_type": "stream",
          "name": "stdout",
          "text": [
            "0 1 2 3 4\n"
          ]
        }
      ]
    },
    {
      "cell_type": "code",
      "metadata": {
        "colab": {
          "base_uri": "https://localhost:8080/"
        },
        "id": "ZePGXhyXpiFF",
        "outputId": "2ce0e6e4-bc12-4fba-910b-99847b99e020"
      },
      "source": [
        "print(range(5,25,2))\n",
        "print(*range(5,25,2))\n",
        "print(* range(10, 1, -1))"
      ],
      "execution_count": null,
      "outputs": [
        {
          "output_type": "stream",
          "name": "stdout",
          "text": [
            "range(5, 25, 2)\n",
            "5 7 9 11 13 15 17 19 21 23\n",
            "10 9 8 7 6 5 4 3 2\n"
          ]
        }
      ]
    },
    {
      "cell_type": "code",
      "metadata": {
        "id": "-zvunonipiII"
      },
      "source": [
        ""
      ],
      "execution_count": null,
      "outputs": []
    },
    {
      "cell_type": "code",
      "metadata": {
        "id": "t4G68oqjpiLY"
      },
      "source": [
        ""
      ],
      "execution_count": null,
      "outputs": []
    },
    {
      "cell_type": "code",
      "metadata": {
        "colab": {
          "base_uri": "https://localhost:8080/"
        },
        "id": "jh8R_zAbpiOw",
        "outputId": "7effc09e-1501-4d4f-9e5f-bbd7043408c2"
      },
      "source": [
        "text = ['one', 'two', 'three', 'four', 'five']\n",
        "numbers = [1, 2, 3, 4, 5]\n",
        "for x, y in zip(text, numbers):\n",
        "\tprint(x, ':', y)"
      ],
      "execution_count": null,
      "outputs": [
        {
          "output_type": "stream",
          "name": "stdout",
          "text": [
            "one : 1\n",
            "two : 2\n",
            "three : 3\n",
            "four : 4\n",
            "five : 5\n"
          ]
        }
      ]
    },
    {
      "cell_type": "code",
      "metadata": {
        "colab": {
          "base_uri": "https://localhost:8080/"
        },
        "id": "J3mXz4ZxQr7X",
        "outputId": "d4a4d06d-13a1-4224-f736-90d019707ba9"
      },
      "source": [
        "zipped = zip(text, numbers)\n",
        "zipped\n"
      ],
      "execution_count": null,
      "outputs": [
        {
          "output_type": "execute_result",
          "data": {
            "text/plain": [
              "<zip at 0x7f7069a31a50>"
            ]
          },
          "metadata": {},
          "execution_count": 149
        }
      ]
    },
    {
      "cell_type": "code",
      "metadata": {
        "colab": {
          "base_uri": "https://localhost:8080/"
        },
        "id": "YSQsB6v-Qr9g",
        "outputId": "beb92680-912f-4155-c509-693a045bf7c3"
      },
      "source": [
        "print(*zipped)"
      ],
      "execution_count": null,
      "outputs": [
        {
          "output_type": "stream",
          "name": "stdout",
          "text": [
            "('one', 1) ('two', 2) ('three', 3) ('four', 4) ('five', 5)\n"
          ]
        }
      ]
    },
    {
      "cell_type": "code",
      "metadata": {
        "id": "qSSjyK9ltk7k"
      },
      "source": [
        "zipped = zip(text, numbers)"
      ],
      "execution_count": null,
      "outputs": []
    },
    {
      "cell_type": "code",
      "metadata": {
        "colab": {
          "base_uri": "https://localhost:8080/"
        },
        "id": "Lpl5xdSltk-o",
        "outputId": "d05ebbb8-29b6-4a1c-fa17-6755487dc071"
      },
      "source": [
        "list(zipped)"
      ],
      "execution_count": null,
      "outputs": [
        {
          "output_type": "execute_result",
          "data": {
            "text/plain": [
              "[('one', 1), ('two', 2), ('three', 3), ('four', 4), ('five', 5)]"
            ]
          },
          "metadata": {},
          "execution_count": 41
        }
      ]
    },
    {
      "cell_type": "code",
      "metadata": {
        "id": "TlT01yHBtlBr"
      },
      "source": [
        "zipped = zip(text, numbers)"
      ],
      "execution_count": null,
      "outputs": []
    },
    {
      "cell_type": "code",
      "metadata": {
        "colab": {
          "base_uri": "https://localhost:8080/"
        },
        "id": "h8V2B9F7tlFT",
        "outputId": "8544ab0a-fa22-42b2-8a33-fe543f78b152"
      },
      "source": [
        "dict(zipped)"
      ],
      "execution_count": null,
      "outputs": [
        {
          "output_type": "execute_result",
          "data": {
            "text/plain": [
              "{'five': 5, 'four': 4, 'one': 1, 'three': 3, 'two': 2}"
            ]
          },
          "metadata": {},
          "execution_count": 44
        }
      ]
    },
    {
      "cell_type": "code",
      "metadata": {
        "id": "E3AM02SOtlIX"
      },
      "source": [
        "mylist[]\n",
        "\n",
        "for i in (10)\n",
        "    "
      ],
      "execution_count": null,
      "outputs": []
    },
    {
      "cell_type": "code",
      "metadata": {
        "colab": {
          "base_uri": "https://localhost:8080/"
        },
        "id": "4zy1dY0wud5b",
        "outputId": "3cd0f481-4f09-4728-fc7f-0b3373944849"
      },
      "source": [
        "çift_rakamlar = []\n",
        "tek_rakamlar = []\n",
        "\n",
        "for n in range(10):\n",
        "    if n % 2 == 0:\n",
        "        çift_rakamlar.append(n)\n",
        "    else:\n",
        "        tek_rakamlar.append(n)\n",
        "\n",
        "print(çift_rakamlar)\n",
        "print(tek_rakamlar)"
      ],
      "execution_count": null,
      "outputs": [
        {
          "output_type": "stream",
          "name": "stdout",
          "text": [
            "[0, 2, 4, 6, 8]\n",
            "[1, 3, 5, 7, 9]\n"
          ]
        }
      ]
    },
    {
      "cell_type": "code",
      "metadata": {
        "colab": {
          "base_uri": "https://localhost:8080/"
        },
        "id": "TZ0RB5TMDA5G",
        "outputId": "5f2eee26-a97b-4d85-8c16-0865d5863bc5"
      },
      "source": [
        "sayılar = []\n",
        "for i in range(5) :\n",
        "    sayılar.append(i)\n",
        "sayılar"
      ],
      "execution_count": 88,
      "outputs": [
        {
          "output_type": "execute_result",
          "data": {
            "text/plain": [
              "[0, 1, 2, 3, 4]"
            ]
          },
          "metadata": {},
          "execution_count": 88
        }
      ]
    },
    {
      "cell_type": "code",
      "metadata": {
        "colab": {
          "base_uri": "https://localhost:8080/"
        },
        "id": "023jgNqjEVme",
        "outputId": "0a165822-e92c-4589-ba4e-c9d929ae5dcc"
      },
      "source": [
        "print([i for i in range(5)])"
      ],
      "execution_count": 94,
      "outputs": [
        {
          "output_type": "stream",
          "name": "stdout",
          "text": [
            "[0, 1, 2, 3, 4]\n"
          ]
        }
      ]
    },
    {
      "cell_type": "code",
      "metadata": {
        "colab": {
          "base_uri": "https://localhost:8080/"
        },
        "id": "ceYb7PbDEuor",
        "outputId": "f882940a-d330-4683-94d9-b64a968f0b1b"
      },
      "source": [
        "print([i**2 for i in range(1,6)])"
      ],
      "execution_count": 90,
      "outputs": [
        {
          "output_type": "stream",
          "name": "stdout",
          "text": [
            "[1, 4, 9, 16, 25]\n"
          ]
        }
      ]
    },
    {
      "cell_type": "code",
      "metadata": {
        "colab": {
          "base_uri": "https://localhost:8080/"
        },
        "id": "19xYqgvHFyQB",
        "outputId": "7c2e5564-52a8-40b4-bf00-5d372e518520"
      },
      "source": [
        "my_list = [1,2,3,4,5,6]\n",
        "new_list = []\n",
        "for i in my_list :\n",
        "  if i % 2 :\n",
        "    new_list .append(i ** 2)\n",
        "print(new_list)"
      ],
      "execution_count": 107,
      "outputs": [
        {
          "output_type": "stream",
          "name": "stdout",
          "text": [
            "[1, 9, 25]\n"
          ]
        }
      ]
    },
    {
      "cell_type": "code",
      "metadata": {
        "colab": {
          "base_uri": "https://localhost:8080/"
        },
        "id": "ZhF2RDKFFyMh",
        "outputId": "500becb3-181a-4d0d-ad42-2b204a719c7e"
      },
      "source": [
        "print([i**2 for i in range(7) if i % 2])"
      ],
      "execution_count": 109,
      "outputs": [
        {
          "output_type": "stream",
          "name": "stdout",
          "text": [
            "[1, 9, 25]\n"
          ]
        }
      ]
    },
    {
      "cell_type": "code",
      "metadata": {
        "id": "NWcq352ZFyIa"
      },
      "source": [
        ""
      ],
      "execution_count": null,
      "outputs": []
    },
    {
      "cell_type": "code",
      "metadata": {
        "id": "CFL5emi1FyE5"
      },
      "source": [
        ""
      ],
      "execution_count": null,
      "outputs": []
    },
    {
      "cell_type": "code",
      "metadata": {
        "id": "LSy4pgiLFGYt"
      },
      "source": [
        ""
      ],
      "execution_count": 94,
      "outputs": []
    },
    {
      "cell_type": "code",
      "metadata": {
        "colab": {
          "base_uri": "https://localhost:8080/"
        },
        "id": "KNGLQFj4ud8G",
        "outputId": "ab359f25-e432-4578-e48d-4fe780c4890f"
      },
      "source": [
        "odd =[ i for i in range(0,10) if i % 2 ==1]\n",
        "even =[ i for i in range(0,10) if i % 2 ==0]\n",
        "print(odd, even, sep= \"\\n\")"
      ],
      "execution_count": null,
      "outputs": [
        {
          "output_type": "stream",
          "name": "stdout",
          "text": [
            "[1, 3, 5, 7, 9]\n",
            "[0, 2, 4, 6, 8]\n"
          ]
        }
      ]
    },
    {
      "cell_type": "code",
      "metadata": {
        "colab": {
          "base_uri": "https://localhost:8080/"
        },
        "id": "WtxZANVcud_D",
        "outputId": "a4376c8d-5eb8-4603-a94f-d8d4600407d0"
      },
      "source": [
        "evens = []\n",
        "odds = []\n",
        "\n",
        "for n in range(10) :\n",
        "    if n % 2 == 0 :\n",
        "      evens.append(n)\n",
        "    else :\n",
        "      odds.append(n)\n",
        "print(\"evens :\", evens)\n",
        "print(\"odds :\", odds)"
      ],
      "execution_count": null,
      "outputs": [
        {
          "output_type": "stream",
          "name": "stdout",
          "text": [
            "evens : [0, 2, 4, 6, 8]\n",
            "odds : [1, 3, 5, 7, 9]\n"
          ]
        }
      ]
    },
    {
      "cell_type": "code",
      "metadata": {
        "colab": {
          "base_uri": "https://localhost:8080/"
        },
        "id": "m-Ji6DfgueBx",
        "outputId": "95b1609e-cf61-4d1c-e30f-9830fd3572b3"
      },
      "source": [
        "numbers = (11, 2, 24, 33, 48, 85, 78, 98, 99)\n",
        "odds = 0\n",
        "evens = 0\n",
        "\n",
        "for n in numbers :\n",
        "    if n % 2 == 0 :\n",
        "        evens += 1\n",
        "    else :\n",
        "        odds += 1\n",
        "\n",
        "print(\"the number of the even numbers : \", evens)\n",
        "print(\"the number of the odd numbers : \", odds)"
      ],
      "execution_count": null,
      "outputs": [
        {
          "output_type": "stream",
          "name": "stdout",
          "text": [
            "the number of the even numbers :  5\n",
            "the number of the odd numbers :  4\n"
          ]
        }
      ]
    },
    {
      "cell_type": "code",
      "metadata": {
        "colab": {
          "base_uri": "https://localhost:8080/"
        },
        "id": "uzrlOcoktlLi",
        "outputId": "76050abd-60ab-4b08-dab3-40bcdc0c2870"
      },
      "source": [
        "numbers = (11, 2, 24, 33, 48, 85, 78, 98, 99)\n",
        "\n",
        "odds = []\n",
        "evens = []\n",
        "\n",
        "for n in numbers :\n",
        "  if n % 2 != 0 :\n",
        "    odds.append(n)\n",
        "  else :\n",
        "    evens.append(n)\n",
        "\n",
        "print(\"the number of the odd numbers : \", odds)\n",
        "print(\"the number of the even numbers : \", evens)\n"
      ],
      "execution_count": null,
      "outputs": [
        {
          "output_type": "stream",
          "name": "stdout",
          "text": [
            "the number of the odd numbers :  [11, 33, 85, 99]\n",
            "the number of the even numbers :  [2, 24, 48, 78, 98]\n"
          ]
        }
      ]
    },
    {
      "cell_type": "code",
      "metadata": {
        "colab": {
          "base_uri": "https://localhost:8080/"
        },
        "id": "31eFWLK80G7g",
        "outputId": "cb8ba818-e0a3-4294-bb72-3b446a4e115c"
      },
      "source": [
        "print(\"the number of the odd numbers : \", len(odds))\n",
        "print(\"the number of the even numbers : \", len(evens))"
      ],
      "execution_count": null,
      "outputs": [
        {
          "output_type": "stream",
          "name": "stdout",
          "text": [
            "the number of the odd numbers :  4\n",
            "the number of the even numbers :  5\n"
          ]
        }
      ]
    },
    {
      "cell_type": "code",
      "metadata": {
        "id": "aUOYUT0r29zj"
      },
      "source": [
        ""
      ],
      "execution_count": null,
      "outputs": []
    },
    {
      "cell_type": "code",
      "metadata": {
        "colab": {
          "base_uri": "https://localhost:8080/"
        },
        "id": "ZmhWy3QR0G-o",
        "outputId": "a3282657-ad8e-4acf-e1c7-1747f0f29cd2"
      },
      "source": [
        "print(\"the number of the odd numbers : \", sum(odds))\n",
        "print(\"the number of the even numbers : \", sum(evens))\n"
      ],
      "execution_count": null,
      "outputs": [
        {
          "output_type": "stream",
          "name": "stdout",
          "text": [
            "the number of the odd numbers :  228\n",
            "the number of the even numbers :  250\n"
          ]
        }
      ]
    },
    {
      "cell_type": "code",
      "metadata": {
        "colab": {
          "base_uri": "https://localhost:8080/"
        },
        "id": "GQY36Pz10HBo",
        "outputId": "d8da1f8f-2b1a-43dc-ca94-746f1db2b238"
      },
      "source": [
        "for i in [1,2,3,4,5] :\n",
        "  print(\"metin\")"
      ],
      "execution_count": null,
      "outputs": [
        {
          "output_type": "stream",
          "name": "stdout",
          "text": [
            "metin\n",
            "metin\n",
            "metin\n",
            "metin\n",
            "metin\n"
          ]
        }
      ]
    },
    {
      "cell_type": "code",
      "metadata": {
        "colab": {
          "base_uri": "https://localhost:8080/"
        },
        "id": "iocSFSw_5lp8",
        "outputId": "479abadb-fefd-46db-920c-6985a5a1d372"
      },
      "source": [
        "for i in range(1,6) :\n",
        "  print(i)"
      ],
      "execution_count": null,
      "outputs": [
        {
          "output_type": "stream",
          "name": "stdout",
          "text": [
            "1\n",
            "2\n",
            "3\n",
            "4\n",
            "5\n"
          ]
        }
      ]
    },
    {
      "cell_type": "code",
      "metadata": {
        "colab": {
          "base_uri": "https://localhost:8080/"
        },
        "id": "H4So7j5L5ls9",
        "outputId": "4b0b938f-3936-4db0-f0d8-c840de357a6d"
      },
      "source": [
        "for i in range(11) :\n",
        "  print(i, end = \" \")"
      ],
      "execution_count": null,
      "outputs": [
        {
          "output_type": "stream",
          "name": "stdout",
          "text": [
            "0 1 2 3 4 5 6 7 8 9 10 "
          ]
        }
      ]
    },
    {
      "cell_type": "code",
      "metadata": {
        "colab": {
          "base_uri": "https://localhost:8080/"
        },
        "id": "q4OnX-3a5lwe",
        "outputId": "84270277-4ba0-42d8-9c66-3f1242149be1"
      },
      "source": [
        "list(range(11))"
      ],
      "execution_count": null,
      "outputs": [
        {
          "output_type": "execute_result",
          "data": {
            "text/plain": [
              "[0, 1, 2, 3, 4, 5, 6, 7, 8, 9, 10]"
            ]
          },
          "metadata": {},
          "execution_count": 25
        }
      ]
    },
    {
      "cell_type": "code",
      "metadata": {
        "colab": {
          "base_uri": "https://localhost:8080/"
        },
        "id": "btMOkpr75lzn",
        "outputId": "64948571-3488-420a-c4e0-a7bcde896315"
      },
      "source": [
        "set(range(11))"
      ],
      "execution_count": null,
      "outputs": [
        {
          "output_type": "execute_result",
          "data": {
            "text/plain": [
              "{0, 1, 2, 3, 4, 5, 6, 7, 8, 9, 10}"
            ]
          },
          "metadata": {},
          "execution_count": 26
        }
      ]
    },
    {
      "cell_type": "code",
      "metadata": {
        "colab": {
          "base_uri": "https://localhost:8080/"
        },
        "id": "pAZunOSH5l25",
        "outputId": "03363ed9-c182-4e60-acc5-7b458102febf"
      },
      "source": [
        "tuple(range(11))"
      ],
      "execution_count": null,
      "outputs": [
        {
          "output_type": "execute_result",
          "data": {
            "text/plain": [
              "(0, 1, 2, 3, 4, 5, 6, 7, 8, 9, 10)"
            ]
          },
          "metadata": {},
          "execution_count": 27
        }
      ]
    },
    {
      "cell_type": "code",
      "metadata": {
        "colab": {
          "base_uri": "https://localhost:8080/"
        },
        "id": "gxrSxDs25l5o",
        "outputId": "45f73222-6552-4c2c-a33b-e2d634df1453"
      },
      "source": [
        "names = [\"Ahmed\", \"Aisha\", \"Adam\", \"Joseph\", \"Gabriel\"]\n",
        "for i in names :\n",
        "  print(\"Hello\", i)"
      ],
      "execution_count": null,
      "outputs": [
        {
          "output_type": "stream",
          "name": "stdout",
          "text": [
            "Hello Ahmed\n",
            "Hello Aisha\n",
            "Hello Adam\n",
            "Hello Joseph\n",
            "Hello Gabriel\n"
          ]
        }
      ]
    },
    {
      "cell_type": "code",
      "metadata": {
        "colab": {
          "base_uri": "https://localhost:8080/"
        },
        "id": "Iy1gA_Q48rJY",
        "outputId": "05d6fe1f-fe9d-4e64-da3e-3070080ef7c1"
      },
      "source": [
        "mylist = []\n",
        "for i in range(1,6):\n",
        "    mylist.append(i)\n",
        "print(mylist)"
      ],
      "execution_count": null,
      "outputs": [
        {
          "output_type": "stream",
          "name": "stdout",
          "text": [
            "[1, 2, 3, 4, 5]\n"
          ]
        }
      ]
    },
    {
      "cell_type": "code",
      "metadata": {
        "id": "yM9B2_Y38rMO",
        "colab": {
          "base_uri": "https://localhost:8080/"
        },
        "outputId": "5fe8c335-20f7-4d14-d2d0-a293735c36cd"
      },
      "source": [
        "word = input(\"Please enter a word : \")\n",
        "counter = 0\n",
        "for i in word :\n",
        "    counter += 1\n",
        "    \n",
        "    \n",
        "    if counter < len(word) :\n",
        "       i = i + \"-\"\n",
        "    print(i, end= \"\")"
      ],
      "execution_count": null,
      "outputs": [
        {
          "output_type": "stream",
          "name": "stdout",
          "text": [
            "Please enter a word : clarusway\n",
            "c-l-a-r-u-s-w-a-y"
          ]
        }
      ]
    },
    {
      "cell_type": "code",
      "metadata": {
        "id": "liVOO2wN8rPG",
        "colab": {
          "base_uri": "https://localhost:8080/"
        },
        "outputId": "fdb074da-c09b-4950-f73f-8ae5bc5149d9"
      },
      "source": [
        "word = input(\"Please enter a word : \")\n",
        "\n",
        "for i in word :\n",
        "  \n",
        "  print(i, end= \"-\")     "
      ],
      "execution_count": null,
      "outputs": [
        {
          "output_type": "stream",
          "name": "stdout",
          "text": [
            "Please enter a word : pop\n",
            "p-o-p-"
          ]
        }
      ]
    },
    {
      "cell_type": "code",
      "metadata": {
        "id": "KsEJjmud8rRc",
        "colab": {
          "base_uri": "https://localhost:8080/"
        },
        "outputId": "a84da720-10f5-4872-acc2-ffdc185f26f3"
      },
      "source": [
        "fruits = {\"apple\", \"banana\", \"cherry\"}\n",
        "print(fruits)\n",
        "x = fruits.pop()\n",
        "\n",
        "print(x)"
      ],
      "execution_count": null,
      "outputs": [
        {
          "output_type": "stream",
          "name": "stdout",
          "text": [
            "{'cherry', 'banana', 'apple'}\n",
            "cherry\n"
          ]
        }
      ]
    },
    {
      "cell_type": "code",
      "metadata": {
        "id": "RDtQiZL38rUM",
        "colab": {
          "base_uri": "https://localhost:8080/"
        },
        "outputId": "ac13a096-6037-45d3-ebb9-c3a88694670b"
      },
      "source": [
        "fruits = {\"apple\", \"banana\", \"cherry\"}\n",
        "print(fruits)\n",
        "fruits.pop()\n",
        "\n",
        "print(fruits)"
      ],
      "execution_count": null,
      "outputs": [
        {
          "output_type": "stream",
          "name": "stdout",
          "text": [
            "{'cherry', 'banana', 'apple'}\n",
            "{'banana', 'apple'}\n"
          ]
        }
      ]
    },
    {
      "cell_type": "code",
      "metadata": {
        "id": "Xrr7jGcm8rXD",
        "colab": {
          "base_uri": "https://localhost:8080/"
        },
        "outputId": "658a4936-28a5-40c8-bd67-ae75082bf9cd"
      },
      "source": [
        "user = {\"name\":\"Ahmed\", \"surname\":\"Aisha\", \"age\" : 35}\n",
        "  \n",
        "for i in user.values() :\n",
        "\n",
        "  print(i, end=\" \")"
      ],
      "execution_count": null,
      "outputs": [
        {
          "output_type": "stream",
          "name": "stdout",
          "text": [
            "Ahmed Aisha 35 "
          ]
        }
      ]
    },
    {
      "cell_type": "code",
      "metadata": {
        "id": "O_0cIPtV8rZh",
        "colab": {
          "base_uri": "https://localhost:8080/"
        },
        "outputId": "1bb25a04-c79c-4715-a5e5-401f5179b44e"
      },
      "source": [
        "user = {\"name\":\"Ahmed\", \"surname\":\"Aisha\", \"age\" : 35}\n",
        "  \n",
        "for i in user :\n",
        "\n",
        "  print(i, end=\" \")"
      ],
      "execution_count": null,
      "outputs": [
        {
          "output_type": "stream",
          "name": "stdout",
          "text": [
            "name surname age "
          ]
        }
      ]
    },
    {
      "cell_type": "code",
      "metadata": {
        "id": "p2J2tMsW8rbk",
        "colab": {
          "base_uri": "https://localhost:8080/"
        },
        "outputId": "a144b161-d285-4321-d972-d0ec83bdd534"
      },
      "source": [
        "user = {\"name\":\"Ahmed\", \"surname\":\"Aisha\", \"age\" : 35}\n",
        "  \n",
        "for i,j in user.items() :\n",
        "\n",
        "  print(i,\":\",j ,end=\", \")"
      ],
      "execution_count": null,
      "outputs": [
        {
          "output_type": "stream",
          "name": "stdout",
          "text": [
            "name : Ahmed, surname : Aisha, age : 35, "
          ]
        }
      ]
    },
    {
      "cell_type": "code",
      "metadata": {
        "id": "ZclYYQCB8rdv",
        "colab": {
          "base_uri": "https://localhost:8080/"
        },
        "outputId": "95545346-2af9-43d0-e1f2-a405ab7c5cd2"
      },
      "source": [
        "times = int(input(\"How many times should I say 'I love you' : \"))\n",
        "\n",
        "for i in range(times)  :\n",
        "  print(\"I love you\")"
      ],
      "execution_count": null,
      "outputs": [
        {
          "output_type": "stream",
          "name": "stdout",
          "text": [
            "How many times should I say 'I love you' : 5\n",
            "I love you\n",
            "I love you\n",
            "I love you\n",
            "I love you\n",
            "I love you\n"
          ]
        }
      ]
    },
    {
      "cell_type": "code",
      "metadata": {
        "id": "RZ4Okj4LOo3s"
      },
      "source": [
        ""
      ],
      "execution_count": null,
      "outputs": []
    },
    {
      "cell_type": "code",
      "metadata": {
        "colab": {
          "base_uri": "https://localhost:8080/"
        },
        "id": "WsIvnJc4L72Z",
        "outputId": "82824450-9472-4e8d-c8de-ecd187b28cd7"
      },
      "source": [
        "number = int(input(\"Please enter a number between 1-9 : \"))\n",
        "\n",
        "for i in range(11) :\n",
        "    print(\"{}*{} =  \".format(number, i), number*i)"
      ],
      "execution_count": null,
      "outputs": [
        {
          "output_type": "stream",
          "name": "stdout",
          "text": [
            "Please enter a number between 1-9 : 5\n",
            "5*0 =   0\n",
            "5*1 =   5\n",
            "5*2 =   10\n",
            "5*3 =   15\n",
            "5*4 =   20\n",
            "5*5 =   25\n",
            "5*6 =   30\n",
            "5*7 =   35\n",
            "5*8 =   40\n",
            "5*9 =   45\n",
            "5*10 =   50\n"
          ]
        }
      ]
    },
    {
      "cell_type": "code",
      "metadata": {
        "colab": {
          "base_uri": "https://localhost:8080/"
        },
        "id": "4wW7jh1BL75R",
        "outputId": "bfddf772-7b86-427d-f389-5ab301e6fbfd"
      },
      "source": [
        "number = int(input(\"Please enter a number between 1-9 : \"))\n",
        "\n",
        "for i in range(11) :\n",
        "    print(f\"{number}*{i} = {number*i}\")"
      ],
      "execution_count": null,
      "outputs": [
        {
          "output_type": "stream",
          "name": "stdout",
          "text": [
            "Please enter a number between 1-9 : 5\n",
            "5*0 = 0\n",
            "5*1 = 5\n",
            "5*2 = 10\n",
            "5*3 = 15\n",
            "5*4 = 20\n",
            "5*5 = 25\n",
            "5*6 = 30\n",
            "5*7 = 35\n",
            "5*8 = 40\n",
            "5*9 = 45\n",
            "5*10 = 50\n"
          ]
        }
      ]
    },
    {
      "cell_type": "code",
      "metadata": {
        "id": "f98zLwWCL78w"
      },
      "source": [
        "for i in range(1,10) :\n",
        "\n",
        "    print(\"1\"*)"
      ],
      "execution_count": null,
      "outputs": []
    },
    {
      "cell_type": "code",
      "metadata": {
        "colab": {
          "base_uri": "https://localhost:8080/"
        },
        "id": "S91MOenkL7_W",
        "outputId": "e601e251-b197-4a9a-90e4-9925940bb612"
      },
      "source": [
        "numbers= (12,45,78,44,63,21,89,88,96)\n",
        "evens = []\n",
        "odds = []\n",
        "for i in numbers :\n",
        "  if i % 2 == 0 :\n",
        "    evens.append(i)\n",
        "  else: \n",
        "    odds.append(i)\n",
        "print(\"evens :\", evens)\n",
        "print(\"odds : \", odds)\n",
        "\n"
      ],
      "execution_count": null,
      "outputs": [
        {
          "output_type": "stream",
          "name": "stdout",
          "text": [
            "evens : [12, 78, 44, 88, 96]\n",
            "odds :  [45, 63, 21, 89]\n"
          ]
        }
      ]
    },
    {
      "cell_type": "code",
      "metadata": {
        "colab": {
          "base_uri": "https://localhost:8080/"
        },
        "id": "pZ8Fi0MDXxx-",
        "outputId": "6629fe94-f342-44c9-c101-d93aa85081dc"
      },
      "source": [
        "evens = [i for i in range(11) if i % 2 == 0]\n",
        "odds = [i for i in range(11) if i % 2 == 1]\n",
        "print(evens, odds, sep=\"\\n\")"
      ],
      "execution_count": null,
      "outputs": [
        {
          "output_type": "stream",
          "name": "stdout",
          "text": [
            "[0, 2, 4, 6, 8, 10]\n",
            "[1, 3, 5, 7, 9]\n"
          ]
        }
      ]
    },
    {
      "cell_type": "code",
      "metadata": {
        "colab": {
          "base_uri": "https://localhost:8080/"
        },
        "id": "_xDIULi4Xx0x",
        "outputId": "88e9a0b7-481f-486a-8cae-0bad45726358"
      },
      "source": [
        "odd =[ i for i in range(0,10) if i % 2 ==1]\n",
        "even =[ i for i in range(0,10) if i % 2 ==0]\n",
        "print(odd, even, sep= \"\\n\")"
      ],
      "execution_count": null,
      "outputs": [
        {
          "output_type": "stream",
          "name": "stdout",
          "text": [
            "[1, 3, 5, 7, 9]\n",
            "[0, 2, 4, 6, 8]\n"
          ]
        }
      ]
    },
    {
      "cell_type": "code",
      "metadata": {
        "id": "fA4SY9YYXx3y",
        "colab": {
          "base_uri": "https://localhost:8080/"
        },
        "outputId": "99bf1df1-a052-4362-d84e-fd975006f6eb"
      },
      "source": [
        "print(*range(10,5,-1))"
      ],
      "execution_count": 12,
      "outputs": [
        {
          "output_type": "stream",
          "name": "stdout",
          "text": [
            "10 9 8 7 6\n"
          ]
        }
      ]
    },
    {
      "cell_type": "code",
      "metadata": {
        "colab": {
          "base_uri": "https://localhost:8080/"
        },
        "id": "zbRI_w7KZVdf",
        "outputId": "d0817fcd-128c-40d1-8725-19ec96e9d306"
      },
      "source": [
        "a = ['Mary', 'had', 'a', 'little', 'lamb']\n",
        "for i in range(len(a)):\n",
        "    print(i, a[i])"
      ],
      "execution_count": 14,
      "outputs": [
        {
          "output_type": "stream",
          "name": "stdout",
          "text": [
            "0 Mary\n",
            "1 had\n",
            "2 a\n",
            "3 little\n",
            "4 lamb\n"
          ]
        }
      ]
    },
    {
      "cell_type": "code",
      "metadata": {
        "colab": {
          "base_uri": "https://localhost:8080/"
        },
        "id": "1e8PBYAjZVgI",
        "outputId": "d02c578d-2b49-45ae-dd70-8dc7f836e064"
      },
      "source": [
        "for loop in range(1, 5) :\n",
        "  print(loop)"
      ],
      "execution_count": 19,
      "outputs": [
        {
          "output_type": "stream",
          "name": "stdout",
          "text": [
            "1\n",
            "2\n",
            "3\n",
            "4\n"
          ]
        }
      ]
    },
    {
      "cell_type": "code",
      "metadata": {
        "colab": {
          "base_uri": "https://localhost:8080/"
        },
        "id": "crsPW3Efus7T",
        "outputId": "8d174a01-c6f4-40f7-c3d4-d33689bea4d0"
      },
      "source": [
        "a = 3\n",
        "while a**2 < 299:\n",
        "    print('I will stop smoking')\n",
        "    a += 3"
      ],
      "execution_count": 22,
      "outputs": [
        {
          "output_type": "stream",
          "name": "stdout",
          "text": [
            "I will stop smoking\n",
            "I will stop smoking\n",
            "I will stop smoking\n",
            "I will stop smoking\n",
            "I will stop smoking\n"
          ]
        }
      ]
    },
    {
      "cell_type": "code",
      "metadata": {
        "colab": {
          "base_uri": "https://localhost:8080/"
        },
        "id": "ksJMtdEfus_o",
        "outputId": "bf7518f3-c309-4adf-c542-77f1383ba450"
      },
      "source": [
        "a = 15\n",
        "print(a**2)"
      ],
      "execution_count": 25,
      "outputs": [
        {
          "output_type": "stream",
          "name": "stdout",
          "text": [
            "225\n"
          ]
        }
      ]
    },
    {
      "cell_type": "code",
      "metadata": {
        "colab": {
          "base_uri": "https://localhost:8080/"
        },
        "id": "aEi8i0FRutBm",
        "outputId": "1b3e5992-5db0-4b3c-8ab9-f9035fee2d0e"
      },
      "source": [
        "a = 3\n",
        "while a**2 < 299:\n",
        "    a += 3\n",
        "    print('I will stop smoking')\n",
        "    "
      ],
      "execution_count": 26,
      "outputs": [
        {
          "output_type": "stream",
          "name": "stdout",
          "text": [
            "I will stop smoking\n",
            "I will stop smoking\n",
            "I will stop smoking\n",
            "I will stop smoking\n",
            "I will stop smoking\n"
          ]
        }
      ]
    },
    {
      "cell_type": "code",
      "metadata": {
        "colab": {
          "base_uri": "https://localhost:8080/"
        },
        "id": "hRBSySwTutEH",
        "outputId": "8a4adedb-9f43-4541-b415-f094e81ea169"
      },
      "source": [
        "a = {1-74}\n",
        "print(a)"
      ],
      "execution_count": 27,
      "outputs": [
        {
          "output_type": "stream",
          "name": "stdout",
          "text": [
            "{-73}\n"
          ]
        }
      ]
    },
    {
      "cell_type": "code",
      "metadata": {
        "colab": {
          "base_uri": "https://localhost:8080/"
        },
        "id": "5JsHPPzpyFSg",
        "outputId": "963844e1-71e5-4313-8a3e-4d7910301b0a"
      },
      "source": [
        "sum_num = 0\n",
        "for i in range(1,6) :\n",
        "    sum_num += i\n",
        " \n",
        "print(sum_num)"
      ],
      "execution_count": 33,
      "outputs": [
        {
          "output_type": "stream",
          "name": "stdout",
          "text": [
            "15\n"
          ]
        }
      ]
    },
    {
      "cell_type": "code",
      "metadata": {
        "colab": {
          "base_uri": "https://localhost:8080/"
        },
        "id": "4u88nLGNyFVV",
        "outputId": "0d725749-1ec9-499c-8cc2-cf28b69d35c8"
      },
      "source": [
        "names = [\"susan\", \"tom\", \"edward\"]\n",
        "mood = [\"happy\", \"sad\"]\n",
        "for i in names:\n",
        "  for ii in mood:\n",
        "    print(i + \" is \"+ ii)"
      ],
      "execution_count": 43,
      "outputs": [
        {
          "output_type": "stream",
          "name": "stdout",
          "text": [
            "susan is happy\n",
            "susan is sad\n",
            "tom is happy\n",
            "tom is sad\n",
            "edward is happy\n",
            "edward is sad\n"
          ]
        }
      ]
    },
    {
      "cell_type": "code",
      "metadata": {
        "colab": {
          "base_uri": "https://localhost:8080/"
        },
        "id": "LnxX__qWyFYN",
        "outputId": "c9d65d67-c7c4-4e4e-ec98-f9e7ad0aac39"
      },
      "source": [
        "v  = (\"five\", 5, True)\n",
        "v"
      ],
      "execution_count": 44,
      "outputs": [
        {
          "output_type": "execute_result",
          "data": {
            "text/plain": [
              "('five', 5, True)"
            ]
          },
          "metadata": {},
          "execution_count": 44
        }
      ]
    },
    {
      "cell_type": "code",
      "metadata": {
        "colab": {
          "base_uri": "https://localhost:8080/",
          "height": 35
        },
        "id": "ocAfeAKzyFbU",
        "outputId": "3a6c7b99-454e-403b-af6b-424e61a91a02"
      },
      "source": [
        "(x, y, z) = v\n",
        "x"
      ],
      "execution_count": 50,
      "outputs": [
        {
          "output_type": "execute_result",
          "data": {
            "application/vnd.google.colaboratory.intrinsic+json": {
              "type": "string"
            },
            "text/plain": [
              "'five'"
            ]
          },
          "metadata": {},
          "execution_count": 50
        }
      ]
    },
    {
      "cell_type": "code",
      "metadata": {
        "colab": {
          "base_uri": "https://localhost:8080/"
        },
        "id": "1huPgGmsyFeL",
        "outputId": "96edd1e2-f87e-46e7-a2f3-c70bf860887a"
      },
      "source": [
        "y"
      ],
      "execution_count": 47,
      "outputs": [
        {
          "output_type": "execute_result",
          "data": {
            "text/plain": [
              "5"
            ]
          },
          "metadata": {},
          "execution_count": 47
        }
      ]
    },
    {
      "cell_type": "code",
      "metadata": {
        "colab": {
          "base_uri": "https://localhost:8080/"
        },
        "id": "ml9oVcOOyFgx",
        "outputId": "6c9edea7-a4a0-4655-b9d3-a2f5be6a2d35"
      },
      "source": [
        "z"
      ],
      "execution_count": 48,
      "outputs": [
        {
          "output_type": "execute_result",
          "data": {
            "text/plain": [
              "True"
            ]
          },
          "metadata": {},
          "execution_count": 48
        }
      ]
    },
    {
      "cell_type": "code",
      "metadata": {
        "colab": {
          "base_uri": "https://localhost:8080/"
        },
        "id": "lxuFKGFh5opg",
        "outputId": "78271823-18b5-48b4-a0ba-d97834048bb4"
      },
      "source": [
        "tuple(range(1,8))"
      ],
      "execution_count": 56,
      "outputs": [
        {
          "output_type": "execute_result",
          "data": {
            "text/plain": [
              "(1, 2, 3, 4, 5, 6, 7)"
            ]
          },
          "metadata": {},
          "execution_count": 56
        }
      ]
    },
    {
      "cell_type": "code",
      "metadata": {
        "colab": {
          "base_uri": "https://localhost:8080/"
        },
        "id": "y0V18h7LutGk",
        "outputId": "15c431d5-fd3d-490a-e7c0-8295891e0daf"
      },
      "source": [
        "(mon, tue, wed, thurs, fri, sat, sun) = range(1,8)\n",
        "mon"
      ],
      "execution_count": 54,
      "outputs": [
        {
          "output_type": "execute_result",
          "data": {
            "text/plain": [
              "1"
            ]
          },
          "metadata": {},
          "execution_count": 54
        }
      ]
    },
    {
      "cell_type": "code",
      "metadata": {
        "colab": {
          "base_uri": "https://localhost:8080/"
        },
        "id": "mNeAAWlautJp",
        "outputId": "fd73ccd0-c3a0-4b54-9363-e84f58eb7f92"
      },
      "source": [
        "sun"
      ],
      "execution_count": 55,
      "outputs": [
        {
          "output_type": "execute_result",
          "data": {
            "text/plain": [
              "7"
            ]
          },
          "metadata": {},
          "execution_count": 55
        }
      ]
    },
    {
      "cell_type": "code",
      "metadata": {
        "colab": {
          "base_uri": "https://localhost:8080/"
        },
        "id": "32n-WNOButLw",
        "outputId": "6f462c1b-1f51-419d-a7a9-c4bdcfbcb1b2"
      },
      "source": [
        "[1, 2, 3, 4] + [\"bir\", \"iki\", \"üç\"]"
      ],
      "execution_count": 57,
      "outputs": [
        {
          "output_type": "execute_result",
          "data": {
            "text/plain": [
              "[1, 2, 3, 4, 'bir', 'iki', 'üç']"
            ]
          },
          "metadata": {},
          "execution_count": 57
        }
      ]
    },
    {
      "cell_type": "code",
      "metadata": {
        "colab": {
          "base_uri": "https://localhost:8080/",
          "height": 163
        },
        "id": "-yVZLNAYZVjK",
        "outputId": "244b32f3-f9bd-4327-c47d-56c2e2a399e7"
      },
      "source": [
        "a, b = (10,20,30,40)"
      ],
      "execution_count": 58,
      "outputs": [
        {
          "output_type": "error",
          "ename": "ValueError",
          "evalue": "ignored",
          "traceback": [
            "\u001b[0;31m---------------------------------------------------------------------------\u001b[0m",
            "\u001b[0;31mValueError\u001b[0m                                Traceback (most recent call last)",
            "\u001b[0;32m<ipython-input-58-cef251b644f3>\u001b[0m in \u001b[0;36m<module>\u001b[0;34m()\u001b[0m\n\u001b[0;32m----> 1\u001b[0;31m \u001b[0ma\u001b[0m\u001b[0;34m,\u001b[0m \u001b[0mb\u001b[0m \u001b[0;34m=\u001b[0m \u001b[0;34m(\u001b[0m\u001b[0;36m10\u001b[0m\u001b[0;34m,\u001b[0m\u001b[0;36m20\u001b[0m\u001b[0;34m,\u001b[0m\u001b[0;36m30\u001b[0m\u001b[0;34m,\u001b[0m\u001b[0;36m40\u001b[0m\u001b[0;34m)\u001b[0m\u001b[0;34m\u001b[0m\u001b[0;34m\u001b[0m\u001b[0m\n\u001b[0m",
            "\u001b[0;31mValueError\u001b[0m: too many values to unpack (expected 2)"
          ]
        }
      ]
    },
    {
      "cell_type": "code",
      "metadata": {
        "id": "QX7N4IxnZVmO"
      },
      "source": [
        "a, _, b, _ = (10,20,30,40) \n",
        "                                    #_ place holder yer kaplamayan "
      ],
      "execution_count": 59,
      "outputs": []
    },
    {
      "cell_type": "code",
      "metadata": {
        "colab": {
          "base_uri": "https://localhost:8080/"
        },
        "id": "QmBfdEh770E3",
        "outputId": "83649e0c-3f58-4a71-db88-514fc1da7d71"
      },
      "source": [
        "a"
      ],
      "execution_count": 67,
      "outputs": [
        {
          "output_type": "execute_result",
          "data": {
            "text/plain": [
              "10"
            ]
          },
          "metadata": {},
          "execution_count": 67
        }
      ]
    },
    {
      "cell_type": "code",
      "metadata": {
        "colab": {
          "base_uri": "https://localhost:8080/"
        },
        "id": "OmQ31dp271kQ",
        "outputId": "68c65143-5715-4cb6-deca-e96c2b9b1aa0"
      },
      "source": [
        "b"
      ],
      "execution_count": 68,
      "outputs": [
        {
          "output_type": "execute_result",
          "data": {
            "text/plain": [
              "30"
            ]
          },
          "metadata": {},
          "execution_count": 68
        }
      ]
    },
    {
      "cell_type": "code",
      "metadata": {
        "colab": {
          "base_uri": "https://localhost:8080/",
          "height": 163
        },
        "id": "_LBEUl-47Lnk",
        "outputId": "8982549f-346d-4db4-c660-d956f394859e"
      },
      "source": [
        "x, y, z =  (11,22,33,44,55)"
      ],
      "execution_count": 62,
      "outputs": [
        {
          "output_type": "error",
          "ename": "ValueError",
          "evalue": "ignored",
          "traceback": [
            "\u001b[0;31m---------------------------------------------------------------------------\u001b[0m",
            "\u001b[0;31mValueError\u001b[0m                                Traceback (most recent call last)",
            "\u001b[0;32m<ipython-input-62-143d462518e0>\u001b[0m in \u001b[0;36m<module>\u001b[0;34m()\u001b[0m\n\u001b[0;32m----> 1\u001b[0;31m \u001b[0mx\u001b[0m\u001b[0;34m,\u001b[0m \u001b[0my\u001b[0m\u001b[0;34m,\u001b[0m \u001b[0mz\u001b[0m \u001b[0;34m=\u001b[0m  \u001b[0;34m(\u001b[0m\u001b[0;36m11\u001b[0m\u001b[0;34m,\u001b[0m\u001b[0;36m22\u001b[0m\u001b[0;34m,\u001b[0m\u001b[0;36m33\u001b[0m\u001b[0;34m,\u001b[0m\u001b[0;36m44\u001b[0m\u001b[0;34m,\u001b[0m\u001b[0;36m55\u001b[0m\u001b[0;34m)\u001b[0m\u001b[0;34m\u001b[0m\u001b[0;34m\u001b[0m\u001b[0m\n\u001b[0m",
            "\u001b[0;31mValueError\u001b[0m: too many values to unpack (expected 3)"
          ]
        }
      ]
    },
    {
      "cell_type": "code",
      "metadata": {
        "id": "8bQgIWDn7Lqp"
      },
      "source": [
        "x, y, *z =  (11,22,33,44,55)"
      ],
      "execution_count": 63,
      "outputs": []
    },
    {
      "cell_type": "code",
      "metadata": {
        "colab": {
          "base_uri": "https://localhost:8080/"
        },
        "id": "fufaT8QG7Lt_",
        "outputId": "797f4871-bb88-45fc-ca43-99f2b61cacb9"
      },
      "source": [
        "x"
      ],
      "execution_count": 64,
      "outputs": [
        {
          "output_type": "execute_result",
          "data": {
            "text/plain": [
              "11"
            ]
          },
          "metadata": {},
          "execution_count": 64
        }
      ]
    },
    {
      "cell_type": "code",
      "metadata": {
        "colab": {
          "base_uri": "https://localhost:8080/"
        },
        "id": "LNyBg5q47lSq",
        "outputId": "7a8906e3-411f-4c5d-d523-5c6b826035f1"
      },
      "source": [
        "y"
      ],
      "execution_count": 65,
      "outputs": [
        {
          "output_type": "execute_result",
          "data": {
            "text/plain": [
              "22"
            ]
          },
          "metadata": {},
          "execution_count": 65
        }
      ]
    },
    {
      "cell_type": "code",
      "metadata": {
        "colab": {
          "base_uri": "https://localhost:8080/"
        },
        "id": "NRj5_GAy7lNS",
        "outputId": "8ce311ad-0931-4f19-d2d0-7c899be1623e"
      },
      "source": [
        "z"
      ],
      "execution_count": 66,
      "outputs": [
        {
          "output_type": "execute_result",
          "data": {
            "text/plain": [
              "[33, 44, 55]"
            ]
          },
          "metadata": {},
          "execution_count": 66
        }
      ]
    },
    {
      "cell_type": "code",
      "metadata": {
        "id": "-QJ66O687lJ-"
      },
      "source": [
        "x, y, *_ = (11,22,33,44,55,66,77,88,99)\n"
      ],
      "execution_count": 69,
      "outputs": []
    },
    {
      "cell_type": "code",
      "metadata": {
        "colab": {
          "base_uri": "https://localhost:8080/"
        },
        "id": "B5sniURC74Ui",
        "outputId": "f47eca83-0548-4f7d-adf9-52e9daafca97"
      },
      "source": [
        "x"
      ],
      "execution_count": 70,
      "outputs": [
        {
          "output_type": "execute_result",
          "data": {
            "text/plain": [
              "11"
            ]
          },
          "metadata": {},
          "execution_count": 70
        }
      ]
    },
    {
      "cell_type": "code",
      "metadata": {
        "colab": {
          "base_uri": "https://localhost:8080/"
        },
        "id": "EfvijxKy74Yl",
        "outputId": "6ce91865-2c8c-413e-bbab-b5d7aca2cc99"
      },
      "source": [
        "y"
      ],
      "execution_count": 71,
      "outputs": [
        {
          "output_type": "execute_result",
          "data": {
            "text/plain": [
              "22"
            ]
          },
          "metadata": {},
          "execution_count": 71
        }
      ]
    },
    {
      "cell_type": "code",
      "metadata": {
        "id": "Jo1p8g3V74cK"
      },
      "source": [
        "x,l, _,*z,t = (11,22,33,44,55,66,77,88)"
      ],
      "execution_count": 81,
      "outputs": []
    },
    {
      "cell_type": "code",
      "metadata": {
        "colab": {
          "base_uri": "https://localhost:8080/"
        },
        "id": "WQpWH-1174fa",
        "outputId": "481e4456-c83b-4d93-9d48-f9347b729d81"
      },
      "source": [
        "x"
      ],
      "execution_count": 82,
      "outputs": [
        {
          "output_type": "execute_result",
          "data": {
            "text/plain": [
              "11"
            ]
          },
          "metadata": {},
          "execution_count": 82
        }
      ]
    },
    {
      "cell_type": "code",
      "metadata": {
        "colab": {
          "base_uri": "https://localhost:8080/"
        },
        "id": "RbM0XsNQ74kf",
        "outputId": "a72aa80e-e3bf-48b3-a5dc-43a0bb31ed0a"
      },
      "source": [
        "y"
      ],
      "execution_count": 80,
      "outputs": [
        {
          "output_type": "execute_result",
          "data": {
            "text/plain": [
              "33"
            ]
          },
          "metadata": {},
          "execution_count": 80
        }
      ]
    },
    {
      "cell_type": "code",
      "metadata": {
        "colab": {
          "base_uri": "https://localhost:8080/"
        },
        "id": "E3bKkS-U74nx",
        "outputId": "e489c59b-dcf6-4ab4-a8e8-b0e4620c3c07"
      },
      "source": [
        "l"
      ],
      "execution_count": 79,
      "outputs": [
        {
          "output_type": "execute_result",
          "data": {
            "text/plain": [
              "22"
            ]
          },
          "metadata": {},
          "execution_count": 79
        }
      ]
    },
    {
      "cell_type": "code",
      "metadata": {
        "id": "Xq-nEI9s74qB"
      },
      "source": [
        "x, y, *_, z, _, t = (11, 22, 33, 44, 55, 66, 77)"
      ],
      "execution_count": 83,
      "outputs": []
    },
    {
      "cell_type": "code",
      "metadata": {
        "colab": {
          "base_uri": "https://localhost:8080/"
        },
        "id": "VOs0bXGR74sk",
        "outputId": "e095aadc-9360-4e81-a73d-272c039f3b53"
      },
      "source": [
        "x"
      ],
      "execution_count": 84,
      "outputs": [
        {
          "output_type": "execute_result",
          "data": {
            "text/plain": [
              "11"
            ]
          },
          "metadata": {},
          "execution_count": 84
        }
      ]
    },
    {
      "cell_type": "code",
      "metadata": {
        "colab": {
          "base_uri": "https://localhost:8080/"
        },
        "id": "8HhP73jC74wG",
        "outputId": "ea21eac4-a577-4e33-f44a-7c1698e2f5ae"
      },
      "source": [
        "t"
      ],
      "execution_count": 85,
      "outputs": [
        {
          "output_type": "execute_result",
          "data": {
            "text/plain": [
              "77"
            ]
          },
          "metadata": {},
          "execution_count": 85
        }
      ]
    },
    {
      "cell_type": "code",
      "metadata": {
        "colab": {
          "base_uri": "https://localhost:8080/"
        },
        "id": "tao3UmD574zJ",
        "outputId": "a256b7c3-30b2-4e11-8cb1-face8dd68635"
      },
      "source": [
        "z"
      ],
      "execution_count": 86,
      "outputs": [
        {
          "output_type": "execute_result",
          "data": {
            "text/plain": [
              "55"
            ]
          },
          "metadata": {},
          "execution_count": 86
        }
      ]
    },
    {
      "cell_type": "code",
      "metadata": {
        "id": "u79GqyYh7lHJ"
      },
      "source": [
        ""
      ],
      "execution_count": null,
      "outputs": []
    },
    {
      "cell_type": "code",
      "metadata": {
        "id": "xIUuY-BXZVpP"
      },
      "source": [
        ""
      ],
      "execution_count": null,
      "outputs": []
    },
    {
      "cell_type": "code",
      "metadata": {
        "id": "gc1CdMyEZVr5"
      },
      "source": [
        ""
      ],
      "execution_count": null,
      "outputs": []
    }
  ]
}