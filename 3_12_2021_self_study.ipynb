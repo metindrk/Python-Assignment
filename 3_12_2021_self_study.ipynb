{
  "nbformat": 4,
  "nbformat_minor": 0,
  "metadata": {
    "colab": {
      "name": "3.12.2021 self study.ipynb",
      "provenance": [],
      "collapsed_sections": [],
      "authorship_tag": "ABX9TyPh5z8fslAhuxt6c4ng7CYD",
      "include_colab_link": true
    },
    "kernelspec": {
      "name": "python3",
      "display_name": "Python 3"
    },
    "language_info": {
      "name": "python"
    }
  },
  "cells": [
    {
      "cell_type": "markdown",
      "metadata": {
        "id": "view-in-github",
        "colab_type": "text"
      },
      "source": [
        "<a href=\"https://colab.research.google.com/github/metindrk/Python-Assignment/blob/main/3_12_2021_self_study.ipynb\" target=\"_parent\"><img src=\"https://colab.research.google.com/assets/colab-badge.svg\" alt=\"Open In Colab\"/></a>"
      ]
    },
    {
      "cell_type": "code",
      "metadata": {
        "id": "lwqd1ij5XlRa"
      },
      "source": [
        "def sleep_in(weekday, vacation):\n",
        "  \"\"\"\n",
        "  The parameter weekday is True if it is a weekday, and the parameter vacation \n",
        "  is True if we are on vacation. We sleep in if it is not a weekday or we're on \n",
        "  vacation. Return True if we sleep in.\n",
        "  \"\"\"\n",
        "  return not weekday or vacation"
      ],
      "execution_count": 3,
      "outputs": []
    },
    {
      "cell_type": "code",
      "metadata": {
        "id": "HktSCRI9Xyvj"
      },
      "source": [
        "def monkey_trouble(a_smile, b_smile):\n",
        "  \"\"\"\n",
        "  We have two monkeys, a and b, and the parameters a_smile and b_smile indicate \n",
        "  if each is smiling. We are in trouble if they are both smiling or if neither \n",
        "  of them is smiling. Return True if we are in trouble. \n",
        "  \"\"\"\n",
        "  return a_smile == b_smile"
      ],
      "execution_count": 4,
      "outputs": []
    },
    {
      "cell_type": "code",
      "metadata": {
        "id": "DZoGkpNUXy3-"
      },
      "source": [
        "def sum_double(a, b):\n",
        "  \"\"\"\n",
        "  Given two int values, return their sum. Unless the two values are the same,\n",
        "  then return double their sum. \n",
        "  \"\"\"\n",
        "  return a+b if a != b else 2*(a+b)"
      ],
      "execution_count": 5,
      "outputs": []
    },
    {
      "cell_type": "code",
      "metadata": {
        "colab": {
          "base_uri": "https://localhost:8080/"
        },
        "id": "WvR1TFqHXy65",
        "outputId": "0f640308-24a6-43cf-e196-816f77564134"
      },
      "source": [
        "def diff21(n):\n",
        "  \"\"\"\n",
        "  Given an int n, return the absolute difference between n and 21, except return\n",
        "  double the absolute difference if n is over 21. \n",
        "  \"\"\"\n",
        "  return 21-n if n < 22 else 2*(n-21)\n",
        "diff21(22)"
      ],
      "execution_count": 6,
      "outputs": [
        {
          "output_type": "execute_result",
          "data": {
            "text/plain": [
              "2"
            ]
          },
          "metadata": {},
          "execution_count": 6
        }
      ]
    },
    {
      "cell_type": "code",
      "metadata": {
        "id": "LxdQ3grkXy99"
      },
      "source": [
        "def parrot_trouble(talking, hour):\n",
        "  \"\"\"\n",
        "  We have a loud talking parrot. The \"hour\" parameter is the current hour time \n",
        "  in the range 0..23. We are in trouble if the parrot is talking and the hour \n",
        "  is before 7 or after 20. Return True if we are in trouble. \"\"\"\n",
        "  return talking and hour not in range(7,21)"
      ],
      "execution_count": 12,
      "outputs": []
    },
    {
      "cell_type": "code",
      "metadata": {
        "colab": {
          "base_uri": "https://localhost:8080/"
        },
        "id": "FzAT09INXzBB",
        "outputId": "c13f486b-8940-4099-9a95-e8a22045e67c"
      },
      "source": [
        "def makes10(a, b):\n",
        "  \"\"\"\n",
        "  Given 2 ints, a and b, return True if one if them is 10 or if their sum is 10. \n",
        "  \"\"\"\n",
        "  return a+b == 10 or a == 10 or b == 10\n",
        "makes10(1,2)"
      ],
      "execution_count": 14,
      "outputs": [
        {
          "output_type": "execute_result",
          "data": {
            "text/plain": [
              "False"
            ]
          },
          "metadata": {},
          "execution_count": 14
        }
      ]
    },
    {
      "cell_type": "code",
      "metadata": {
        "colab": {
          "base_uri": "https://localhost:8080/"
        },
        "id": "BTcH5IQVXzD6",
        "outputId": "8338259d-f824-468d-8d62-245c27260bc5"
      },
      "source": [
        "def near_hundred(n):\n",
        "  \"\"\"\n",
        "  Given an int n, return True if it is within 10 of 100 or 200. \n",
        "  \"\"\"\n",
        "  #return n in range(90,111) + range(190,211)\n",
        "  return abs(n-100) < 11 or abs(n-200) < 11 \n",
        "near_hundred(91)"
      ],
      "execution_count": 16,
      "outputs": [
        {
          "output_type": "execute_result",
          "data": {
            "text/plain": [
              "True"
            ]
          },
          "metadata": {},
          "execution_count": 16
        }
      ]
    },
    {
      "cell_type": "code",
      "metadata": {
        "colab": {
          "base_uri": "https://localhost:8080/",
          "height": 208
        },
        "id": "TaNQU-ZVXzG3",
        "outputId": "377bb0c9-22f2-41fc-84c4-62192ab56f9b"
      },
      "source": [
        "def pos_neg(a, b, negative):\n",
        "  \"\"\"\n",
        "  Given 2 int values, return True if one is negative and one is positive. \n",
        "  Unless the parameter \"negative\" is True, then they both must be negative. \n",
        "  \"\"\"\n",
        "  return (a < 0) ^ (b < 0) if not negative else (a < 0) and (b < 0)\n",
        "pos_neg(2,-6, negative)"
      ],
      "execution_count": 17,
      "outputs": [
        {
          "output_type": "error",
          "ename": "NameError",
          "evalue": "ignored",
          "traceback": [
            "\u001b[0;31m---------------------------------------------------------------------------\u001b[0m",
            "\u001b[0;31mNameError\u001b[0m                                 Traceback (most recent call last)",
            "\u001b[0;32m<ipython-input-17-cdf5708f6a4e>\u001b[0m in \u001b[0;36m<module>\u001b[0;34m()\u001b[0m\n\u001b[1;32m      5\u001b[0m   \"\"\"\n\u001b[1;32m      6\u001b[0m   \u001b[0;32mreturn\u001b[0m \u001b[0;34m(\u001b[0m\u001b[0ma\u001b[0m \u001b[0;34m<\u001b[0m \u001b[0;36m0\u001b[0m\u001b[0;34m)\u001b[0m \u001b[0;34m^\u001b[0m \u001b[0;34m(\u001b[0m\u001b[0mb\u001b[0m \u001b[0;34m<\u001b[0m \u001b[0;36m0\u001b[0m\u001b[0;34m)\u001b[0m \u001b[0;32mif\u001b[0m \u001b[0;32mnot\u001b[0m \u001b[0mnegative\u001b[0m \u001b[0;32melse\u001b[0m \u001b[0;34m(\u001b[0m\u001b[0ma\u001b[0m \u001b[0;34m<\u001b[0m \u001b[0;36m0\u001b[0m\u001b[0;34m)\u001b[0m \u001b[0;32mand\u001b[0m \u001b[0;34m(\u001b[0m\u001b[0mb\u001b[0m \u001b[0;34m<\u001b[0m \u001b[0;36m0\u001b[0m\u001b[0;34m)\u001b[0m\u001b[0;34m\u001b[0m\u001b[0;34m\u001b[0m\u001b[0m\n\u001b[0;32m----> 7\u001b[0;31m \u001b[0mpos_neg\u001b[0m\u001b[0;34m(\u001b[0m\u001b[0;36m2\u001b[0m\u001b[0;34m,\u001b[0m\u001b[0;34m-\u001b[0m\u001b[0;36m6\u001b[0m\u001b[0;34m,\u001b[0m \u001b[0mnegative\u001b[0m\u001b[0;34m)\u001b[0m\u001b[0;34m\u001b[0m\u001b[0;34m\u001b[0m\u001b[0m\n\u001b[0m",
            "\u001b[0;31mNameError\u001b[0m: name 'negative' is not defined"
          ]
        }
      ]
    },
    {
      "cell_type": "code",
      "metadata": {
        "id": "yzz0IrYBXzJv"
      },
      "source": [
        "def not_string(str):\n",
        "  \"\"\"\n",
        "  Given a string, return a new string where \"not \" has been added to the front. \n",
        "  However, if the string already begins with \"not\", return the string unchanged. \n",
        "  \"\"\"\n",
        "  return str if str[:3] == \"not\" else \"not \" + str\n",
        "\n"
      ],
      "execution_count": null,
      "outputs": []
    },
    {
      "cell_type": "code",
      "metadata": {
        "id": "ESu_-K_IXzMe"
      },
      "source": [
        "def missing_char(str, n):\n",
        "  \"\"\"\n",
        "  Given a non-empty string and an int n, return a new string where the char \n",
        "  at index n has been removed. The value of n will be a valid index of a char in\n",
        "  the original string (i.e. n will be in the range 0..len(str)-1 inclusive). \n",
        "  \"\"\"\n",
        "  return str[:n] + str[n+1:]\n",
        "\n"
      ],
      "execution_count": null,
      "outputs": []
    },
    {
      "cell_type": "code",
      "metadata": {
        "id": "UQwmUXXCXzPL"
      },
      "source": [
        "def front_back(str):\n",
        "  \"\"\"\n",
        "  Given a string, return a new string where the first and last chars \n",
        "  have been exchanged. \n",
        "  \"\"\"\n",
        "  return str if len(str) < 2 else str[-1] + str[1:-1] + str[0]\n",
        "\n"
      ],
      "execution_count": null,
      "outputs": []
    },
    {
      "cell_type": "code",
      "metadata": {
        "id": "5NJi_qgcXzSC"
      },
      "source": [
        "def front3(str):\n",
        "  \"\"\"\n",
        "  Given a string, we'll say that the front is the first 3 chars of the string. \n",
        "  If the string length is less than 3, the front is whatever is there. \n",
        "  Return a new string which is 3 copies of the front. \n",
        "  \"\"\"\n",
        "  return str[:(3 if len(str)>3 else len(str))]*3"
      ],
      "execution_count": null,
      "outputs": []
    },
    {
      "cell_type": "code",
      "metadata": {
        "id": "-fbdQ64uXzU5"
      },
      "source": [
        "\"\"\"Asgnmt_Les1_Assignment - 3 (Negative Meaning).py\"\"\"\n",
        "\n",
        "\"\"\"Define a function to take a word and return negative meaning.\n",
        "Given a word, return a new word where \"not \" has been added to the front. However, if the word already begins with \"not\", return the string unchanged.\n",
        "For example:\n",
        "Test\tResult\n",
        "print(not_string('sugar'))\n",
        "not sugar\n",
        "print(not_string('x'))\n",
        "not x\n",
        "print(not_string('not bad'))\n",
        "not bad\"\"\"\n",
        "\n",
        "def not_string(word):\n",
        "    if word.startswith(\"not\"):\n",
        "        return(word)\n",
        "    else:\n",
        "        return \"not \" + word\n",
        "print(not_string('not merve'))"
      ],
      "execution_count": null,
      "outputs": []
    },
    {
      "cell_type": "code",
      "metadata": {
        "id": "Sb7B9pe1XzXl"
      },
      "source": [
        "\"\"\"Asgnmt_Les1_Assignment - 4 (Is it a Prime Number?).py\"\"\"\n",
        "\"\"\"Task : Write a program that takes a number from the user and prints the result to check if it is a prime number.\n",
        "The examples of the desired output are as follows :\n",
        "input →  19 ⇉ output : 19 is a prime number\n",
        "input →  10 ⇉ output : 10 is not a prime number\"\"\"\n",
        "x = int(input(\"Enter a number to check whether it is Prime number or not: \"))\n",
        "divider = 0\n",
        "for i in range(2,x):\n",
        "    if x % i == 0:\n",
        "        divider += 1\n",
        "        break\n",
        "if divider == 0:\n",
        "    print(f\"{x} is a prime number\")\n",
        "else:\n",
        "    print(f\"{x} is not a prime number\")\n"
      ],
      "execution_count": null,
      "outputs": []
    },
    {
      "cell_type": "code",
      "metadata": {
        "id": "xfyAqSnfXzaM"
      },
      "source": [
        "\"\"\"Asgnmt_Les1_Assignment - 5 (Fibonacci Numbers).py\"\"\"\n",
        "\"\"\"Task : Create a list consisting of Fibonacci numbers from 1 to 55 using control flow statements.\n",
        "The desired output is like :\n",
        "fibonacci →  [1, 1, 2, 3, 5, 8, 13, 21, 34, 55]\"\"\"\n",
        "a, b = 1, 1\n",
        "list_fib = []\n",
        "while a <= 55:\n",
        "    list_fib.append(a)\n",
        "    a, b = b, a + b\n",
        "print(list_fib)"
      ],
      "execution_count": null,
      "outputs": []
    },
    {
      "cell_type": "code",
      "metadata": {
        "id": "O5EhyFzmXzfR"
      },
      "source": [
        "\"\"\"Asgnmt_Les1_Assignment - 6 (Prime Numbers).py\"\"\"\n",
        "\"\"\"Task : Print the prime numbers which are between 1 to entered limit number (n).\n",
        "You can use a nested for loop.\n",
        "Collect all these numbers into a list\n",
        "The desired output for n=100 :\n",
        "[2, 3, 5, 7, 11, 13, 17, 19, 23, 29, 31, 37, 41, 43, 47, 53, 59,\n",
        "61, 67, 71, 73, 79, 83, 89, 97]\"\"\"\n",
        "\n",
        "\n",
        "def main(n):\n",
        "    list_prime = []\n",
        "    for i in range(2, n+1):\n",
        "        divider = 0\n",
        "        for x in range(2, i):\n",
        "            if not i % x:\n",
        "                divider += 1\n",
        "                break\n",
        "        if not divider:\n",
        "            list_prime.append(i)\n",
        "    print(list_prime)\n",
        "\n",
        "\n",
        "n = int(input(\"Enter an end number : \"))\n",
        "main(n)"
      ],
      "execution_count": 17,
      "outputs": []
    },
    {
      "cell_type": "code",
      "metadata": {
        "id": "QKZ7Bb2JgRYU"
      },
      "source": [
        "\"\"\"Asgnmt_Les1_Assignment - 7 (FizzBuzz).py\"\"\"\n",
        "\"\"\"Task : Print the FizzBuzz numbers.\n",
        "FizzBuzz is a famous code challenge used in interviews to test basic programming skills. It's time to write your own \\\n",
        "implementation.\n",
        "Print numbers from 1 to 100 inclusively following these instructions:\n",
        "if a number is multiple of 3, print \"Fizz\" instead of this number,\n",
        "if a number is multiple of 5, print \"Buzz\" instead of this number,\n",
        "for numbers that are multiples of both 3 and 5, print \"FizzBuzz\",\n",
        "print the rest of the numbers unchanged.\n",
        "Output each value on a separate line.\"\"\"\n",
        "\n",
        "for i in range(1,101):\n",
        "    if not i % 15:\n",
        "        i = \"FizzBuzz\"\n",
        "    elif not i % 5:\n",
        "        i = \"Buzz\"\n",
        "    elif not i % 3:\n",
        "        i = \"Fizz\"\n",
        "    print(i, sep=\"\\n\")"
      ],
      "execution_count": null,
      "outputs": []
    },
    {
      "cell_type": "code",
      "metadata": {
        "id": "AUbXKWJXgRbO"
      },
      "source": [
        "\"\"\"Asgnmt_Les1_Assignment - 8 (Leap Year).py\"\"\"\n",
        "\"\"\"Task:\n",
        "Find out if a given year is a \"leap\" year.\n",
        "In the Gregorian calendar, three criteria must be taken into account to identify leap years:\n",
        "The year must be evenly divisible by 4;\n",
        "If the year can also be evenly divided by 100, it is not a leap year; unless...\n",
        "The year is also evenly divisible by 400. Then it is a leap year.\n",
        "According to these rules, the years 2000 and 2400 are leap years, while 1800, 1900, 2100, 2200, 2300, and 2500 are not\n",
        " the leap years.\n",
        "Write a Python program that prints such as \"2020 is a leap year\" if the given year by the user is a leap year, prints\n",
        "such as \"2019 is not a leap year\" otherwise.\"\"\"\n",
        "\n",
        "year = int(input(\"Please enter a year: \"))\n",
        "if not year % 400 or (not year % 4 and year % 100):\n",
        "    print(f\"{year} is a leap year\")\n",
        "else:\n",
        "    print(f\"{year} is not a leap year\")"
      ],
      "execution_count": null,
      "outputs": []
    },
    {
      "cell_type": "code",
      "metadata": {
        "id": "BZdjOWgJgReP"
      },
      "source": [
        "\"\"\"Asgnmt_Les1_Les1_Asg3_ArmstrongNUmber.py\"\"\"\n",
        "\"\"\"Task:\n",
        "Find out if a given number is an \"Armstrong Number\".\n",
        "An n-digit number that is the sum of the nth powers of its digits is called an n-Armstrong number. Examples :\n",
        "371 = 33 + 73 + 13;\n",
        "9474 = 94 + 44 + 74 + 44;\n",
        "93084 = 95 + 35 + 05 + 85 + 45.\n",
        "Write a Python program that;\n",
        "takes a positive integer number from the user,\n",
        "checks the entered number if it is Armstrong,\n",
        "consider the negative, float and any entries other than numeric values then display a warning message to the user.\"\"\"\n",
        "number = input(\"Please enter an integer number: \")\n",
        "power = len(number)\n",
        "sonuc = 0\n",
        "if number.startswith(\"-\") or \".\" in number or \",\" in number or (not number.isdigit()):\n",
        "    print(\"It is an invalid entry. Don't use non-numeric, float, or negative values!\")\n",
        "else:\n",
        "    for i in number:\n",
        "        sonuc += int(i) ** power\n",
        "    if int(number) == sonuc:\n",
        "        print(number + \" is an Armstrong number\")\n",
        "    else:\n",
        "        print(number + \" is not an Armstrong number\")"
      ],
      "execution_count": null,
      "outputs": []
    },
    {
      "cell_type": "code",
      "metadata": {
        "id": "N0WqWAeEgRhB"
      },
      "source": [
        "\"\"\"Asgnmt_Les1_Les_Asg2.py\"\"\"\n",
        "\"\"\"Problem :\n",
        "Task : Estimating the risk of death from coronavirus. Write a program that;\n",
        "Takes \"Yes\" or \"No\" from the user as an answer to the following questions :\n",
        "Are you a cigarette addict older than 75 years old? Variable → age\n",
        "Do you have a severe chronic disease? Variable → chronic\n",
        "Is your immune system too weak? Variable → immune\n",
        "Set a logical algorithm using boolean logic operators (and/or) and use \n",
        "if-statements with the given variables in order to print out us a message : \n",
        "\"You are in risky group\"(if True ) or \"You are not in risky group\" (if False).\n",
        "age =  # can be assigned only True/False\n",
        "chronic =  # can be assigned only True/False\n",
        "immune =  # can be assigned only True/False\n",
        "risk = ?\"\"\"\n",
        "age = input(\"Are you a cigarette addict older than 75 years old?: \")\n",
        "chronic = input(\"Do you have a severe chronic disease?\")\n",
        "immune = input(\"Is your immune system too weak?\")\n",
        "if age == \"Yes\":\n",
        "    age = True\n",
        "else:\n",
        "    age = False\n",
        "if chronic == \"Yes\":\n",
        "    chronic = True\n",
        "else:\n",
        "    chronic = False\n",
        "if immune == \"Yes\":\n",
        "    immune = True\n",
        "else:\n",
        "    immune = False\n",
        "if age and chronic and immune:\n",
        "    print(\"You are in risky group\")\n",
        "else:\n",
        "    print(\"You are not in risky group\")"
      ],
      "execution_count": null,
      "outputs": []
    },
    {
      "cell_type": "code",
      "metadata": {
        "id": "0WFyk-tQgRj4"
      },
      "source": [
        ""
      ],
      "execution_count": null,
      "outputs": []
    },
    {
      "cell_type": "code",
      "metadata": {
        "id": "pxPSRYLRgRmz"
      },
      "source": [
        ""
      ],
      "execution_count": null,
      "outputs": []
    },
    {
      "cell_type": "code",
      "metadata": {
        "id": "73KIswVVgRpa"
      },
      "source": [
        ""
      ],
      "execution_count": null,
      "outputs": []
    },
    {
      "cell_type": "code",
      "metadata": {
        "id": "29OXIITmgRrq"
      },
      "source": [
        ""
      ],
      "execution_count": null,
      "outputs": []
    },
    {
      "cell_type": "code",
      "metadata": {
        "id": "mwOtcCRrgB0H"
      },
      "source": [
        ""
      ],
      "execution_count": null,
      "outputs": []
    },
    {
      "cell_type": "code",
      "metadata": {
        "id": "nqz9ZhWGgB2u"
      },
      "source": [
        ""
      ],
      "execution_count": null,
      "outputs": []
    },
    {
      "cell_type": "code",
      "metadata": {
        "id": "BpppfSQxgB5p"
      },
      "source": [
        ""
      ],
      "execution_count": null,
      "outputs": []
    },
    {
      "cell_type": "code",
      "metadata": {
        "id": "LUVaK9TlgB8M"
      },
      "source": [
        ""
      ],
      "execution_count": null,
      "outputs": []
    },
    {
      "cell_type": "code",
      "metadata": {
        "id": "1P44aprAgB_H"
      },
      "source": [
        ""
      ],
      "execution_count": null,
      "outputs": []
    },
    {
      "cell_type": "code",
      "metadata": {
        "id": "ZLSewg_ngCB-"
      },
      "source": [
        ""
      ],
      "execution_count": null,
      "outputs": []
    }
  ]
}