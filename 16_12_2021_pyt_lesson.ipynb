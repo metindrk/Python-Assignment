{
  "nbformat": 4,
  "nbformat_minor": 0,
  "metadata": {
    "colab": {
      "name": "16.12.2021 pyt_lesson.ipynb",
      "provenance": [],
      "collapsed_sections": [],
      "authorship_tag": "ABX9TyPePUx/pJt2yySjKtAVkjXH",
      "include_colab_link": true
    },
    "kernelspec": {
      "name": "python3",
      "display_name": "Python 3"
    },
    "language_info": {
      "name": "python"
    }
  },
  "cells": [
    {
      "cell_type": "markdown",
      "metadata": {
        "id": "view-in-github",
        "colab_type": "text"
      },
      "source": [
        "<a href=\"https://colab.research.google.com/github/metindrk/Python-Assignment/blob/main/16_12_2021_pyt_lesson.ipynb\" target=\"_parent\"><img src=\"https://colab.research.google.com/assets/colab-badge.svg\" alt=\"Open In Colab\"/></a>"
      ]
    },
    {
      "cell_type": "code",
      "execution_count": null,
      "metadata": {
        "id": "APatPAAe7mQS"
      },
      "outputs": [],
      "source": [
        "Task:\n",
        "\n",
        "Count the number of each letter in a sentence.\n",
        "The department you work for undertook a project construction that makes word / text analysis. \n",
        "You are asked to calculate the number of letters or any chars in the sentences \n",
        "entered under this project. Write a Python program that; takes a sentence from the user,\n",
        "counts the number of each letter of the sentence,\n",
        "collects the letters/chars as a key and the counted numbers as a value in a dictionary.\n",
        "\n",
        "Examples\n",
        "Sample inputs\tOutputs\n",
        "hippo runs to us!\t\n",
        "{'s': 2, 'r': 1, 't': 1, 'h': 1, 'n': 1, \n",
        "'i': 1, 'u': 2, 'o': 2, 'p': 2, ' ': 3, '!': 1}\n"
      ]
    },
    {
      "cell_type": "code",
      "source": [
        "def char_frequency(str1):\n",
        "    dict = {}\n",
        "    for n in str1:\n",
        "        keys = dict.keys()\n",
        "        if n in keys:\n",
        "            dict[n] += 1\n",
        "        else:\n",
        "            dict[n] = 1\n",
        "    return dict\n",
        "print(char_frequency('hippo runs to us!'))"
      ],
      "metadata": {
        "id": "nCjtqyWV8EBF",
        "colab": {
          "base_uri": "https://localhost:8080/"
        },
        "outputId": "7d67827f-0693-487c-de5e-e9fb035f9955"
      },
      "execution_count": null,
      "outputs": [
        {
          "output_type": "stream",
          "name": "stdout",
          "text": [
            "{'h': 1, 'i': 1, 'p': 2, 'o': 2, ' ': 3, 'r': 1, 'u': 2, 'n': 1, 's': 2, 't': 1, '!': 1}\n"
          ]
        }
      ]
    },
    {
      "cell_type": "code",
      "source": [
        "test_string = \"Geeksforgeeks is best Computer Science Portal\"\n",
        " \n",
        " \n",
        "# printing original string\n",
        "print(\"The original string is : \" + test_string)\n",
        " \n",
        "# using split()\n",
        "# to count words in string\n",
        "res = len(test_string.split())\n",
        " \n",
        "# printing result\n",
        "print(\"The number of words in string are : \" + str(res))\n",
        "print(\"The number of words in string are : \", len(test_string))"
      ],
      "metadata": {
        "id": "61M1_J7u8EK3",
        "colab": {
          "base_uri": "https://localhost:8080/"
        },
        "outputId": "e43e12af-0b58-4cc4-c5d1-05ee810f9dfb"
      },
      "execution_count": null,
      "outputs": [
        {
          "output_type": "stream",
          "name": "stdout",
          "text": [
            "The original string is : Geeksforgeeks is best Computer Science Portal\n",
            "The number of words in string are : 6\n",
            "The number of words in string are :  45\n"
          ]
        }
      ]
    },
    {
      "cell_type": "code",
      "source": [
        "test_string = \"Geeksforgeeks is best Computer Science Portal\"\n",
        "res = len(test_string.split())\n",
        "print(res, len(test_string))\n"
      ],
      "metadata": {
        "id": "j0Tei5BI8EN_",
        "colab": {
          "base_uri": "https://localhost:8080/"
        },
        "outputId": "ad1a6206-70d2-4e10-b678-5754daeb58e8"
      },
      "execution_count": null,
      "outputs": [
        {
          "output_type": "stream",
          "name": "stdout",
          "text": [
            "6 45\n"
          ]
        }
      ]
    },
    {
      "cell_type": "code",
      "source": [
        "def san(x):\n",
        "    return x+1\n",
        "    x=-2\n",
        "    x=4\n",
        "san(12)"
      ],
      "metadata": {
        "id": "LCQaaZaT8ERC",
        "colab": {
          "base_uri": "https://localhost:8080/"
        },
        "outputId": "6f1642ef-1e9d-45cf-8792-61fa74c00e05"
      },
      "execution_count": null,
      "outputs": [
        {
          "output_type": "execute_result",
          "data": {
            "text/plain": [
              "13"
            ]
          },
          "metadata": {},
          "execution_count": 8
        }
      ]
    },
    {
      "cell_type": "code",
      "source": [
        "def main():\n",
        "    s = input(\"Please enter your sentence: \")\n",
        "    words = s.split()\n",
        "    wordCount = len(words)\n",
        "    lettercount = len(s)\n",
        "    return \"Your word and letter counts are :\", wordCount, lettercount\n",
        "main()"
      ],
      "metadata": {
        "id": "4FsgdFB98EUC",
        "colab": {
          "base_uri": "https://localhost:8080/"
        },
        "outputId": "3295f39f-0d0c-4d0c-87e7-9d500b65b17e"
      },
      "execution_count": null,
      "outputs": [
        {
          "name": "stdout",
          "output_type": "stream",
          "text": [
            "Please enter your sentence: fg fgf hj kıuyk\n"
          ]
        },
        {
          "output_type": "execute_result",
          "data": {
            "text/plain": [
              "('Your word and letter counts are :', 4, 15)"
            ]
          },
          "metadata": {},
          "execution_count": 5
        }
      ]
    },
    {
      "cell_type": "code",
      "source": [
        "pwd\n"
      ],
      "metadata": {
        "id": "q3nRMPHAQAuI",
        "colab": {
          "base_uri": "https://localhost:8080/",
          "height": 35
        },
        "outputId": "83bc97e0-881a-4114-d7f4-0530a70b0392"
      },
      "execution_count": 1,
      "outputs": [
        {
          "output_type": "execute_result",
          "data": {
            "application/vnd.google.colaboratory.intrinsic+json": {
              "type": "string"
            },
            "text/plain": [
              "'/content'"
            ]
          },
          "metadata": {},
          "execution_count": 1
        }
      ]
    },
    {
      "cell_type": "code",
      "source": [
        "file = open(\"fishes.txt\", \"r\", encoding=\"utf-8\")\n",
        "content = file.read()\n",
        "file.close()\n",
        "content"
      ],
      "metadata": {
        "id": "44Bysj7y8EXL",
        "colab": {
          "base_uri": "https://localhost:8080/",
          "height": 72
        },
        "outputId": "ebcaff89-886c-4118-adb4-5521596f1b2c"
      },
      "execution_count": 6,
      "outputs": [
        {
          "output_type": "execute_result",
          "data": {
            "application/vnd.google.colaboratory.intrinsic+json": {
              "type": "string"
            },
            "text/plain": [
              "'Orca is a kind of Dolphin.\\nBlue Whale is the largest animal known on earth.\\nSharks are the sister group to the Rays (batoids).\\nThe Tuna Fish can weigh up to 260 kg.\\nSquid and Octopus are in the same class.'"
            ]
          },
          "metadata": {},
          "execution_count": 6
        }
      ]
    },
    {
      "cell_type": "code",
      "source": [
        "file = open(\"fishes.txt\", \"r\", encoding=\"utf-8\")\n",
        "print(file.read())\n",
        "file.close()"
      ],
      "metadata": {
        "id": "gMKO7WoW8EaQ",
        "colab": {
          "base_uri": "https://localhost:8080/"
        },
        "outputId": "2f757886-3c02-47f9-cb09-cffe3ffd33ce"
      },
      "execution_count": 4,
      "outputs": [
        {
          "output_type": "stream",
          "name": "stdout",
          "text": [
            "Orca is a kind of Dolphin.\n",
            "Blue Whale is the largest animal known on earth.\n",
            "Sharks are the sister group to the Rays (batoids).\n",
            "The Tuna Fish can weigh up to 260 kg.\n",
            "Squid and Octopus are in the same class.\n"
          ]
        }
      ]
    },
    {
      "cell_type": "code",
      "source": [
        "len(content)"
      ],
      "metadata": {
        "id": "3GOIVHUp8Edk",
        "colab": {
          "base_uri": "https://localhost:8080/"
        },
        "outputId": "f6d30283-982f-4538-8594-676889acae9c"
      },
      "execution_count": 7,
      "outputs": [
        {
          "output_type": "execute_result",
          "data": {
            "text/plain": [
              "205"
            ]
          },
          "metadata": {},
          "execution_count": 7
        }
      ]
    },
    {
      "cell_type": "code",
      "source": [
        "content[:33]"
      ],
      "metadata": {
        "id": "VO0YUpbt8Eg2",
        "colab": {
          "base_uri": "https://localhost:8080/",
          "height": 35
        },
        "outputId": "184a19d3-b195-43bf-8a50-6f595de81cec"
      },
      "execution_count": 8,
      "outputs": [
        {
          "output_type": "execute_result",
          "data": {
            "application/vnd.google.colaboratory.intrinsic+json": {
              "type": "string"
            },
            "text/plain": [
              "'Orca is a kind of Dolphin.\\nBlue W'"
            ]
          },
          "metadata": {},
          "execution_count": 8
        }
      ]
    },
    {
      "cell_type": "code",
      "source": [
        "file = open(\"fishes.txt\", \"r\")\n",
        "print(file.read(33))\n",
        "print(file.read(33))"
      ],
      "metadata": {
        "id": "kC7JoQ_v8Ejw",
        "colab": {
          "base_uri": "https://localhost:8080/"
        },
        "outputId": "a57f3f31-203c-4c08-8ba9-a3b0852fc327"
      },
      "execution_count": 9,
      "outputs": [
        {
          "output_type": "stream",
          "name": "stdout",
          "text": [
            "Orca is a kind of Dolphin.\n",
            "Blue W\n",
            "hale is the largest animal known \n"
          ]
        }
      ]
    },
    {
      "cell_type": "code",
      "source": [
        "dosya = open(\"fishes.txt\",\"r\", encoding=\"UTF-8\")\n",
        "text = dosya.read()\n",
        "print(len(text))\n",
        "print(text[:34])"
      ],
      "metadata": {
        "id": "s8lq_rWi8Emr",
        "colab": {
          "base_uri": "https://localhost:8080/"
        },
        "outputId": "8f9edf96-e6a4-41aa-dfaa-cc087e4993e4"
      },
      "execution_count": 10,
      "outputs": [
        {
          "output_type": "stream",
          "name": "stdout",
          "text": [
            "205\n",
            "Orca is a kind of Dolphin.\n",
            "Blue Wh\n"
          ]
        }
      ]
    },
    {
      "cell_type": "code",
      "source": [
        "file = open(\"fishes.txt\", \"r\")\n",
        "print(file.read(33))\n",
        "print(file.read(33))\n",
        "file.seek(0)\n",
        "print(file.read(33))\n",
        "\n",
        "file.close()\n"
      ],
      "metadata": {
        "colab": {
          "base_uri": "https://localhost:8080/"
        },
        "id": "PORannOeiz-G",
        "outputId": "be01c502-a426-4047-f3de-3ce35961fe90"
      },
      "execution_count": 11,
      "outputs": [
        {
          "output_type": "stream",
          "name": "stdout",
          "text": [
            "Orca is a kind of Dolphin.\n",
            "Blue W\n",
            "hale is the largest animal known \n",
            "Orca is a kind of Dolphin.\n",
            "Blue W\n"
          ]
        }
      ]
    },
    {
      "cell_type": "code",
      "source": [
        "file = open(\"fishes.txt\", \"r\")\n",
        "print(file.read(33))\n",
        "print(file.read(33))\n",
        "file.seek(0)\n",
        "print(file.read(33))\n",
        "print(file.tell())\n",
        "file.close()"
      ],
      "metadata": {
        "colab": {
          "base_uri": "https://localhost:8080/"
        },
        "id": "q1QMb7V4i0Ay",
        "outputId": "f1b0c774-0350-4dfc-8c13-792e884bcedf"
      },
      "execution_count": 12,
      "outputs": [
        {
          "output_type": "stream",
          "name": "stdout",
          "text": [
            "Orca is a kind of Dolphin.\n",
            "Blue W\n",
            "hale is the largest animal known \n",
            "Orca is a kind of Dolphin.\n",
            "Blue W\n",
            "34\n"
          ]
        }
      ]
    },
    {
      "cell_type": "code",
      "source": [
        "file = open(\"fishes.txt\", \"r\")\n",
        "print(file.read(33))\n",
        "print(file.read(15))\n",
        "print(file.tell())\n",
        "\n",
        "file.seek(50)\n",
        "\n",
        "print(file.read(33))\n",
        "print(file.tell())\n",
        "file.close()"
      ],
      "metadata": {
        "colab": {
          "base_uri": "https://localhost:8080/"
        },
        "id": "dbro_lIEi0DY",
        "outputId": "67532936-a563-44c0-a273-ecceb0571392"
      },
      "execution_count": 14,
      "outputs": [
        {
          "output_type": "stream",
          "name": "stdout",
          "text": [
            "Orca is a kind of Dolphin.\n",
            "Blue W\n",
            "hale is the lar\n",
            "49\n",
            "est animal known on earth.\n",
            "Sharks\n",
            "84\n"
          ]
        }
      ]
    },
    {
      "cell_type": "code",
      "source": [
        "file = open(\"rumi.txt\", \"r\", encoding=\"utf-8\")\n",
        "print(file.read())\n",
        "file.close()"
      ],
      "metadata": {
        "colab": {
          "base_uri": "https://localhost:8080/"
        },
        "id": "uhxb-3tji0GP",
        "outputId": "eb6d909d-7fa5-4a86-accd-18f875e54125"
      },
      "execution_count": 15,
      "outputs": [
        {
          "output_type": "stream",
          "name": "stdout",
          "text": [
            "I want to sing\n",
            "Like the birds sing,\n",
            "Not worrying about\n",
            "Who hears or\n",
            "What they think.\n"
          ]
        }
      ]
    },
    {
      "cell_type": "code",
      "source": [
        "file = open(\"rumi.txt\", \"r\", encoding=\"utf-8\")\n",
        "print(file.read(35))\n",
        "file.close()"
      ],
      "metadata": {
        "colab": {
          "base_uri": "https://localhost:8080/"
        },
        "id": "JbzIREUVi0JG",
        "outputId": "0cf5623f-9cc8-4563-b2fb-d71e96c3e668"
      },
      "execution_count": 23,
      "outputs": [
        {
          "output_type": "stream",
          "name": "stdout",
          "text": [
            "I want to sing\n",
            "Like the birds sing,\n"
          ]
        }
      ]
    },
    {
      "cell_type": "markdown",
      "source": [
        ""
      ],
      "metadata": {
        "id": "1bYEatiPpUH4"
      }
    },
    {
      "cell_type": "code",
      "source": [
        "rumi = open(\"rumi.txt\", \"r\", encoding=\"utf-8\")\n",
        "print(rumi.read(35))\n",
        "print(rumi.read(13))\n",
        "rumi.close()"
      ],
      "metadata": {
        "colab": {
          "base_uri": "https://localhost:8080/"
        },
        "id": "Sjh5ZDI3i0ME",
        "outputId": "19e804c4-df2e-47c2-9123-b3916bdd83b0"
      },
      "execution_count": 24,
      "outputs": [
        {
          "output_type": "stream",
          "name": "stdout",
          "text": [
            "I want to sing\n",
            "Like the birds sing,\n",
            "\n",
            "Not worrying\n"
          ]
        }
      ]
    },
    {
      "cell_type": "code",
      "source": [
        "rumi = open(\"rumi.txt\", \"r\", encoding=\"utf-8\")\n",
        "print(rumi.read(35))\n",
        "print(rumi.read(13))\n",
        "print(rumi.tell())\n",
        "rumi.seek(15)\n",
        "print(rumi.read(21))\n",
        "rumi.close()"
      ],
      "metadata": {
        "colab": {
          "base_uri": "https://localhost:8080/"
        },
        "id": "Cq9UXhNai0O2",
        "outputId": "70f83057-c052-47d2-a173-67a3d982c0c4"
      },
      "execution_count": 27,
      "outputs": [
        {
          "output_type": "stream",
          "name": "stdout",
          "text": [
            "I want to sing\n",
            "Like the birds sing,\n",
            "\n",
            "Not worrying\n",
            "50\n",
            "\n",
            "Like the birds sing,\n"
          ]
        }
      ]
    },
    {
      "cell_type": "code",
      "source": [
        "file = open(\"fishes.txt\", \"r\")\n",
        "print(file.readline())\n",
        "print(file.readline())\n",
        "print(file.readline())\n",
        "file.close()"
      ],
      "metadata": {
        "colab": {
          "base_uri": "https://localhost:8080/"
        },
        "id": "iYn6wbQFi0Rg",
        "outputId": "d138ff8f-daf6-4522-c517-d2d07ab846c9"
      },
      "execution_count": 29,
      "outputs": [
        {
          "output_type": "stream",
          "name": "stdout",
          "text": [
            "Orca is a kind of Dolphin.\n",
            "\n",
            "Blue Whale is the largest animal known on earth.\n",
            "\n",
            "Sharks are the sister group to the Rays (batoids).\n",
            "\n"
          ]
        }
      ]
    },
    {
      "cell_type": "code",
      "source": [
        "file = open(\"fishes.txt\", \"r\")\n",
        "print(file.readline())\n",
        "print(file.readline())\n",
        "print(file.readline())\n",
        "file.close()"
      ],
      "metadata": {
        "colab": {
          "base_uri": "https://localhost:8080/"
        },
        "id": "3kMl3aCEi0UY",
        "outputId": "71535bf6-8612-403c-b206-7b5e3693e200"
      },
      "execution_count": 31,
      "outputs": [
        {
          "output_type": "stream",
          "name": "stdout",
          "text": [
            "Orca is a kind of Dolphin.\n",
            "\n",
            "Blue Whale is the largest animal known on earth.\n",
            "\n",
            "Sharks are the sister group to the Rays (batoids).\n",
            "\n"
          ]
        }
      ]
    },
    {
      "cell_type": "code",
      "source": [
        "file = open(\"fishes.txt\", \"r\")\n",
        "print(file.read())\n",
        "file.close()"
      ],
      "metadata": {
        "colab": {
          "base_uri": "https://localhost:8080/"
        },
        "id": "XitcIIjOrtKn",
        "outputId": "ca0accde-2ba1-4449-c5bc-72162d785062"
      },
      "execution_count": 30,
      "outputs": [
        {
          "output_type": "stream",
          "name": "stdout",
          "text": [
            "Orca is a kind of Dolphin.\n",
            "Blue Whale is the largest animal known on earth.\n",
            "Sharks are the sister group to the Rays (batoids).\n",
            "The Tuna Fish can weigh up to 260 kg.\n",
            "Squid and Octopus are in the same class.\n"
          ]
        }
      ]
    },
    {
      "cell_type": "code",
      "source": [
        "file = open(\"fishes.txt\", \"r\")\n",
        "print(file.readline(13))\n",
        "print(file.readline(13))\n",
        "print(file.readline(13))\n",
        "print(file.readline(13))\n",
        "file.close()"
      ],
      "metadata": {
        "colab": {
          "base_uri": "https://localhost:8080/"
        },
        "id": "K5jZFm7TrtNb",
        "outputId": "a4b22d77-0e3c-4349-a3ed-a88f51fe0561"
      },
      "execution_count": 33,
      "outputs": [
        {
          "output_type": "stream",
          "name": "stdout",
          "text": [
            "Orca is a kin\n",
            "d of Dolphin.\n",
            "\n",
            "\n",
            "Blue Whale is\n"
          ]
        }
      ]
    },
    {
      "cell_type": "code",
      "source": [
        "file = open(\"fishes.txt\", \"r\")\n",
        "part_1 = (file.readline(13))\n",
        "part_2 = (file.readline(13))\n",
        "part_3 = (file.readline(13))\n",
        "part_4 = (file.readline(13))\n",
        "file.close()"
      ],
      "metadata": {
        "id": "i3jZ93krrtQI"
      },
      "execution_count": 34,
      "outputs": []
    },
    {
      "cell_type": "code",
      "source": [
        "part_1"
      ],
      "metadata": {
        "colab": {
          "base_uri": "https://localhost:8080/",
          "height": 35
        },
        "id": "Pr69cyYRrtS5",
        "outputId": "42812f88-948e-4ed8-c4a6-349a0c21f947"
      },
      "execution_count": 35,
      "outputs": [
        {
          "output_type": "execute_result",
          "data": {
            "application/vnd.google.colaboratory.intrinsic+json": {
              "type": "string"
            },
            "text/plain": [
              "'Orca is a kin'"
            ]
          },
          "metadata": {},
          "execution_count": 35
        }
      ]
    },
    {
      "cell_type": "code",
      "source": [
        "part_2"
      ],
      "metadata": {
        "colab": {
          "base_uri": "https://localhost:8080/",
          "height": 35
        },
        "id": "crzllKsnrtWi",
        "outputId": "fbd42fbe-9a02-4a01-fbc9-21f12dc6f2e1"
      },
      "execution_count": 36,
      "outputs": [
        {
          "output_type": "execute_result",
          "data": {
            "application/vnd.google.colaboratory.intrinsic+json": {
              "type": "string"
            },
            "text/plain": [
              "'d of Dolphin.'"
            ]
          },
          "metadata": {},
          "execution_count": 36
        }
      ]
    },
    {
      "cell_type": "code",
      "source": [
        "part_3"
      ],
      "metadata": {
        "colab": {
          "base_uri": "https://localhost:8080/",
          "height": 35
        },
        "id": "xrl_vZFGrtYk",
        "outputId": "6b435b75-99a0-4703-fecc-06078924b626"
      },
      "execution_count": 37,
      "outputs": [
        {
          "output_type": "execute_result",
          "data": {
            "application/vnd.google.colaboratory.intrinsic+json": {
              "type": "string"
            },
            "text/plain": [
              "'\\n'"
            ]
          },
          "metadata": {},
          "execution_count": 37
        }
      ]
    },
    {
      "cell_type": "code",
      "source": [
        "part_4"
      ],
      "metadata": {
        "colab": {
          "base_uri": "https://localhost:8080/",
          "height": 35
        },
        "id": "tt8WfK_hrtam",
        "outputId": "24b1546f-3479-4360-95ce-74266c33352f"
      },
      "execution_count": 38,
      "outputs": [
        {
          "output_type": "execute_result",
          "data": {
            "application/vnd.google.colaboratory.intrinsic+json": {
              "type": "string"
            },
            "text/plain": [
              "'Blue Whale is'"
            ]
          },
          "metadata": {},
          "execution_count": 38
        }
      ]
    },
    {
      "cell_type": "code",
      "source": [
        "print(part_3)"
      ],
      "metadata": {
        "colab": {
          "base_uri": "https://localhost:8080/"
        },
        "id": "FTt_gUmCi0XD",
        "outputId": "6b696aa6-b741-497d-f193-c1c9a98d4fba"
      },
      "execution_count": 39,
      "outputs": [
        {
          "output_type": "stream",
          "name": "stdout",
          "text": [
            "\n",
            "\n"
          ]
        }
      ]
    },
    {
      "cell_type": "code",
      "source": [
        "first_line = part_1 + part_2 + part_3\n",
        "first_line"
      ],
      "metadata": {
        "colab": {
          "base_uri": "https://localhost:8080/",
          "height": 35
        },
        "id": "avFBmDS1t7KX",
        "outputId": "4f388389-3ad6-4b0a-80f9-3c39cceff59c"
      },
      "execution_count": 40,
      "outputs": [
        {
          "output_type": "execute_result",
          "data": {
            "application/vnd.google.colaboratory.intrinsic+json": {
              "type": "string"
            },
            "text/plain": [
              "'Orca is a kind of Dolphin.\\n'"
            ]
          },
          "metadata": {},
          "execution_count": 40
        }
      ]
    },
    {
      "cell_type": "code",
      "source": [
        "rumi = open(\"rumi.txt\", \"r\", encoding=\"utf-8\")\n",
        "print(rumi.readline())\n",
        "print(rumi.tell())\n",
        "print(rumi.readline())\n",
        "print(rumi.tell())\n",
        "print(rumi.readline(50))\n",
        "print(rumi.readline(50))\n",
        "rumi.close()"
      ],
      "metadata": {
        "colab": {
          "base_uri": "https://localhost:8080/"
        },
        "id": "-w9LxmoWt7Nl",
        "outputId": "72192f34-277d-47c7-9c97-ee830ce87582"
      },
      "execution_count": 44,
      "outputs": [
        {
          "output_type": "stream",
          "name": "stdout",
          "text": [
            "I want to sing\n",
            "\n",
            "16\n",
            "Like the birds sing,\n",
            "\n",
            "38\n",
            "Not worrying about\n",
            "\n",
            "Who hears or\n",
            "\n"
          ]
        }
      ]
    },
    {
      "cell_type": "code",
      "source": [
        "file = open(\"fishes.txt\", \"r\")\n",
        "print(file.readlines())\n",
        "file.close()"
      ],
      "metadata": {
        "colab": {
          "base_uri": "https://localhost:8080/"
        },
        "id": "y17e30DPt7RI",
        "outputId": "85e8284a-5414-4ec9-e6bb-523a1f83ca5b"
      },
      "execution_count": 45,
      "outputs": [
        {
          "output_type": "stream",
          "name": "stdout",
          "text": [
            "['Orca is a kind of Dolphin.\\n', 'Blue Whale is the largest animal known on earth.\\n', 'Sharks are the sister group to the Rays (batoids).\\n', 'The Tuna Fish can weigh up to 260 kg.\\n', 'Squid and Octopus are in the same class.']\n"
          ]
        }
      ]
    },
    {
      "cell_type": "code",
      "source": [
        "with open( \"fishes.txt\", \"r\" ) as file :\n",
        "    fish = file.readlines()\n",
        "    "
      ],
      "metadata": {
        "id": "HaQcnJHot7U9"
      },
      "execution_count": 48,
      "outputs": []
    },
    {
      "cell_type": "code",
      "source": [
        "fish"
      ],
      "metadata": {
        "colab": {
          "base_uri": "https://localhost:8080/"
        },
        "id": "4V0MCcrXt7Wx",
        "outputId": "507a4977-6e5a-461f-b65e-5818243ec867"
      },
      "execution_count": 49,
      "outputs": [
        {
          "output_type": "execute_result",
          "data": {
            "text/plain": [
              "['Orca is a kind of Dolphin.\\n',\n",
              " 'Blue Whale is the largest animal known on earth.\\n',\n",
              " 'Sharks are the sister group to the Rays (batoids).\\n',\n",
              " 'The Tuna Fish can weigh up to 260 kg.\\n',\n",
              " 'Squid and Octopus are in the same class.']"
            ]
          },
          "metadata": {},
          "execution_count": 49
        }
      ]
    },
    {
      "cell_type": "code",
      "source": [
        "type(fish)"
      ],
      "metadata": {
        "colab": {
          "base_uri": "https://localhost:8080/"
        },
        "id": "wHH22K-st7ZU",
        "outputId": "e9984626-56f0-4732-f446-ca20ec97fd79"
      },
      "execution_count": 50,
      "outputs": [
        {
          "output_type": "execute_result",
          "data": {
            "text/plain": [
              "list"
            ]
          },
          "metadata": {},
          "execution_count": 50
        }
      ]
    },
    {
      "cell_type": "code",
      "source": [
        "for line in fish :\n",
        "    print(line)"
      ],
      "metadata": {
        "colab": {
          "base_uri": "https://localhost:8080/"
        },
        "id": "QVL4kGCVt7cD",
        "outputId": "73c5e47f-ff9e-4713-e032-78e07ec4065f"
      },
      "execution_count": 52,
      "outputs": [
        {
          "output_type": "stream",
          "name": "stdout",
          "text": [
            "Orca is a kind of Dolphin.\n",
            "\n",
            "Blue Whale is the largest animal known on earth.\n",
            "\n",
            "Sharks are the sister group to the Rays (batoids).\n",
            "\n",
            "The Tuna Fish can weigh up to 260 kg.\n",
            "\n",
            "Squid and Octopus are in the same class.\n"
          ]
        }
      ]
    },
    {
      "cell_type": "code",
      "source": [
        "with open( \"rumi.txt\", \"r\" ) as file :\n",
        "    rumi = file.readlines()\n",
        "    "
      ],
      "metadata": {
        "id": "fFTXd_LKt7fC"
      },
      "execution_count": 53,
      "outputs": []
    },
    {
      "cell_type": "code",
      "source": [
        "rumi"
      ],
      "metadata": {
        "colab": {
          "base_uri": "https://localhost:8080/"
        },
        "id": "wrtlwwmWt7hw",
        "outputId": "a2cac15c-1c99-4607-ed53-040e8f8cdb25"
      },
      "execution_count": 54,
      "outputs": [
        {
          "output_type": "execute_result",
          "data": {
            "text/plain": [
              "['I want to sing\\n',\n",
              " 'Like the birds sing,\\n',\n",
              " 'Not worrying about\\n',\n",
              " 'Who hears or\\n',\n",
              " 'What they think.']"
            ]
          },
          "metadata": {},
          "execution_count": 54
        }
      ]
    },
    {
      "cell_type": "code",
      "source": [
        "with open( \"fishes.txt\", \"r\") as file :\n",
        "   for line in file :\n",
        "     print(line)"
      ],
      "metadata": {
        "colab": {
          "base_uri": "https://localhost:8080/"
        },
        "id": "hFaF4quui0Zz",
        "outputId": "d611d9f4-23c3-4155-fca0-7712b4bfbb3b"
      },
      "execution_count": 55,
      "outputs": [
        {
          "output_type": "stream",
          "name": "stdout",
          "text": [
            "Orca is a kind of Dolphin.\n",
            "\n",
            "Blue Whale is the largest animal known on earth.\n",
            "\n",
            "Sharks are the sister group to the Rays (batoids).\n",
            "\n",
            "The Tuna Fish can weigh up to 260 kg.\n",
            "\n",
            "Squid and Octopus are in the same class.\n"
          ]
        }
      ]
    },
    {
      "cell_type": "code",
      "source": [
        "with open(\"dummy_file.txt\", 'w', encoding=\"utf-8\") as file:\n",
        "    file.write('This is the new line for my dummy_file')  \n",
        "    # we write new str data into it \n",
        "\n",
        "with open(\"dummy_file.txt\", 'r', encoding=\"utf-8\") as file:\n",
        "    print(file.read())  # reads the content of the 'dummy_file'"
      ],
      "metadata": {
        "colab": {
          "base_uri": "https://localhost:8080/"
        },
        "id": "6f3hSTZKi0cG",
        "outputId": "106bebdd-182b-45a3-870b-63f3092b7c18"
      },
      "execution_count": 58,
      "outputs": [
        {
          "output_type": "stream",
          "name": "stdout",
          "text": [
            "This is the new line for my dummy_file\n"
          ]
        }
      ]
    },
    {
      "cell_type": "code",
      "source": [
        "with open(\"dummy_file.txt\", 'w', encoding=\"utf-8\") as file:\n",
        "    file.write('My first sentence ')  \n",
        "    file.write('My first sentence, ')  \n",
        "    file.write('My first sentence\\n')  \n",
        "    file.write('My first sentence ')  \n",
        "    file.write('My first sentence ')  \n",
        "   \n",
        "\n",
        "with open(\"dummy_file.txt\", 'r', encoding=\"utf-8\") as file:\n",
        "    print(file.read())"
      ],
      "metadata": {
        "colab": {
          "base_uri": "https://localhost:8080/"
        },
        "id": "M_wS20UZ2u0h",
        "outputId": "32f3f253-229d-4465-a286-add7329a341a"
      },
      "execution_count": 63,
      "outputs": [
        {
          "output_type": "stream",
          "name": "stdout",
          "text": [
            "My first sentence My first sentence, My first sentence\n",
            "My first sentence My first sentence \n"
          ]
        }
      ]
    },
    {
      "cell_type": "code",
      "source": [
        "with open(\"dummy_file.txt\", 'a', encoding=\"utf-8\") as file:\n",
        "    file.write('This is the new line for my dummy_file')  \n",
        "    # we write new str data into it \n",
        "\n",
        "with open(\"dummy_file.txt\", 'r', encoding=\"utf-8\") as file:\n",
        "    print(file.read())  # reads the content of the 'dummy_file'"
      ],
      "metadata": {
        "colab": {
          "base_uri": "https://localhost:8080/"
        },
        "id": "lQPMbqem2u30",
        "outputId": "58529cec-3a16-4e29-ffe4-aa7eb9a8a921"
      },
      "execution_count": 64,
      "outputs": [
        {
          "output_type": "stream",
          "name": "stdout",
          "text": [
            "My first sentence My first sentence, My first sentence\n",
            "My first sentence My first sentence This is the new line for my dummy_file\n"
          ]
        }
      ]
    },
    {
      "cell_type": "code",
      "source": [
        "fruits = ['Banana', 'Orange', 'Apple', 'Strawberry', 'Cherry']"
      ],
      "metadata": {
        "id": "7Ew7jNJf2u85"
      },
      "execution_count": 67,
      "outputs": []
    },
    {
      "cell_type": "code",
      "source": [
        "with open(\"fruits.txt\", \"w\", encoding=\"utf-8\") as dosyam :\n",
        "    for sepet in fruits :\n",
        "      dosyam.write(sepet + \"\\n\")\n",
        "with open (\"fruits.txt\", \"r\") as file :\n",
        "    print(file.read())"
      ],
      "metadata": {
        "colab": {
          "base_uri": "https://localhost:8080/"
        },
        "id": "3JHNgUdK2vAg",
        "outputId": "26b2c315-044d-4100-f852-0a278d9d591f"
      },
      "execution_count": 69,
      "outputs": [
        {
          "output_type": "stream",
          "name": "stdout",
          "text": [
            "Banana\n",
            "Orange\n",
            "Apple\n",
            "Strawberry\n",
            "Cherry\n",
            "\n"
          ]
        }
      ]
    },
    {
      "cell_type": "code",
      "source": [
        "with open(\"fruits.txt\") as file :\n",
        "    fruits2 = file.readlines()"
      ],
      "metadata": {
        "id": "lOnjg8Vs2vDm"
      },
      "execution_count": 71,
      "outputs": []
    },
    {
      "cell_type": "code",
      "source": [
        "fruits2"
      ],
      "metadata": {
        "colab": {
          "base_uri": "https://localhost:8080/"
        },
        "id": "X8-_jtiy2vG8",
        "outputId": "d02129d4-cdde-487d-b73d-ea8b13246345"
      },
      "execution_count": 72,
      "outputs": [
        {
          "output_type": "execute_result",
          "data": {
            "text/plain": [
              "['Banana\\n', 'Orange\\n', 'Apple\\n', 'Strawberry\\n', 'Cherry\\n']"
            ]
          },
          "metadata": {},
          "execution_count": 72
        }
      ]
    },
    {
      "cell_type": "code",
      "source": [
        "with open(\"fruits2.txt\", \"w\", encoding=\"utf-8\") as ff :\n",
        "    ff.writelines(fruits2)"
      ],
      "metadata": {
        "id": "IbdwXs9M2vKn"
      },
      "execution_count": 77,
      "outputs": []
    },
    {
      "cell_type": "code",
      "source": [
        "fruits2"
      ],
      "metadata": {
        "colab": {
          "base_uri": "https://localhost:8080/"
        },
        "id": "2hI6qSEc2vOI",
        "outputId": "0dacd85f-3311-4621-815c-db73326f5b83"
      },
      "execution_count": 78,
      "outputs": [
        {
          "output_type": "execute_result",
          "data": {
            "text/plain": [
              "['Banana\\n', 'Orange\\n', 'Apple\\n', 'Strawberry\\n', 'Cherry\\n']"
            ]
          },
          "metadata": {},
          "execution_count": 78
        }
      ]
    },
    {
      "cell_type": "code",
      "source": [
        "with open(\"fruits2.txt\", \"r\", encoding=\"utf-8\") as ff :\n",
        "    print(ff.read())"
      ],
      "metadata": {
        "colab": {
          "base_uri": "https://localhost:8080/"
        },
        "id": "ZZqHy9Gb7rds",
        "outputId": "9cc90c84-9986-44a1-c974-6dc5afb27d2e"
      },
      "execution_count": 79,
      "outputs": [
        {
          "output_type": "stream",
          "name": "stdout",
          "text": [
            "Banana\n",
            "Orange\n",
            "Apple\n",
            "Strawberry\n",
            "Cherry\n",
            "\n"
          ]
        }
      ]
    },
    {
      "cell_type": "code",
      "source": [
        "fruits3 = fruits2 + [\"Lemon\"]\n",
        "fruits3"
      ],
      "metadata": {
        "colab": {
          "base_uri": "https://localhost:8080/"
        },
        "id": "ZPEQvEAH7og2",
        "outputId": "fdede0cf-8c38-4a86-fd7c-c7f02c5a0ab2"
      },
      "execution_count": 80,
      "outputs": [
        {
          "output_type": "execute_result",
          "data": {
            "text/plain": [
              "['Banana\\n', 'Orange\\n', 'Apple\\n', 'Strawberry\\n', 'Cherry\\n', 'Lemon']"
            ]
          },
          "metadata": {},
          "execution_count": 80
        }
      ]
    },
    {
      "cell_type": "code",
      "source": [
        "with open(\"fruits3.txt\", \"a\", encoding=\"utf-8\") as ff :\n",
        "   ff.writelines(fruits3)\n",
        "with open(\"fruits3.txt\", \"r\", encoding=\"utf-8\") as ff :\n",
        "   print(ff.read())"
      ],
      "metadata": {
        "colab": {
          "base_uri": "https://localhost:8080/"
        },
        "id": "OlKPGa-87okH",
        "outputId": "4bd9ae99-1002-4b82-d1ca-26c3dfc8aa7b"
      },
      "execution_count": 82,
      "outputs": [
        {
          "output_type": "stream",
          "name": "stdout",
          "text": [
            "Banana\n",
            "Orange\n",
            "Apple\n",
            "Strawberry\n",
            "Cherry\n",
            "LemonBanana\n",
            "Orange\n",
            "Apple\n",
            "Strawberry\n",
            "Cherry\n",
            "Lemon\n"
          ]
        }
      ]
    },
    {
      "cell_type": "code",
      "source": [
        "with open(\"istiklal.txt\", \"r\", encoding=\"utf-8\") as file :\n",
        "  print(file.read())"
      ],
      "metadata": {
        "colab": {
          "base_uri": "https://localhost:8080/"
        },
        "id": "ICZq_T9H7om8",
        "outputId": "5e655a5c-175d-4c66-9931-b8a14111bf48"
      },
      "execution_count": 83,
      "outputs": [
        {
          "output_type": "stream",
          "name": "stdout",
          "text": [
            "Korkma, sönmez bu şafaklarda yüzen al sancak;\n",
            "Sönmeden yurdumun üstünde tüten en son ocak.\n",
            "O benim milletimin yıldızıdır, parlayacak;\n",
            "O benimdir, o benim milletimindir ancak.\n",
            "Çatma, kurban olayım, çehreni ey nazlı hilal!\n",
            "Kahraman ırkıma bir gül! Ne bu şiddet, bu celal?\n",
            "Sana olmaz dökülen kanlarımız sonra helal...\n",
            "Hakkıdır, hakk'a tapan, milletimin istiklal!\n",
            "Ben ezelden beridir hür yaşadım, hür yaşarım.\n",
            "Hangi çılgın bana zincir vuracakmış? Şaşarım!\n",
            "Kükremiş sel gibiyim, bendimi çiğner, aşarım.\n",
            "Yırtarım dağları, enginlere sığmam, taşarım.\n",
            "Garbın afakını sarmışsa çelik zırhlı duvar,\n",
            "Benim iman dolu göğsüm gibi serhaddim var.\n",
            "Ulusun, korkma! Nasıl böyle bir imanı boğar,\n",
            "'Medeniyet!' dediğin tek dişi kalmış canavar?\n",
            "Arkadaş! Yurduma alçakları uğratma, sakın.\n",
            "Siper et gövdeni, dursun bu hayasızca akın.\n",
            "Doğacaktır sana va'dettigi günler hakk'ın...\n",
            "Kim bilir, belki yarın, belki yarından da yakın.\n",
            "Bastığın yerleri 'toprak!' diyerek geçme, tanı:\n",
            "Düşün altında binlerce kefensiz yatanı.\n",
            "Sen şehit oğlusun, incitme, yazıktır, atanı:\n",
            "Verme, dünyaları alsan da, bu cennet vatanı.\n",
            "Kim bu cennet vatanın uğruna olmaz ki feda?\n",
            "Şuheda fışkıracak toprağı sıksan, şuheda!\n",
            "Canı, cananı, bütün varımı alsın da hüda,\n",
            "Etmesin tek vatanımdan beni dünyada cüda.\n",
            "Ruhumun senden, ilahi, şudur ancak emeli:\n",
            "Değmesin mabedimin göğsüne namahrem eli.\n",
            "Bu ezanlar-ki şahadetleri dinin temeli,\n",
            "Ebedi yurdumun üstünde benim inlemeli.\n",
            "\n"
          ]
        }
      ]
    },
    {
      "cell_type": "code",
      "source": [
        "with open(\"istiklal.txt\", \"r\", encoding=\"utf-8\") as file :\n",
        "  lines = file.readlines()"
      ],
      "metadata": {
        "id": "Qpv2_lDv7oqF"
      },
      "execution_count": 90,
      "outputs": []
    },
    {
      "cell_type": "code",
      "source": [
        "lines"
      ],
      "metadata": {
        "colab": {
          "base_uri": "https://localhost:8080/"
        },
        "id": "UiPuFnyv_bND",
        "outputId": "c8196101-6b28-40bf-89d2-9a352dbb822a"
      },
      "execution_count": 91,
      "outputs": [
        {
          "output_type": "execute_result",
          "data": {
            "text/plain": [
              "['Korkma, sönmez bu şafaklarda yüzen al sancak;\\n',\n",
              " 'Sönmeden yurdumun üstünde tüten en son ocak.\\n',\n",
              " 'O benim milletimin yıldızıdır, parlayacak;\\n',\n",
              " 'O benimdir, o benim milletimindir ancak.\\n',\n",
              " 'Çatma, kurban olayım, çehreni ey nazlı hilal!\\n',\n",
              " 'Kahraman ırkıma bir gül! Ne bu şiddet, bu celal?\\n',\n",
              " 'Sana olmaz dökülen kanlarımız sonra helal...\\n',\n",
              " \"Hakkıdır, hakk'a tapan, milletimin istiklal!\\n\",\n",
              " 'Ben ezelden beridir hür yaşadım, hür yaşarım.\\n',\n",
              " 'Hangi çılgın bana zincir vuracakmış? Şaşarım!\\n',\n",
              " 'Kükremiş sel gibiyim, bendimi çiğner, aşarım.\\n',\n",
              " 'Yırtarım dağları, enginlere sığmam, taşarım.\\n',\n",
              " 'Garbın afakını sarmışsa çelik zırhlı duvar,\\n',\n",
              " 'Benim iman dolu göğsüm gibi serhaddim var.\\n',\n",
              " 'Ulusun, korkma! Nasıl böyle bir imanı boğar,\\n',\n",
              " \"'Medeniyet!' dediğin tek dişi kalmış canavar?\\n\",\n",
              " 'Arkadaş! Yurduma alçakları uğratma, sakın.\\n',\n",
              " 'Siper et gövdeni, dursun bu hayasızca akın.\\n',\n",
              " \"Doğacaktır sana va'dettigi günler hakk'ın...\\n\",\n",
              " 'Kim bilir, belki yarın, belki yarından da yakın.\\n',\n",
              " \"Bastığın yerleri 'toprak!' diyerek geçme, tanı:\\n\",\n",
              " 'Düşün altında binlerce kefensiz yatanı.\\n',\n",
              " 'Sen şehit oğlusun, incitme, yazıktır, atanı:\\n',\n",
              " 'Verme, dünyaları alsan da, bu cennet vatanı.\\n',\n",
              " 'Kim bu cennet vatanın uğruna olmaz ki feda?\\n',\n",
              " 'Şuheda fışkıracak toprağı sıksan, şuheda!\\n',\n",
              " 'Canı, cananı, bütün varımı alsın da hüda,\\n',\n",
              " 'Etmesin tek vatanımdan beni dünyada cüda.\\n',\n",
              " 'Ruhumun senden, ilahi, şudur ancak emeli:\\n',\n",
              " 'Değmesin mabedimin göğsüne namahrem eli.\\n',\n",
              " 'Bu ezanlar-ki şahadetleri dinin temeli,\\n',\n",
              " 'Ebedi yurdumun üstünde benim inlemeli.\\n']"
            ]
          },
          "metadata": {},
          "execution_count": 91
        }
      ]
    },
    {
      "cell_type": "code",
      "source": [
        "counter = 0\n",
        "with open(\"istiklal.txt\", \"w\", encoding=\"utf-8\") as file :\n",
        "    \n",
        "    for i in lines :\n",
        "      counter += 1\n",
        "      if counter % 4 == 0 :\n",
        "        file.write(i + \"\\n\")\n",
        "      \n",
        "      else :\n",
        "        file.write( i )\n",
        "\n",
        "with open(\"istiklal.txt\", \"r\", encoding=\"utf-8\") as f :\n",
        "   print(f.read())"
      ],
      "metadata": {
        "colab": {
          "base_uri": "https://localhost:8080/"
        },
        "id": "8gzXMOe1_lxz",
        "outputId": "5b869549-d578-4e84-b7ce-19baf8b0e7a0"
      },
      "execution_count": 93,
      "outputs": [
        {
          "output_type": "stream",
          "name": "stdout",
          "text": [
            "Korkma, sönmez bu şafaklarda yüzen al sancak;\n",
            "Sönmeden yurdumun üstünde tüten en son ocak.\n",
            "O benim milletimin yıldızıdır, parlayacak;\n",
            "O benimdir, o benim milletimindir ancak.\n",
            "\n",
            "Çatma, kurban olayım, çehreni ey nazlı hilal!\n",
            "Kahraman ırkıma bir gül! Ne bu şiddet, bu celal?\n",
            "Sana olmaz dökülen kanlarımız sonra helal...\n",
            "Hakkıdır, hakk'a tapan, milletimin istiklal!\n",
            "\n",
            "Ben ezelden beridir hür yaşadım, hür yaşarım.\n",
            "Hangi çılgın bana zincir vuracakmış? Şaşarım!\n",
            "Kükremiş sel gibiyim, bendimi çiğner, aşarım.\n",
            "Yırtarım dağları, enginlere sığmam, taşarım.\n",
            "\n",
            "Garbın afakını sarmışsa çelik zırhlı duvar,\n",
            "Benim iman dolu göğsüm gibi serhaddim var.\n",
            "Ulusun, korkma! Nasıl böyle bir imanı boğar,\n",
            "'Medeniyet!' dediğin tek dişi kalmış canavar?\n",
            "\n",
            "Arkadaş! Yurduma alçakları uğratma, sakın.\n",
            "Siper et gövdeni, dursun bu hayasızca akın.\n",
            "Doğacaktır sana va'dettigi günler hakk'ın...\n",
            "Kim bilir, belki yarın, belki yarından da yakın.\n",
            "\n",
            "Bastığın yerleri 'toprak!' diyerek geçme, tanı:\n",
            "Düşün altında binlerce kefensiz yatanı.\n",
            "Sen şehit oğlusun, incitme, yazıktır, atanı:\n",
            "Verme, dünyaları alsan da, bu cennet vatanı.\n",
            "\n",
            "Kim bu cennet vatanın uğruna olmaz ki feda?\n",
            "Şuheda fışkıracak toprağı sıksan, şuheda!\n",
            "Canı, cananı, bütün varımı alsın da hüda,\n",
            "Etmesin tek vatanımdan beni dünyada cüda.\n",
            "\n",
            "Ruhumun senden, ilahi, şudur ancak emeli:\n",
            "Değmesin mabedimin göğsüne namahrem eli.\n",
            "Bu ezanlar-ki şahadetleri dinin temeli,\n",
            "Ebedi yurdumun üstünde benim inlemeli.\n",
            "\n",
            "\n"
          ]
        }
      ]
    },
    {
      "cell_type": "code",
      "source": [
        ""
      ],
      "metadata": {
        "id": "0jaG7BFG_lnC"
      },
      "execution_count": null,
      "outputs": []
    },
    {
      "cell_type": "code",
      "source": [
        ""
      ],
      "metadata": {
        "id": "cM1OjtJP_ljs"
      },
      "execution_count": null,
      "outputs": []
    },
    {
      "cell_type": "code",
      "source": [
        "file = open(\"istiklal.txt\", \"r\")\n",
        "print(file.readline())\n",
        "print(file.readline())\n",
        "print(file.readline())\n",
        "print(file.readline())\n",
        "file.close()\n",
        "print(file.readline())\n",
        "print(file.readline())\n",
        "print(file.readline())\n",
        "print(file.readline())"
      ],
      "metadata": {
        "id": "xeC77wU49cUb"
      },
      "execution_count": null,
      "outputs": []
    },
    {
      "cell_type": "code",
      "source": [
        "with open(\"istiklal.txt\", \"r\", encoding = \"utf-8\") as ff :\n",
        "  count = 0\n",
        "  for i in ff :\n",
        "    if count <=4 :\n",
        "      print(ff.readline())\n",
        "      count += 1"
      ],
      "metadata": {
        "colab": {
          "base_uri": "https://localhost:8080/"
        },
        "id": "KevaMnPu9cXd",
        "outputId": "9eef5eb7-9a9b-4ab3-8061-152c4f78a2c7"
      },
      "execution_count": 89,
      "outputs": [
        {
          "output_type": "stream",
          "name": "stdout",
          "text": [
            "Sönmeden yurdumun üstünde tüten en son ocak.\n",
            "\n",
            "O benimdir, o benim milletimindir ancak.\n",
            "\n",
            "Kahraman ırkıma bir gül! Ne bu şiddet, bu celal?\n",
            "\n",
            "Hakkıdır, hakk'a tapan, milletimin istiklal!\n",
            "\n",
            "Hangi çılgın bana zincir vuracakmış? Şaşarım!\n",
            "\n"
          ]
        }
      ]
    },
    {
      "cell_type": "code",
      "source": [
        ""
      ],
      "metadata": {
        "id": "SMpTXIQh9caV"
      },
      "execution_count": null,
      "outputs": []
    },
    {
      "cell_type": "code",
      "source": [
        ""
      ],
      "metadata": {
        "id": "DIb2MGUi9cdD"
      },
      "execution_count": null,
      "outputs": []
    },
    {
      "cell_type": "code",
      "source": [
        ""
      ],
      "metadata": {
        "id": "8Ju4N1wP9cfv"
      },
      "execution_count": null,
      "outputs": []
    },
    {
      "cell_type": "code",
      "source": [
        ""
      ],
      "metadata": {
        "id": "vaH5h1gG9cjl"
      },
      "execution_count": null,
      "outputs": []
    },
    {
      "cell_type": "code",
      "source": [
        ""
      ],
      "metadata": {
        "id": "6p8_l7Vb9cnu"
      },
      "execution_count": null,
      "outputs": []
    },
    {
      "cell_type": "code",
      "source": [
        ""
      ],
      "metadata": {
        "id": "iKQErOW17osF"
      },
      "execution_count": null,
      "outputs": []
    }
  ]
}